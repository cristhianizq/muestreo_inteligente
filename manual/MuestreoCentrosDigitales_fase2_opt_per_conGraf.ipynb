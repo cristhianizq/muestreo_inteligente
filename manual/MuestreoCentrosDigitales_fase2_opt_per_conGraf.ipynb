{
 "cells": [
  {
   "cell_type": "markdown",
   "id": "933ba512",
   "metadata": {},
   "source": [
    "# Muestreo Centros Digitales"
   ]
  },
  {
   "cell_type": "markdown",
   "id": "e94f2fc2",
   "metadata": {},
   "source": [
    "### Cambios en esta versión\n",
    "* Agregar Restricciones\n",
    " * No más de 18 aps del mismo Beam satelital en la misma hora\n",
    " * Asegurar que exista en cada hora un ap de diferentes franjas de banda\n",
    "* Nueva versión de la lógica de asignación de muestras"
   ]
  },
  {
   "cell_type": "code",
   "execution_count": 1,
   "id": "defd4fcf",
   "metadata": {},
   "outputs": [],
   "source": [
    "import pandas as pd\n",
    "import numpy as np\n",
    "from matplotlib import pyplot as plt\n",
    "from datetime import date\n",
    "import datetime"
   ]
  },
  {
   "cell_type": "code",
   "execution_count": 2,
   "id": "99db8aee",
   "metadata": {},
   "outputs": [],
   "source": [
    "import warnings\n",
    "warnings.filterwarnings('ignore')"
   ]
  },
  {
   "cell_type": "code",
   "execution_count": 3,
   "id": "b81a06b3",
   "metadata": {},
   "outputs": [
    {
     "data": {
      "text/html": [
       "<style>.container { width:100% !important; }</style>"
      ],
      "text/plain": [
       "<IPython.core.display.HTML object>"
      ]
     },
     "metadata": {},
     "output_type": "display_data"
    }
   ],
   "source": [
    "from IPython.core.display import display, HTML\n",
    "display(HTML(\"<style>.container { width:100% !important; }</style>\"))"
   ]
  },
  {
   "cell_type": "markdown",
   "id": "1fa3de22",
   "metadata": {},
   "source": [
    "## Parámetro para definir el medio de carga de datos"
   ]
  },
  {
   "cell_type": "code",
   "execution_count": 4,
   "id": "8f1b8351",
   "metadata": {},
   "outputs": [],
   "source": [
    "formas_de_ingreso=['db','archivos']\n",
    "modoIngresoInformacion=formas_de_ingreso[1] #cambia a 1 si se usan archivos"
   ]
  },
  {
   "cell_type": "markdown",
   "id": "fc2bc8ff",
   "metadata": {},
   "source": [
    "## Lectura Bases de datos"
   ]
  },
  {
   "cell_type": "code",
   "execution_count": 5,
   "id": "9f81f8e3",
   "metadata": {},
   "outputs": [],
   "source": [
    "if modoIngresoInformacion== 'db':\n",
    "    ## Llamado funcion para consulta y parametros\n",
    "    #from get_data_from_db import *\n",
    "    #registros, aps_operativos, num_aps, num_muestras_hora=GetDataFromDB()\n",
    "    #Data=pd.DataFrame.from_records(registros)\n",
    "    #Carga Archivos Prueba\n",
    "    Data = pd.read_csv(f'query-Muestras-SQL.csv', sep=';')\n",
    "    num_aps=Data['ID'].nunique()\n",
    "    num_muestras_hora=int(num_aps*0.1)+1\n",
    "    print(num_aps,num_muestras_hora)"
   ]
  },
  {
   "cell_type": "markdown",
   "id": "6f537577",
   "metadata": {},
   "source": [
    "## Lectura Archivos\n",
    "###### Codigo para realizar el proceso con lectura de archivos"
   ]
  },
  {
   "cell_type": "code",
   "execution_count": 6,
   "id": "9113143e",
   "metadata": {},
   "outputs": [],
   "source": [
    "if modoIngresoInformacion== 'archivos':\n",
    "    #DataAnterior = pd.read_csv(f'DATA_ACUMULADA.csv', sep=';')\n",
    "    DataAnterior = pd.read_csv(f'Ejecuciones mensuales - Reporte plano_old.csv',sep=\";\", decimal=',', encoding='ISO-8859-1')\n",
    "    DataMesActual = pd.read_csv(f'Ejecuciones mensuales - Reporte plano.csv',sep=\";\", decimal=',', encoding='ISO-8859-1')\n",
    "    DataAnteriorB2 =pd.read_csv(f'Analitica Pruebas Adicionales TEST_STDB_old.csv',sep=\";\", decimal=',', encoding='ISO-8859-1')\n",
    "    DataMesActualB2 =pd.read_csv(f'Analitica Pruebas Adicionales TEST_STDB.csv',sep=\";\", decimal=',', encoding='ISO-8859-1')\n",
    "    \n",
    "    DataMesActual['BASE']='principal'\n",
    "    DataAnterior['BASE']='principal'\n",
    "    DataMesActualB2['BASE']='adicional'\n",
    "    DataAnteriorB2['BASE']='adicional'\n",
    "    \n",
    "    centrosA1=pd.read_csv(f'CLASE_CENTROS.csv',sep=\";\")\n",
    "    centrosA1=centrosA1[centrosA1['TIPO']=='1A']\n",
    "    centrosA1.drop(columns=['ID'], inplace=True)\n",
    "    #DataAnterior['FECHA']=pd.to_datetime(DataAnterior['FECHA'],dayfirst=True)#valores por defecto    \n",
    "    Data=DataAnterior.append(DataMesActual)\n",
    "    Data=Data.append(DataAnteriorB2)\n",
    "    Data=Data.append(DataMesActualB2)\n",
    "    \n",
    "    columnasSeleccionadas=[ 'ID Beneficiario','Perfil Ancho de banda', 'Kbps de Subida','Kbps de Bajada','Fecha de la prueba','Hora de la prueba','Condición Encontrada',\n",
    "                           'Velocidad Efectiva (Download)','Velocidad Efectiva (Upload)','Cumple Ancho de Banda', 'Cumple BW de Bajada','Cumple BW de Subida','BASE']\n",
    "    Data=Data[columnasSeleccionadas]\n",
    "    Data.columns=[\"ID\",\"BANDA\",\"SUBIDA_LIM\",\"BAJADA_LIM\",\"FECHA\",\"HORA\",\"CONDICION\",\"VELOCIDAD_BAJADA\",\"VELOCIDAD_SUBIDA\",\"CUMPLE_BANDA\",\"CUMPLE_SUBIDA\",\"CUMPLE_BAJADA\",'BASE']\n",
    "    #Data=DataAnterior.append(DataMesActual)\n",
    "    Data=Data.merge(centrosA1[['ID BENEFICIARIO','ESTADO']], left_on='ID', right_on='ID BENEFICIARIO', how='inner')\n",
    "    Data.drop(columns=['ID BENEFICIARIO','ESTADO'],inplace=True)\n",
    "    #parametros de los archivos    \n",
    "    num_aps=Data['ID'].nunique()\n",
    "    num_muestras_hora=int(num_aps*0.1)+1"
   ]
  },
  {
   "cell_type": "code",
   "execution_count": 7,
   "id": "627ea9af",
   "metadata": {},
   "outputs": [],
   "source": [
    "num_horas=15"
   ]
  },
  {
   "cell_type": "markdown",
   "id": "7b5a0a97",
   "metadata": {},
   "source": [
    "### Leer Archivo Festivos"
   ]
  },
  {
   "cell_type": "code",
   "execution_count": 8,
   "id": "ea3c8369",
   "metadata": {},
   "outputs": [],
   "source": [
    "ubicacionArchivoFestivos=\"F:/Workflow/Projects\\MinTIC_SpeedTest/ProcessScripts/\"\n",
    "ubicacionArchivoFestivos=\"\" #en caso de no ejecutar en el servidor\n",
    "diasFestivos=pd.read_csv(f'{ubicacionArchivoFestivos}initialize-general-list-holidays.csv',sep=\";\")\n",
    "diasFestivos['fecha']=pd.to_datetime(diasFestivos[['YEAR', 'MONTH', 'DAY']])"
   ]
  },
  {
   "cell_type": "markdown",
   "id": "e24d016b",
   "metadata": {},
   "source": [
    "### Preprocesamiento"
   ]
  },
  {
   "cell_type": "code",
   "execution_count": 9,
   "id": "c4286428",
   "metadata": {},
   "outputs": [],
   "source": [
    "Data['FECHA']=pd.to_datetime(Data['FECHA']).dt.date\n",
    "Data['FECHA']=pd.to_datetime(Data['FECHA'])\n",
    "maxFecha=Data['FECHA'].max()\n",
    "minFecha=maxFecha + datetime.timedelta(days=-14)\n",
    "minFechaFDS=maxFecha + datetime.timedelta(days=-28)"
   ]
  },
  {
   "cell_type": "code",
   "execution_count": 10,
   "id": "c4a41fa8",
   "metadata": {},
   "outputs": [],
   "source": [
    "Data['DIA_S']=Data['FECHA'].dt.dayofweek\n",
    "Data['FILTRO']=Data['DIA_S'].isin([5,6])\n",
    "Data['FILTRO']=np.where(Data['DIA_S'].isin([5,6]) , 'fds','hab')\n",
    "Data['FILTRO']=np.where(Data['FECHA'].isin(diasFestivos['fecha']),'fds',Data['FILTRO'])"
   ]
  },
  {
   "cell_type": "code",
   "execution_count": 11,
   "id": "9aec37f0",
   "metadata": {},
   "outputs": [],
   "source": [
    "Data.drop_duplicates(subset=[\"ID\",\"BANDA\",\"SUBIDA_LIM\",\"BAJADA_LIM\",\"FECHA\",\"HORA\",\"CONDICION\",\"VELOCIDAD_BAJADA\",\"VELOCIDAD_SUBIDA\",\"CUMPLE_BANDA\",\"CUMPLE_SUBIDA\",\"CUMPLE_BAJADA\"],keep='first', inplace=True)"
   ]
  },
  {
   "cell_type": "code",
   "execution_count": 12,
   "id": "350b34d1",
   "metadata": {},
   "outputs": [],
   "source": [
    "Data=Data[(Data['HORA']>=6)&(Data['HORA']<=20)]"
   ]
  },
  {
   "cell_type": "code",
   "execution_count": 13,
   "id": "fe39ba94",
   "metadata": {},
   "outputs": [],
   "source": [
    "DataTotal=Data.copy()"
   ]
  },
  {
   "cell_type": "code",
   "execution_count": 14,
   "id": "f3e245ce",
   "metadata": {},
   "outputs": [],
   "source": [
    "Data=Data[(Data['FECHA']>=minFecha)&(Data['FECHA']<maxFecha)]"
   ]
  },
  {
   "cell_type": "markdown",
   "id": "b86c6ceb",
   "metadata": {},
   "source": [
    "##  Resumenes validación"
   ]
  },
  {
   "cell_type": "code",
   "execution_count": 15,
   "id": "343adb41",
   "metadata": {},
   "outputs": [],
   "source": [
    "def pieChart(col):\n",
    "    A = col.value_counts()\n",
    "    indices = A.index\n",
    "    plt.pie(A, labels=indices, autopct=\"%0.0f %%\", colors=['dodgerblue','red'])\n",
    "    plt.axis(\"equal\")\n",
    "    plt.show()    "
   ]
  },
  {
   "cell_type": "code",
   "execution_count": 16,
   "id": "ec6ffd06",
   "metadata": {},
   "outputs": [
    {
     "data": {
      "text/plain": [
       "E    13316\n",
       "F     3454\n",
       "Name: CONDICION, dtype: int64"
      ]
     },
     "execution_count": 16,
     "metadata": {},
     "output_type": "execute_result"
    }
   ],
   "source": [
    "## TORTA 1\n",
    "Data[Data['BASE']=='principal']['CONDICION'].value_counts()"
   ]
  },
  {
   "cell_type": "code",
   "execution_count": 17,
   "id": "685c7a6f",
   "metadata": {},
   "outputs": [
    {
     "data": {
      "text/plain": [
       "E    0.794037\n",
       "F    0.205963\n",
       "Name: CONDICION, dtype: float64"
      ]
     },
     "execution_count": 17,
     "metadata": {},
     "output_type": "execute_result"
    }
   ],
   "source": [
    "Data[Data['BASE']=='principal']['CONDICION'].value_counts()/len(Data[Data['BASE']=='principal'])"
   ]
  },
  {
   "cell_type": "code",
   "execution_count": 18,
   "id": "2091e951",
   "metadata": {},
   "outputs": [
    {
     "data": {
      "image/png": "[encoded data removed]",
      "text/plain": [
       "<Figure size 432x288 with 1 Axes>"
      ]
     },
     "metadata": {},
     "output_type": "display_data"
    }
   ],
   "source": [
    "pieChart(Data[Data['BASE']=='principal']['CONDICION'])"
   ]
  },
  {
   "cell_type": "code",
   "execution_count": 19,
   "id": "5fa0bdb6",
   "metadata": {},
   "outputs": [],
   "source": [
    "DataExito=Data[Data['CONDICION']=='E']"
   ]
  },
  {
   "cell_type": "code",
   "execution_count": 20,
   "id": "3715197a",
   "metadata": {},
   "outputs": [
    {
     "data": {
      "text/plain": [
       "SI    10572\n",
       "NO     2744\n",
       "Name: CUMPLE_BANDA, dtype: int64"
      ]
     },
     "execution_count": 20,
     "metadata": {},
     "output_type": "execute_result"
    }
   ],
   "source": [
    "## TORTA 2\n",
    "DataExito[Data['BASE']=='principal']['CUMPLE_BANDA'].value_counts()"
   ]
  },
  {
   "cell_type": "code",
   "execution_count": 21,
   "id": "d2104338",
   "metadata": {},
   "outputs": [
    {
     "data": {
      "text/plain": [
       "SI    0.200641\n",
       "NO    0.052077\n",
       "Name: CUMPLE_BANDA, dtype: float64"
      ]
     },
     "execution_count": 21,
     "metadata": {},
     "output_type": "execute_result"
    }
   ],
   "source": [
    "DataExito[Data['BASE']=='principal']['CUMPLE_BANDA'].value_counts()/len(DataExito)"
   ]
  },
  {
   "cell_type": "code",
   "execution_count": 22,
   "id": "858d46c7",
   "metadata": {
    "scrolled": true
   },
   "outputs": [
    {
     "data": {
      "image/png": "[encoded data removed]",
      "text/plain": [
       "<Figure size 432x288 with 1 Axes>"
      ]
     },
     "metadata": {},
     "output_type": "display_data"
    }
   ],
   "source": [
    "pieChart(DataExito[Data['BASE']=='principal']['CUMPLE_BANDA'])"
   ]
  },
  {
   "cell_type": "code",
   "execution_count": 23,
   "id": "c4e440aa",
   "metadata": {},
   "outputs": [
    {
     "data": {
      "text/plain": [
       "SI    0.838165\n",
       "NO    0.161835\n",
       "Name: CUMPLE_SUBIDA, dtype: float64"
      ]
     },
     "execution_count": 23,
     "metadata": {},
     "output_type": "execute_result"
    }
   ],
   "source": [
    "DataExito[Data['BASE']=='principal']['CUMPLE_SUBIDA'].value_counts()/len(DataExito[Data['BASE']=='principal'])"
   ]
  },
  {
   "cell_type": "code",
   "execution_count": 24,
   "id": "8e18f176",
   "metadata": {},
   "outputs": [
    {
     "data": {
      "text/plain": [
       "SI    0.920847\n",
       "NO    0.079153\n",
       "Name: CUMPLE_BAJADA, dtype: float64"
      ]
     },
     "execution_count": 24,
     "metadata": {},
     "output_type": "execute_result"
    }
   ],
   "source": [
    "DataExito[Data['BASE']=='principal']['CUMPLE_BAJADA'].value_counts()/len(DataExito[Data['BASE']=='principal'])"
   ]
  },
  {
   "cell_type": "code",
   "execution_count": 25,
   "id": "0c90d1c7",
   "metadata": {},
   "outputs": [
    {
     "data": {
      "text/plain": [
       "702"
      ]
     },
     "execution_count": 25,
     "metadata": {},
     "output_type": "execute_result"
    }
   ],
   "source": [
    "#conteo centros con exito\n",
    "DataExito[Data['BASE']=='principal']['ID'].nunique()"
   ]
  },
  {
   "cell_type": "code",
   "execution_count": 26,
   "id": "d668c568",
   "metadata": {},
   "outputs": [
    {
     "data": {
      "text/plain": [
       "56"
      ]
     },
     "execution_count": 26,
     "metadata": {},
     "output_type": "execute_result"
    }
   ],
   "source": [
    "#conteo centrol críticos\n",
    "num_aps-DataExito[Data['BASE']=='principal']['ID'].nunique()"
   ]
  },
  {
   "cell_type": "code",
   "execution_count": 27,
   "id": "436c32ee",
   "metadata": {},
   "outputs": [],
   "source": [
    "###  GRAFICO"
   ]
  },
  {
   "cell_type": "code",
   "execution_count": 28,
   "id": "b311fc4a",
   "metadata": {},
   "outputs": [],
   "source": [
    "res_hora_cumple_Banda=pd.crosstab(index=DataExito['HORA'],\n",
    "            columns=DataExito['CUMPLE_BANDA'], margins=True)"
   ]
  },
  {
   "cell_type": "code",
   "execution_count": 29,
   "id": "e8677194",
   "metadata": {},
   "outputs": [],
   "source": [
    "res_hora_cumple_Banda['NO']=res_hora_cumple_Banda['NO']/res_hora_cumple_Banda['All']\n",
    "res_hora_cumple_Banda['SI']=res_hora_cumple_Banda['SI']/res_hora_cumple_Banda['All']"
   ]
  },
  {
   "cell_type": "code",
   "execution_count": 30,
   "id": "41be190d",
   "metadata": {
    "scrolled": true
   },
   "outputs": [
    {
     "data": {
      "text/html": [
       "<div>\n",
       "<style scoped>\n",
       "    .dataframe tbody tr th:only-of-type {\n",
       "        vertical-align: middle;\n",
       "    }\n",
       "\n",
       "    .dataframe tbody tr th {\n",
       "        vertical-align: top;\n",
       "    }\n",
       "\n",
       "    .dataframe thead th {\n",
       "        text-align: right;\n",
       "    }\n",
       "</style>\n",
       "<table border=\"1\" class=\"dataframe\">\n",
       "  <thead>\n",
       "    <tr style=\"text-align: right;\">\n",
       "      <th>CUMPLE_BANDA</th>\n",
       "      <th>NO</th>\n",
       "      <th>SI</th>\n",
       "    </tr>\n",
       "    <tr>\n",
       "      <th>HORA</th>\n",
       "      <th></th>\n",
       "      <th></th>\n",
       "    </tr>\n",
       "  </thead>\n",
       "  <tbody>\n",
       "    <tr>\n",
       "      <th>6</th>\n",
       "      <td>0.125182</td>\n",
       "      <td>0.874818</td>\n",
       "    </tr>\n",
       "    <tr>\n",
       "      <th>7</th>\n",
       "      <td>0.156656</td>\n",
       "      <td>0.843344</td>\n",
       "    </tr>\n",
       "    <tr>\n",
       "      <th>8</th>\n",
       "      <td>0.158792</td>\n",
       "      <td>0.841208</td>\n",
       "    </tr>\n",
       "    <tr>\n",
       "      <th>9</th>\n",
       "      <td>0.186060</td>\n",
       "      <td>0.813940</td>\n",
       "    </tr>\n",
       "    <tr>\n",
       "      <th>10</th>\n",
       "      <td>0.180776</td>\n",
       "      <td>0.819224</td>\n",
       "    </tr>\n",
       "    <tr>\n",
       "      <th>11</th>\n",
       "      <td>0.187585</td>\n",
       "      <td>0.812415</td>\n",
       "    </tr>\n",
       "    <tr>\n",
       "      <th>12</th>\n",
       "      <td>0.193858</td>\n",
       "      <td>0.806142</td>\n",
       "    </tr>\n",
       "    <tr>\n",
       "      <th>13</th>\n",
       "      <td>0.205305</td>\n",
       "      <td>0.794695</td>\n",
       "    </tr>\n",
       "    <tr>\n",
       "      <th>14</th>\n",
       "      <td>0.206446</td>\n",
       "      <td>0.793554</td>\n",
       "    </tr>\n",
       "    <tr>\n",
       "      <th>15</th>\n",
       "      <td>0.205432</td>\n",
       "      <td>0.794568</td>\n",
       "    </tr>\n",
       "    <tr>\n",
       "      <th>16</th>\n",
       "      <td>0.190579</td>\n",
       "      <td>0.809421</td>\n",
       "    </tr>\n",
       "    <tr>\n",
       "      <th>17</th>\n",
       "      <td>0.193886</td>\n",
       "      <td>0.806114</td>\n",
       "    </tr>\n",
       "    <tr>\n",
       "      <th>18</th>\n",
       "      <td>0.195306</td>\n",
       "      <td>0.804694</td>\n",
       "    </tr>\n",
       "    <tr>\n",
       "      <th>19</th>\n",
       "      <td>0.277490</td>\n",
       "      <td>0.722510</td>\n",
       "    </tr>\n",
       "    <tr>\n",
       "      <th>20</th>\n",
       "      <td>0.276460</td>\n",
       "      <td>0.723540</td>\n",
       "    </tr>\n",
       "    <tr>\n",
       "      <th>All</th>\n",
       "      <td>0.196409</td>\n",
       "      <td>0.803591</td>\n",
       "    </tr>\n",
       "  </tbody>\n",
       "</table>\n",
       "</div>"
      ],
      "text/plain": [
       "CUMPLE_BANDA        NO        SI\n",
       "HORA                            \n",
       "6             0.125182  0.874818\n",
       "7             0.156656  0.843344\n",
       "8             0.158792  0.841208\n",
       "9             0.186060  0.813940\n",
       "10            0.180776  0.819224\n",
       "11            0.187585  0.812415\n",
       "12            0.193858  0.806142\n",
       "13            0.205305  0.794695\n",
       "14            0.206446  0.793554\n",
       "15            0.205432  0.794568\n",
       "16            0.190579  0.809421\n",
       "17            0.193886  0.806114\n",
       "18            0.195306  0.804694\n",
       "19            0.277490  0.722510\n",
       "20            0.276460  0.723540\n",
       "All           0.196409  0.803591"
      ]
     },
     "execution_count": 30,
     "metadata": {},
     "output_type": "execute_result"
    }
   ],
   "source": [
    "pd.crosstab(index=DataExito['HORA'],\n",
    "            columns=DataExito['CUMPLE_BANDA'], margins=True, normalize='index')"
   ]
  },
  {
   "cell_type": "markdown",
   "id": "cb55f19e",
   "metadata": {},
   "source": [
    "#### Gráfico"
   ]
  },
  {
   "cell_type": "code",
   "execution_count": 31,
   "id": "a995c0cc",
   "metadata": {},
   "outputs": [],
   "source": [
    "res_grafico=pd.pivot_table(Data[Data['BASE']=='principal'].groupby(['BANDA','HORA','CUMPLE_BANDA'])['ID'].count().reset_index(), index=['BANDA','HORA'],columns=['CUMPLE_BANDA'], values='ID', aggfunc=np.sum, fill_value=0)"
   ]
  },
  {
   "cell_type": "code",
   "execution_count": 32,
   "id": "cd77775e",
   "metadata": {},
   "outputs": [],
   "source": [
    "res_grafico['TOTAL']=res_grafico.sum(axis=1)"
   ]
  },
  {
   "cell_type": "code",
   "execution_count": 33,
   "id": "c6a40026",
   "metadata": {},
   "outputs": [],
   "source": [
    "res_grafico['PORCF']=res_grafico['SI']/res_grafico['TOTAL']"
   ]
  },
  {
   "cell_type": "code",
   "execution_count": 34,
   "id": "8c028df0",
   "metadata": {},
   "outputs": [],
   "source": [
    "res_grafico.reset_index(inplace=True)"
   ]
  },
  {
   "cell_type": "code",
   "execution_count": 35,
   "id": "958ccbb4",
   "metadata": {},
   "outputs": [
    {
     "data": {
      "image/png": "[encoded data removed]",
      "text/plain": [
       "<Figure size 432x288 with 1 Axes>"
      ]
     },
     "metadata": {
      "needs_background": "light"
     },
     "output_type": "display_data"
    }
   ],
   "source": [
    "fig, ax = plt.subplots()\n",
    "for label, grp in res_grafico.groupby('BANDA'):\n",
    "    grp.plot(x = 'HORA', y = 'PORCF',ax = ax, label = label)"
   ]
  },
  {
   "cell_type": "code",
   "execution_count": 36,
   "id": "cccaaf06",
   "metadata": {},
   "outputs": [],
   "source": [
    "res_grafico.to_csv('grafica.csv')"
   ]
  },
  {
   "cell_type": "code",
   "execution_count": 37,
   "id": "309bc3d9",
   "metadata": {},
   "outputs": [],
   "source": [
    "def quantiles_adaptados(x):\n",
    "    conteo=x.count()\n",
    "    if conteo<=5:\n",
    "        return x.quantile(0.5)\n",
    "    elif conteo<=10:\n",
    "        return x.quantile(0.2)\n",
    "    else:\n",
    "        return x.quantile(0.1)"
   ]
  },
  {
   "cell_type": "markdown",
   "id": "8afa2dc0",
   "metadata": {},
   "source": [
    "### Archivos de Resumen"
   ]
  },
  {
   "cell_type": "code",
   "execution_count": 38,
   "id": "ee347404",
   "metadata": {},
   "outputs": [],
   "source": [
    "today = date.today()\n",
    "D=today.day\n",
    "M=today.month\n",
    "Y=today.year"
   ]
  },
  {
   "cell_type": "markdown",
   "id": "f04b23fa",
   "metadata": {},
   "source": [
    "# Habiles"
   ]
  },
  {
   "cell_type": "code",
   "execution_count": 39,
   "id": "6cd6a2ac",
   "metadata": {},
   "outputs": [],
   "source": [
    "Data_Habil= Data[(Data['BASE']=='principal')&(Data['FILTRO']=='hab')].groupby(['ID','HORA']).agg(\n",
    "                CONTEO=('ID','count'),\n",
    "                SUBIDA=('VELOCIDAD_SUBIDA', quantiles_adaptados),\n",
    "                BAJADA=('VELOCIDAD_BAJADA', quantiles_adaptados)\n",
    "            )"
   ]
  },
  {
   "cell_type": "code",
   "execution_count": 40,
   "id": "1aa6b3fd",
   "metadata": {},
   "outputs": [],
   "source": [
    "Data_Habil.reset_index(inplace=True)\n",
    "BANDA=Data[['ID','BANDA','SUBIDA_LIM','BAJADA_LIM']].drop_duplicates(subset='ID',keep='last')\n",
    "Data_Habil=Data_Habil.merge(BANDA,left_on='ID',right_on='ID', how='left')\n",
    "Data_Habil.rename(columns={'BAJADA_LIM':'BAJA','SUBIDA_LIM':'SUBE','BAJADA':'BAJA_R','SUBIDA':'SUBE_R'}, inplace=True)\n",
    "Data_Habil=Data_Habil[['ID','BANDA','HORA','BAJA','SUBE','BAJA_R','SUBE_R']]"
   ]
  },
  {
   "cell_type": "code",
   "execution_count": 41,
   "id": "8f176f7f",
   "metadata": {},
   "outputs": [],
   "source": [
    "Data_Habil['CUMPLE_BAJA']=np.where(Data_Habil['BAJA_R']>=Data_Habil['BAJA'],'SI','NO')\n",
    "Data_Habil['CUMPLE_SUBE']=np.where(Data_Habil['SUBE_R']>=Data_Habil['SUBE'],'SI','NO')\n",
    "Data_Habil['CUMPLE']=np.where( (Data_Habil['CUMPLE_BAJA']=='SI') & (Data_Habil['CUMPLE_SUBE']=='SI'),'SI','NO')\n",
    "Data_Habil['PORC_BAJADA']=Data_Habil['BAJA_R']/Data_Habil['BAJA']\n",
    "Data_Habil['PORC_SUBE']=Data_Habil['SUBE_R']/Data_Habil['SUBE']\n",
    "Data_Habil['CERCANO_BAJA']=np.where(Data_Habil['PORC_BAJADA']>1, 'CUMPLE', np.where(Data_Habil['PORC_BAJADA']>0.9,'SI','NO'))\n",
    "Data_Habil['CERCANO_SUBE']=np.where(Data_Habil['PORC_SUBE']>1, 'CUMPLE', np.where(Data_Habil['PORC_SUBE']>0.9,'SI','NO'))\n",
    "Data_Habil['CERCANO']=np.where( (Data_Habil['CERCANO_BAJA']=='CUMPLE') & (Data_Habil['CERCANO_SUBE']=='CUMPLE'),'CUMPLE',\n",
    "                                 np.where((Data_Habil['CERCANO_BAJA']=='SI') & (Data_Habil['CERCANO_SUBE']=='SI'),'AMBOS',\n",
    "                                         np.where((Data_Habil['CERCANO_BAJA']=='CUMPLE') & (Data_Habil['CERCANO_SUBE']=='SI'),'SUBE',\n",
    "                                                 np.where((Data_Habil['CERCANO_BAJA']=='SI') & (Data_Habil['CERCANO_SUBE']=='CUMPLE'),'BAJA','NO'))))"
   ]
  },
  {
   "cell_type": "code",
   "execution_count": 42,
   "id": "df1a183f",
   "metadata": {},
   "outputs": [],
   "source": [
    "Data_Habil_Res=Data_Habil.copy()\n",
    "Data_Habil_Res['TIPO2']=np.where(Data_Habil_Res['CERCANO']==\"NO\",'NO','SI')\n",
    "Data_Habil_Res=pd.pivot_table(Data_Habil_Res[['ID','BANDA','CUMPLE']], index=['ID','BANDA'], columns=['CUMPLE'], aggfunc=len, fill_value=0)\n",
    "Data_Habil_Res['PORC']=Data_Habil_Res['NO']/(Data_Habil_Res['NO']+Data_Habil_Res['SI'])\n",
    "Data_Habil_Res['TIPO']= np.where(Data_Habil_Res['PORC']==1,'CRITICO',np.where(Data_Habil_Res['PORC']==0,'BUENO','REGULAR'))"
   ]
  },
  {
   "cell_type": "code",
   "execution_count": 43,
   "id": "34e08b50",
   "metadata": {},
   "outputs": [
    {
     "data": {
      "text/html": [
       "<style  type=\"text/css\" >\n",
       "    #T_154ff_ th {\n",
       "          background-color: #c00000;\n",
       "          color: white;\n",
       "    }</style><table id=\"T_154ff_\" ><thead>    <tr>        <th class=\"blank level0\" ></th>        <th class=\"col_heading level0 col0\" >ID</th>        <th class=\"col_heading level0 col1\" >BANDA</th>        <th class=\"col_heading level0 col2\" >HORA</th>        <th class=\"col_heading level0 col3\" >BAJA</th>        <th class=\"col_heading level0 col4\" >SUBE</th>        <th class=\"col_heading level0 col5\" >BAJA_R</th>        <th class=\"col_heading level0 col6\" >SUBE_R</th>        <th class=\"col_heading level0 col7\" >CUMPLE_BAJA</th>        <th class=\"col_heading level0 col8\" >CUMPLE_SUBE</th>        <th class=\"col_heading level0 col9\" >CUMPLE</th>        <th class=\"col_heading level0 col10\" >PORC_BAJADA</th>        <th class=\"col_heading level0 col11\" >PORC_SUBE</th>        <th class=\"col_heading level0 col12\" >CERCANO_BAJA</th>        <th class=\"col_heading level0 col13\" >CERCANO_SUBE</th>        <th class=\"col_heading level0 col14\" >CERCANO</th>    </tr></thead><tbody>\n",
       "                <tr>\n",
       "                        <th id=\"T_154ff_level0_row0\" class=\"row_heading level0 row0\" >0</th>\n",
       "                        <td id=\"T_154ff_row0_col0\" class=\"data row0 col0\" >10835</td>\n",
       "                        <td id=\"T_154ff_row0_col1\" class=\"data row0 col1\" >DL:18.00Mb-UL:4.50Mb</td>\n",
       "                        <td id=\"T_154ff_row0_col2\" class=\"data row0 col2\" >14</td>\n",
       "                        <td id=\"T_154ff_row0_col3\" class=\"data row0 col3\" >18000</td>\n",
       "                        <td id=\"T_154ff_row0_col4\" class=\"data row0 col4\" >4500</td>\n",
       "                        <td id=\"T_154ff_row0_col5\" class=\"data row0 col5\" >15666.030000</td>\n",
       "                        <td id=\"T_154ff_row0_col6\" class=\"data row0 col6\" >3261.530000</td>\n",
       "                        <td id=\"T_154ff_row0_col7\" class=\"data row0 col7\" >NO</td>\n",
       "                        <td id=\"T_154ff_row0_col8\" class=\"data row0 col8\" >NO</td>\n",
       "                        <td id=\"T_154ff_row0_col9\" class=\"data row0 col9\" >NO</td>\n",
       "                        <td id=\"T_154ff_row0_col10\" class=\"data row0 col10\" >0.870335</td>\n",
       "                        <td id=\"T_154ff_row0_col11\" class=\"data row0 col11\" >0.724784</td>\n",
       "                        <td id=\"T_154ff_row0_col12\" class=\"data row0 col12\" >NO</td>\n",
       "                        <td id=\"T_154ff_row0_col13\" class=\"data row0 col13\" >NO</td>\n",
       "                        <td id=\"T_154ff_row0_col14\" class=\"data row0 col14\" >NO</td>\n",
       "            </tr>\n",
       "            <tr>\n",
       "                        <th id=\"T_154ff_level0_row1\" class=\"row_heading level0 row1\" >1</th>\n",
       "                        <td id=\"T_154ff_row1_col0\" class=\"data row1 col0\" >10835</td>\n",
       "                        <td id=\"T_154ff_row1_col1\" class=\"data row1 col1\" >DL:18.00Mb-UL:4.50Mb</td>\n",
       "                        <td id=\"T_154ff_row1_col2\" class=\"data row1 col2\" >15</td>\n",
       "                        <td id=\"T_154ff_row1_col3\" class=\"data row1 col3\" >18000</td>\n",
       "                        <td id=\"T_154ff_row1_col4\" class=\"data row1 col4\" >4500</td>\n",
       "                        <td id=\"T_154ff_row1_col5\" class=\"data row1 col5\" >15989.330000</td>\n",
       "                        <td id=\"T_154ff_row1_col6\" class=\"data row1 col6\" >3578.170000</td>\n",
       "                        <td id=\"T_154ff_row1_col7\" class=\"data row1 col7\" >NO</td>\n",
       "                        <td id=\"T_154ff_row1_col8\" class=\"data row1 col8\" >NO</td>\n",
       "                        <td id=\"T_154ff_row1_col9\" class=\"data row1 col9\" >NO</td>\n",
       "                        <td id=\"T_154ff_row1_col10\" class=\"data row1 col10\" >0.888296</td>\n",
       "                        <td id=\"T_154ff_row1_col11\" class=\"data row1 col11\" >0.795149</td>\n",
       "                        <td id=\"T_154ff_row1_col12\" class=\"data row1 col12\" >NO</td>\n",
       "                        <td id=\"T_154ff_row1_col13\" class=\"data row1 col13\" >NO</td>\n",
       "                        <td id=\"T_154ff_row1_col14\" class=\"data row1 col14\" >NO</td>\n",
       "            </tr>\n",
       "            <tr>\n",
       "                        <th id=\"T_154ff_level0_row2\" class=\"row_heading level0 row2\" >2</th>\n",
       "                        <td id=\"T_154ff_row2_col0\" class=\"data row2 col0\" >10835</td>\n",
       "                        <td id=\"T_154ff_row2_col1\" class=\"data row2 col1\" >DL:18.00Mb-UL:4.50Mb</td>\n",
       "                        <td id=\"T_154ff_row2_col2\" class=\"data row2 col2\" >18</td>\n",
       "                        <td id=\"T_154ff_row2_col3\" class=\"data row2 col3\" >18000</td>\n",
       "                        <td id=\"T_154ff_row2_col4\" class=\"data row2 col4\" >4500</td>\n",
       "                        <td id=\"T_154ff_row2_col5\" class=\"data row2 col5\" >16262.820000</td>\n",
       "                        <td id=\"T_154ff_row2_col6\" class=\"data row2 col6\" >3636.405000</td>\n",
       "                        <td id=\"T_154ff_row2_col7\" class=\"data row2 col7\" >NO</td>\n",
       "                        <td id=\"T_154ff_row2_col8\" class=\"data row2 col8\" >NO</td>\n",
       "                        <td id=\"T_154ff_row2_col9\" class=\"data row2 col9\" >NO</td>\n",
       "                        <td id=\"T_154ff_row2_col10\" class=\"data row2 col10\" >0.903490</td>\n",
       "                        <td id=\"T_154ff_row2_col11\" class=\"data row2 col11\" >0.808090</td>\n",
       "                        <td id=\"T_154ff_row2_col12\" class=\"data row2 col12\" >SI</td>\n",
       "                        <td id=\"T_154ff_row2_col13\" class=\"data row2 col13\" >NO</td>\n",
       "                        <td id=\"T_154ff_row2_col14\" class=\"data row2 col14\" >NO</td>\n",
       "            </tr>\n",
       "            <tr>\n",
       "                        <th id=\"T_154ff_level0_row3\" class=\"row_heading level0 row3\" >3</th>\n",
       "                        <td id=\"T_154ff_row3_col0\" class=\"data row3 col0\" >10835</td>\n",
       "                        <td id=\"T_154ff_row3_col1\" class=\"data row3 col1\" >DL:18.00Mb-UL:4.50Mb</td>\n",
       "                        <td id=\"T_154ff_row3_col2\" class=\"data row3 col2\" >19</td>\n",
       "                        <td id=\"T_154ff_row3_col3\" class=\"data row3 col3\" >18000</td>\n",
       "                        <td id=\"T_154ff_row3_col4\" class=\"data row3 col4\" >4500</td>\n",
       "                        <td id=\"T_154ff_row3_col5\" class=\"data row3 col5\" >15991.040000</td>\n",
       "                        <td id=\"T_154ff_row3_col6\" class=\"data row3 col6\" >3705.500000</td>\n",
       "                        <td id=\"T_154ff_row3_col7\" class=\"data row3 col7\" >NO</td>\n",
       "                        <td id=\"T_154ff_row3_col8\" class=\"data row3 col8\" >NO</td>\n",
       "                        <td id=\"T_154ff_row3_col9\" class=\"data row3 col9\" >NO</td>\n",
       "                        <td id=\"T_154ff_row3_col10\" class=\"data row3 col10\" >0.888391</td>\n",
       "                        <td id=\"T_154ff_row3_col11\" class=\"data row3 col11\" >0.823444</td>\n",
       "                        <td id=\"T_154ff_row3_col12\" class=\"data row3 col12\" >NO</td>\n",
       "                        <td id=\"T_154ff_row3_col13\" class=\"data row3 col13\" >NO</td>\n",
       "                        <td id=\"T_154ff_row3_col14\" class=\"data row3 col14\" >NO</td>\n",
       "            </tr>\n",
       "            <tr>\n",
       "                        <th id=\"T_154ff_level0_row4\" class=\"row_heading level0 row4\" >4</th>\n",
       "                        <td id=\"T_154ff_row4_col0\" class=\"data row4 col0\" >10835</td>\n",
       "                        <td id=\"T_154ff_row4_col1\" class=\"data row4 col1\" >DL:18.00Mb-UL:4.50Mb</td>\n",
       "                        <td id=\"T_154ff_row4_col2\" class=\"data row4 col2\" >20</td>\n",
       "                        <td id=\"T_154ff_row4_col3\" class=\"data row4 col3\" >18000</td>\n",
       "                        <td id=\"T_154ff_row4_col4\" class=\"data row4 col4\" >4500</td>\n",
       "                        <td id=\"T_154ff_row4_col5\" class=\"data row4 col5\" >15867.415000</td>\n",
       "                        <td id=\"T_154ff_row4_col6\" class=\"data row4 col6\" >2995.550000</td>\n",
       "                        <td id=\"T_154ff_row4_col7\" class=\"data row4 col7\" >NO</td>\n",
       "                        <td id=\"T_154ff_row4_col8\" class=\"data row4 col8\" >NO</td>\n",
       "                        <td id=\"T_154ff_row4_col9\" class=\"data row4 col9\" >NO</td>\n",
       "                        <td id=\"T_154ff_row4_col10\" class=\"data row4 col10\" >0.881523</td>\n",
       "                        <td id=\"T_154ff_row4_col11\" class=\"data row4 col11\" >0.665678</td>\n",
       "                        <td id=\"T_154ff_row4_col12\" class=\"data row4 col12\" >NO</td>\n",
       "                        <td id=\"T_154ff_row4_col13\" class=\"data row4 col13\" >NO</td>\n",
       "                        <td id=\"T_154ff_row4_col14\" class=\"data row4 col14\" >NO</td>\n",
       "            </tr>\n",
       "            <tr>\n",
       "                        <th id=\"T_154ff_level0_row5\" class=\"row_heading level0 row5\" >5</th>\n",
       "                        <td id=\"T_154ff_row5_col0\" class=\"data row5 col0\" >11113</td>\n",
       "                        <td id=\"T_154ff_row5_col1\" class=\"data row5 col1\" >DL:21.00Mb-UL:5.25Mb</td>\n",
       "                        <td id=\"T_154ff_row5_col2\" class=\"data row5 col2\" >8</td>\n",
       "                        <td id=\"T_154ff_row5_col3\" class=\"data row5 col3\" >21000</td>\n",
       "                        <td id=\"T_154ff_row5_col4\" class=\"data row5 col4\" >5250</td>\n",
       "                        <td id=\"T_154ff_row5_col5\" class=\"data row5 col5\" >25099.580000</td>\n",
       "                        <td id=\"T_154ff_row5_col6\" class=\"data row5 col6\" >10561.580000</td>\n",
       "                        <td id=\"T_154ff_row5_col7\" class=\"data row5 col7\" >SI</td>\n",
       "                        <td id=\"T_154ff_row5_col8\" class=\"data row5 col8\" >SI</td>\n",
       "                        <td id=\"T_154ff_row5_col9\" class=\"data row5 col9\" >SI</td>\n",
       "                        <td id=\"T_154ff_row5_col10\" class=\"data row5 col10\" >1.195218</td>\n",
       "                        <td id=\"T_154ff_row5_col11\" class=\"data row5 col11\" >2.011730</td>\n",
       "                        <td id=\"T_154ff_row5_col12\" class=\"data row5 col12\" >CUMPLE</td>\n",
       "                        <td id=\"T_154ff_row5_col13\" class=\"data row5 col13\" >CUMPLE</td>\n",
       "                        <td id=\"T_154ff_row5_col14\" class=\"data row5 col14\" >CUMPLE</td>\n",
       "            </tr>\n",
       "            <tr>\n",
       "                        <th id=\"T_154ff_level0_row6\" class=\"row_heading level0 row6\" >6</th>\n",
       "                        <td id=\"T_154ff_row6_col0\" class=\"data row6 col0\" >11113</td>\n",
       "                        <td id=\"T_154ff_row6_col1\" class=\"data row6 col1\" >DL:21.00Mb-UL:5.25Mb</td>\n",
       "                        <td id=\"T_154ff_row6_col2\" class=\"data row6 col2\" >9</td>\n",
       "                        <td id=\"T_154ff_row6_col3\" class=\"data row6 col3\" >21000</td>\n",
       "                        <td id=\"T_154ff_row6_col4\" class=\"data row6 col4\" >5250</td>\n",
       "                        <td id=\"T_154ff_row6_col5\" class=\"data row6 col5\" >24782.000000</td>\n",
       "                        <td id=\"T_154ff_row6_col6\" class=\"data row6 col6\" >10626.300000</td>\n",
       "                        <td id=\"T_154ff_row6_col7\" class=\"data row6 col7\" >SI</td>\n",
       "                        <td id=\"T_154ff_row6_col8\" class=\"data row6 col8\" >SI</td>\n",
       "                        <td id=\"T_154ff_row6_col9\" class=\"data row6 col9\" >SI</td>\n",
       "                        <td id=\"T_154ff_row6_col10\" class=\"data row6 col10\" >1.180095</td>\n",
       "                        <td id=\"T_154ff_row6_col11\" class=\"data row6 col11\" >2.024057</td>\n",
       "                        <td id=\"T_154ff_row6_col12\" class=\"data row6 col12\" >CUMPLE</td>\n",
       "                        <td id=\"T_154ff_row6_col13\" class=\"data row6 col13\" >CUMPLE</td>\n",
       "                        <td id=\"T_154ff_row6_col14\" class=\"data row6 col14\" >CUMPLE</td>\n",
       "            </tr>\n",
       "            <tr>\n",
       "                        <th id=\"T_154ff_level0_row7\" class=\"row_heading level0 row7\" >7</th>\n",
       "                        <td id=\"T_154ff_row7_col0\" class=\"data row7 col0\" >11113</td>\n",
       "                        <td id=\"T_154ff_row7_col1\" class=\"data row7 col1\" >DL:21.00Mb-UL:5.25Mb</td>\n",
       "                        <td id=\"T_154ff_row7_col2\" class=\"data row7 col2\" >10</td>\n",
       "                        <td id=\"T_154ff_row7_col3\" class=\"data row7 col3\" >21000</td>\n",
       "                        <td id=\"T_154ff_row7_col4\" class=\"data row7 col4\" >5250</td>\n",
       "                        <td id=\"T_154ff_row7_col5\" class=\"data row7 col5\" >25128.970000</td>\n",
       "                        <td id=\"T_154ff_row7_col6\" class=\"data row7 col6\" >10615.970000</td>\n",
       "                        <td id=\"T_154ff_row7_col7\" class=\"data row7 col7\" >SI</td>\n",
       "                        <td id=\"T_154ff_row7_col8\" class=\"data row7 col8\" >SI</td>\n",
       "                        <td id=\"T_154ff_row7_col9\" class=\"data row7 col9\" >SI</td>\n",
       "                        <td id=\"T_154ff_row7_col10\" class=\"data row7 col10\" >1.196618</td>\n",
       "                        <td id=\"T_154ff_row7_col11\" class=\"data row7 col11\" >2.022090</td>\n",
       "                        <td id=\"T_154ff_row7_col12\" class=\"data row7 col12\" >CUMPLE</td>\n",
       "                        <td id=\"T_154ff_row7_col13\" class=\"data row7 col13\" >CUMPLE</td>\n",
       "                        <td id=\"T_154ff_row7_col14\" class=\"data row7 col14\" >CUMPLE</td>\n",
       "            </tr>\n",
       "            <tr>\n",
       "                        <th id=\"T_154ff_level0_row8\" class=\"row_heading level0 row8\" >8</th>\n",
       "                        <td id=\"T_154ff_row8_col0\" class=\"data row8 col0\" >11113</td>\n",
       "                        <td id=\"T_154ff_row8_col1\" class=\"data row8 col1\" >DL:21.00Mb-UL:5.25Mb</td>\n",
       "                        <td id=\"T_154ff_row8_col2\" class=\"data row8 col2\" >16</td>\n",
       "                        <td id=\"T_154ff_row8_col3\" class=\"data row8 col3\" >21000</td>\n",
       "                        <td id=\"T_154ff_row8_col4\" class=\"data row8 col4\" >5250</td>\n",
       "                        <td id=\"T_154ff_row8_col5\" class=\"data row8 col5\" >25202.760000</td>\n",
       "                        <td id=\"T_154ff_row8_col6\" class=\"data row8 col6\" >10679.380000</td>\n",
       "                        <td id=\"T_154ff_row8_col7\" class=\"data row8 col7\" >SI</td>\n",
       "                        <td id=\"T_154ff_row8_col8\" class=\"data row8 col8\" >SI</td>\n",
       "                        <td id=\"T_154ff_row8_col9\" class=\"data row8 col9\" >SI</td>\n",
       "                        <td id=\"T_154ff_row8_col10\" class=\"data row8 col10\" >1.200131</td>\n",
       "                        <td id=\"T_154ff_row8_col11\" class=\"data row8 col11\" >2.034168</td>\n",
       "                        <td id=\"T_154ff_row8_col12\" class=\"data row8 col12\" >CUMPLE</td>\n",
       "                        <td id=\"T_154ff_row8_col13\" class=\"data row8 col13\" >CUMPLE</td>\n",
       "                        <td id=\"T_154ff_row8_col14\" class=\"data row8 col14\" >CUMPLE</td>\n",
       "            </tr>\n",
       "            <tr>\n",
       "                        <th id=\"T_154ff_level0_row9\" class=\"row_heading level0 row9\" >9</th>\n",
       "                        <td id=\"T_154ff_row9_col0\" class=\"data row9 col0\" >11113</td>\n",
       "                        <td id=\"T_154ff_row9_col1\" class=\"data row9 col1\" >DL:21.00Mb-UL:5.25Mb</td>\n",
       "                        <td id=\"T_154ff_row9_col2\" class=\"data row9 col2\" >18</td>\n",
       "                        <td id=\"T_154ff_row9_col3\" class=\"data row9 col3\" >21000</td>\n",
       "                        <td id=\"T_154ff_row9_col4\" class=\"data row9 col4\" >5250</td>\n",
       "                        <td id=\"T_154ff_row9_col5\" class=\"data row9 col5\" >25102.280000</td>\n",
       "                        <td id=\"T_154ff_row9_col6\" class=\"data row9 col6\" >10664.880000</td>\n",
       "                        <td id=\"T_154ff_row9_col7\" class=\"data row9 col7\" >SI</td>\n",
       "                        <td id=\"T_154ff_row9_col8\" class=\"data row9 col8\" >SI</td>\n",
       "                        <td id=\"T_154ff_row9_col9\" class=\"data row9 col9\" >SI</td>\n",
       "                        <td id=\"T_154ff_row9_col10\" class=\"data row9 col10\" >1.195347</td>\n",
       "                        <td id=\"T_154ff_row9_col11\" class=\"data row9 col11\" >2.031406</td>\n",
       "                        <td id=\"T_154ff_row9_col12\" class=\"data row9 col12\" >CUMPLE</td>\n",
       "                        <td id=\"T_154ff_row9_col13\" class=\"data row9 col13\" >CUMPLE</td>\n",
       "                        <td id=\"T_154ff_row9_col14\" class=\"data row9 col14\" >CUMPLE</td>\n",
       "            </tr>\n",
       "            <tr>\n",
       "                        <th id=\"T_154ff_level0_row10\" class=\"row_heading level0 row10\" >10</th>\n",
       "                        <td id=\"T_154ff_row10_col0\" class=\"data row10 col0\" >11188</td>\n",
       "                        <td id=\"T_154ff_row10_col1\" class=\"data row10 col1\" >DL:18.00Mb-UL:4.50Mb</td>\n",
       "                        <td id=\"T_154ff_row10_col2\" class=\"data row10 col2\" >11</td>\n",
       "                        <td id=\"T_154ff_row10_col3\" class=\"data row10 col3\" >18000</td>\n",
       "                        <td id=\"T_154ff_row10_col4\" class=\"data row10 col4\" >4500</td>\n",
       "                        <td id=\"T_154ff_row10_col5\" class=\"data row10 col5\" >20911.244000</td>\n",
       "                        <td id=\"T_154ff_row10_col6\" class=\"data row10 col6\" >5563.884000</td>\n",
       "                        <td id=\"T_154ff_row10_col7\" class=\"data row10 col7\" >SI</td>\n",
       "                        <td id=\"T_154ff_row10_col8\" class=\"data row10 col8\" >SI</td>\n",
       "                        <td id=\"T_154ff_row10_col9\" class=\"data row10 col9\" >SI</td>\n",
       "                        <td id=\"T_154ff_row10_col10\" class=\"data row10 col10\" >1.161736</td>\n",
       "                        <td id=\"T_154ff_row10_col11\" class=\"data row10 col11\" >1.236419</td>\n",
       "                        <td id=\"T_154ff_row10_col12\" class=\"data row10 col12\" >CUMPLE</td>\n",
       "                        <td id=\"T_154ff_row10_col13\" class=\"data row10 col13\" >CUMPLE</td>\n",
       "                        <td id=\"T_154ff_row10_col14\" class=\"data row10 col14\" >CUMPLE</td>\n",
       "            </tr>\n",
       "            <tr>\n",
       "                        <th id=\"T_154ff_level0_row11\" class=\"row_heading level0 row11\" >11</th>\n",
       "                        <td id=\"T_154ff_row11_col0\" class=\"data row11 col0\" >11188</td>\n",
       "                        <td id=\"T_154ff_row11_col1\" class=\"data row11 col1\" >DL:18.00Mb-UL:4.50Mb</td>\n",
       "                        <td id=\"T_154ff_row11_col2\" class=\"data row11 col2\" >15</td>\n",
       "                        <td id=\"T_154ff_row11_col3\" class=\"data row11 col3\" >18000</td>\n",
       "                        <td id=\"T_154ff_row11_col4\" class=\"data row11 col4\" >4500</td>\n",
       "                        <td id=\"T_154ff_row11_col5\" class=\"data row11 col5\" >24643.870000</td>\n",
       "                        <td id=\"T_154ff_row11_col6\" class=\"data row11 col6\" >8398.305000</td>\n",
       "                        <td id=\"T_154ff_row11_col7\" class=\"data row11 col7\" >SI</td>\n",
       "                        <td id=\"T_154ff_row11_col8\" class=\"data row11 col8\" >SI</td>\n",
       "                        <td id=\"T_154ff_row11_col9\" class=\"data row11 col9\" >SI</td>\n",
       "                        <td id=\"T_154ff_row11_col10\" class=\"data row11 col10\" >1.369104</td>\n",
       "                        <td id=\"T_154ff_row11_col11\" class=\"data row11 col11\" >1.866290</td>\n",
       "                        <td id=\"T_154ff_row11_col12\" class=\"data row11 col12\" >CUMPLE</td>\n",
       "                        <td id=\"T_154ff_row11_col13\" class=\"data row11 col13\" >CUMPLE</td>\n",
       "                        <td id=\"T_154ff_row11_col14\" class=\"data row11 col14\" >CUMPLE</td>\n",
       "            </tr>\n",
       "            <tr>\n",
       "                        <th id=\"T_154ff_level0_row12\" class=\"row_heading level0 row12\" >12</th>\n",
       "                        <td id=\"T_154ff_row12_col0\" class=\"data row12 col0\" >11188</td>\n",
       "                        <td id=\"T_154ff_row12_col1\" class=\"data row12 col1\" >DL:18.00Mb-UL:4.50Mb</td>\n",
       "                        <td id=\"T_154ff_row12_col2\" class=\"data row12 col2\" >17</td>\n",
       "                        <td id=\"T_154ff_row12_col3\" class=\"data row12 col3\" >18000</td>\n",
       "                        <td id=\"T_154ff_row12_col4\" class=\"data row12 col4\" >4500</td>\n",
       "                        <td id=\"T_154ff_row12_col5\" class=\"data row12 col5\" >24214.410000</td>\n",
       "                        <td id=\"T_154ff_row12_col6\" class=\"data row12 col6\" >6688.775000</td>\n",
       "                        <td id=\"T_154ff_row12_col7\" class=\"data row12 col7\" >SI</td>\n",
       "                        <td id=\"T_154ff_row12_col8\" class=\"data row12 col8\" >SI</td>\n",
       "                        <td id=\"T_154ff_row12_col9\" class=\"data row12 col9\" >SI</td>\n",
       "                        <td id=\"T_154ff_row12_col10\" class=\"data row12 col10\" >1.345245</td>\n",
       "                        <td id=\"T_154ff_row12_col11\" class=\"data row12 col11\" >1.486394</td>\n",
       "                        <td id=\"T_154ff_row12_col12\" class=\"data row12 col12\" >CUMPLE</td>\n",
       "                        <td id=\"T_154ff_row12_col13\" class=\"data row12 col13\" >CUMPLE</td>\n",
       "                        <td id=\"T_154ff_row12_col14\" class=\"data row12 col14\" >CUMPLE</td>\n",
       "            </tr>\n",
       "            <tr>\n",
       "                        <th id=\"T_154ff_level0_row13\" class=\"row_heading level0 row13\" >13</th>\n",
       "                        <td id=\"T_154ff_row13_col0\" class=\"data row13 col0\" >11188</td>\n",
       "                        <td id=\"T_154ff_row13_col1\" class=\"data row13 col1\" >DL:18.00Mb-UL:4.50Mb</td>\n",
       "                        <td id=\"T_154ff_row13_col2\" class=\"data row13 col2\" >19</td>\n",
       "                        <td id=\"T_154ff_row13_col3\" class=\"data row13 col3\" >18000</td>\n",
       "                        <td id=\"T_154ff_row13_col4\" class=\"data row13 col4\" >4500</td>\n",
       "                        <td id=\"T_154ff_row13_col5\" class=\"data row13 col5\" >24572.800000</td>\n",
       "                        <td id=\"T_154ff_row13_col6\" class=\"data row13 col6\" >7819.400000</td>\n",
       "                        <td id=\"T_154ff_row13_col7\" class=\"data row13 col7\" >SI</td>\n",
       "                        <td id=\"T_154ff_row13_col8\" class=\"data row13 col8\" >SI</td>\n",
       "                        <td id=\"T_154ff_row13_col9\" class=\"data row13 col9\" >SI</td>\n",
       "                        <td id=\"T_154ff_row13_col10\" class=\"data row13 col10\" >1.365156</td>\n",
       "                        <td id=\"T_154ff_row13_col11\" class=\"data row13 col11\" >1.737644</td>\n",
       "                        <td id=\"T_154ff_row13_col12\" class=\"data row13 col12\" >CUMPLE</td>\n",
       "                        <td id=\"T_154ff_row13_col13\" class=\"data row13 col13\" >CUMPLE</td>\n",
       "                        <td id=\"T_154ff_row13_col14\" class=\"data row13 col14\" >CUMPLE</td>\n",
       "            </tr>\n",
       "    </tbody></table>"
      ],
      "text/plain": [
       "<pandas.io.formats.style.Styler at 0x1f64b7ce070>"
      ]
     },
     "execution_count": 43,
     "metadata": {},
     "output_type": "execute_result"
    }
   ],
   "source": [
    "## DIAPOSITIVA 4\n",
    "Data_Habil.head(14).style.set_table_styles([{\n",
    "    'selector':'th', 'props':[('background-color','#c00000'),('color','white')]\n",
    "}])"
   ]
  },
  {
   "cell_type": "code",
   "execution_count": 44,
   "id": "6bbce733",
   "metadata": {},
   "outputs": [],
   "source": [
    "### Guardar Achivos\n",
    "Data_Habil.to_csv('RESUMEN_CENTROS_HORA_'+str(Y*10000+M*100+D)+'_HABIL.csv',sep=';', index=False)\n",
    "Data_Habil_Res.to_csv('RESUMEN_CENTROS_'+str(Y*10000+M*100+D)+'_HABIL.csv',sep=';', index=False)"
   ]
  },
  {
   "cell_type": "markdown",
   "id": "46e881e4",
   "metadata": {},
   "source": [
    "### FDS"
   ]
  },
  {
   "cell_type": "code",
   "execution_count": 45,
   "id": "87701da8",
   "metadata": {},
   "outputs": [],
   "source": [
    "Data_fds= DataTotal[(DataTotal['BASE']=='principal')&(DataTotal['FILTRO']=='fds')&(DataTotal['FECHA']>=minFechaFDS)&(DataTotal['FECHA']<maxFecha)].groupby(['ID','HORA']).agg(\n",
    "                CONTEO=('ID','count'),\n",
    "                SUBIDA=('VELOCIDAD_SUBIDA', quantiles_adaptados),\n",
    "                BAJADA=('VELOCIDAD_BAJADA', quantiles_adaptados)\n",
    "            )"
   ]
  },
  {
   "cell_type": "code",
   "execution_count": 46,
   "id": "a4e9f5e1",
   "metadata": {},
   "outputs": [],
   "source": [
    "Data_fds.reset_index(inplace=True)\n",
    "BANDA=Data[['ID','BANDA','SUBIDA_LIM','BAJADA_LIM']].drop_duplicates(subset='ID',keep='last')\n",
    "Data_fds=Data_fds.merge(BANDA,left_on='ID',right_on='ID', how='left')\n",
    "Data_fds.rename(columns={'BAJADA_LIM':'BAJA','SUBIDA_LIM':'SUBE','BAJADA':'BAJA_R','SUBIDA':'SUBE_R'}, inplace=True)\n",
    "Data_fds=Data_fds[['ID','BANDA','HORA','BAJA','SUBE','BAJA_R','SUBE_R']]"
   ]
  },
  {
   "cell_type": "code",
   "execution_count": 47,
   "id": "755e3dc3",
   "metadata": {},
   "outputs": [],
   "source": [
    "Data_fds['CUMPLE_BAJA']=np.where(Data_fds['BAJA_R']>=Data_fds['BAJA'],'SI','NO')\n",
    "Data_fds['CUMPLE_SUBE']=np.where(Data_fds['SUBE_R']>=Data_fds['SUBE'],'SI','NO')\n",
    "Data_fds['CUMPLE']=np.where( (Data_fds['CUMPLE_BAJA']=='SI') & (Data_fds['CUMPLE_SUBE']=='SI'),'SI','NO')\n",
    "Data_fds['PORC_BAJADA']=Data_fds['BAJA_R']/Data_fds['BAJA']\n",
    "Data_fds['PORC_SUBE']=Data_fds['SUBE_R']/Data_fds['SUBE']\n",
    "Data_fds['CERCANO_BAJA']=np.where(Data_fds['PORC_BAJADA']>1, 'CUMPLE', np.where(Data_fds['PORC_BAJADA']>0.9,'SI','NO'))\n",
    "Data_fds['CERCANO_SUBE']=np.where(Data_fds['PORC_SUBE']>1, 'CUMPLE', np.where(Data_fds['PORC_SUBE']>0.9,'SI','NO'))\n",
    "Data_fds['CERCANO']=np.where( (Data_fds['CERCANO_BAJA']=='CUMPLE') & (Data_fds['CERCANO_SUBE']=='CUMPLE'),'CUMPLE',\n",
    "                                 np.where((Data_fds['CERCANO_BAJA']=='SI') & (Data_fds['CERCANO_SUBE']=='SI'),'AMBOS',\n",
    "                                         np.where((Data_fds['CERCANO_BAJA']=='CUMPLE') & (Data_fds['CERCANO_SUBE']=='SI'),'SUBE',\n",
    "                                                 np.where((Data_fds['CERCANO_BAJA']=='SI') & (Data_fds['CERCANO_SUBE']=='CUMPLE'),'BAJA','NO'))))"
   ]
  },
  {
   "cell_type": "code",
   "execution_count": 48,
   "id": "6b31d513",
   "metadata": {},
   "outputs": [],
   "source": [
    "Data_fds_Res=Data_fds.copy()\n",
    "Data_fds_Res['TIPO2']=np.where(Data_fds_Res['CERCANO']==\"NO\",'NO','SI')\n",
    "Data_fds_Res=pd.pivot_table(Data_fds_Res[['ID','BANDA','CUMPLE']], index=['ID','BANDA'], columns=['CUMPLE'], aggfunc=len, fill_value=0)\n",
    "Data_fds_Res['PORC']=Data_fds_Res['NO']/(Data_fds_Res['NO']+Data_fds_Res['SI'])\n",
    "Data_fds_Res['TIPO']= np.where(Data_fds_Res['PORC']==1,'CRITICO',np.where(Data_fds_Res['PORC']==0,'BUENO','REGULAR'))"
   ]
  },
  {
   "cell_type": "code",
   "execution_count": 49,
   "id": "6a86d1ff",
   "metadata": {},
   "outputs": [],
   "source": [
    "Data_fds.to_csv('RESUMEN_CENTROS_HORA_'+str(Y*10000+M*100+D)+'_FDS.csv',sep=';',index=False)\n",
    "Data_fds_Res.to_csv('RESUMEN_CENTROS_'+str(Y*10000+M*100+D)+'_FDS.csv',sep=';',index=False)"
   ]
  },
  {
   "cell_type": "markdown",
   "id": "c56b8804",
   "metadata": {},
   "source": [
    "# Maestro Aps"
   ]
  },
  {
   "cell_type": "code",
   "execution_count": 50,
   "id": "2b1c9463",
   "metadata": {},
   "outputs": [],
   "source": [
    "maestro_Aps=Data[['ID','BANDA']].drop_duplicates()"
   ]
  },
  {
   "cell_type": "markdown",
   "id": "3a3e3fac",
   "metadata": {},
   "source": [
    "#  NUEVA PROPUESTA"
   ]
  },
  {
   "cell_type": "markdown",
   "id": "e7d64faa",
   "metadata": {},
   "source": [
    "### Habiles"
   ]
  },
  {
   "cell_type": "code",
   "execution_count": 51,
   "id": "cd5f7de7",
   "metadata": {},
   "outputs": [],
   "source": [
    "DataExito_base=DataExito.copy()"
   ]
  },
  {
   "cell_type": "code",
   "execution_count": 52,
   "id": "b606e028",
   "metadata": {},
   "outputs": [],
   "source": [
    "DataExito= DataExito[DataExito['FILTRO']=='hab']"
   ]
  },
  {
   "cell_type": "code",
   "execution_count": null,
   "id": "6a64a580",
   "metadata": {},
   "outputs": [],
   "source": []
  },
  {
   "cell_type": "markdown",
   "id": "2d58d81a",
   "metadata": {},
   "source": [
    "## Procesamiento"
   ]
  },
  {
   "cell_type": "code",
   "execution_count": 53,
   "id": "28c5ce31",
   "metadata": {},
   "outputs": [],
   "source": [
    "DataExito['IND']=((DataExito['VELOCIDAD_SUBIDA']-DataExito['SUBIDA_LIM'])+(DataExito['VELOCIDAD_BAJADA']-DataExito['BAJADA_LIM']))/2\n",
    "tabla_ind=DataExito.groupby(['ID','HORA'])[['IND']].median()\n",
    "tabla_ind.reset_index(inplace=True)\n",
    "tabla_freq=DataExito.groupby(['ID','HORA'])[['CONDICION']].count().reset_index()"
   ]
  },
  {
   "cell_type": "code",
   "execution_count": 54,
   "id": "50989722",
   "metadata": {},
   "outputs": [],
   "source": [
    "tablaBase=tabla_ind.merge(tabla_freq, left_on=['ID','HORA'], right_on=['ID','HORA'], how='left')\n",
    "tablaBase.columns=['ID','HORA','IND','FREQ']\n",
    "tablaBase.reset_index(inplace=True)\n",
    "tabla_casos_cero=tablaBase.groupby('ID')[['IND']].max()\n",
    "tabla_casos_cero=tabla_casos_cero[tabla_casos_cero['IND']==0]\n",
    "casos_cero=tablaBase[tablaBase['ID'].isin(tabla_casos_cero.index)]\n",
    "tablaBase=tablaBase[~tablaBase['ID'].isin(casos_cero['ID'].unique())]"
   ]
  },
  {
   "cell_type": "markdown",
   "id": "f4bf6e9e",
   "metadata": {},
   "source": [
    "### Distribución aps bajos"
   ]
  },
  {
   "cell_type": "code",
   "execution_count": 55,
   "id": "7bd7af48",
   "metadata": {},
   "outputs": [],
   "source": [
    "tablaBase.sort_values(['ID','IND','FREQ'], ascending=False, inplace=True)\n",
    "tablaBase.reset_index(drop=True, inplace=True)\n",
    "tabla_primera_opcion=tablaBase.groupby(['ID']).nth(0)\n",
    "casos_bajos=tabla_primera_opcion[tabla_primera_opcion['IND']<0]\n",
    "muestra_bajas_hora=int(len(casos_bajos)/num_horas)+1"
   ]
  },
  {
   "cell_type": "code",
   "execution_count": 56,
   "id": "5c71a961",
   "metadata": {},
   "outputs": [],
   "source": [
    "#casos_bajos=casos_bajos.sort_values('IND')[:(muestra_bajas_hora*num_horas)]\n",
    "casos_bajos=casos_bajos.sort_values('IND')\n",
    "casos_bajos.reset_index(inplace=True)\n",
    "casos_bajos.reset_index(inplace=True)\n",
    "#casos_bajos\n",
    "#lograr la mayor distribución de hora posible\n",
    "casos_bajos['franja']=np.where(casos_bajos['level_0']//num_horas%2==0,casos_bajos['level_0']%num_horas,(num_horas-1-casos_bajos['level_0']%num_horas))\n",
    "casos_bajos['hora']=casos_bajos['franja']+6\n",
    "tablaBase=tablaBase[~tablaBase['ID'].isin(casos_bajos['ID'].unique())]"
   ]
  },
  {
   "cell_type": "code",
   "execution_count": 57,
   "id": "74116113",
   "metadata": {},
   "outputs": [],
   "source": [
    "num_muestras_hora=num_muestras_hora-muestra_bajas_hora\n",
    "asignacionFinal=pd.DataFrame()"
   ]
  },
  {
   "cell_type": "markdown",
   "id": "23f708ba",
   "metadata": {},
   "source": [
    "### asignacion principal"
   ]
  },
  {
   "cell_type": "code",
   "execution_count": 58,
   "id": "9e6cfa6c",
   "metadata": {},
   "outputs": [],
   "source": [
    "i=0\n",
    "num_horas_sobre=1\n",
    "while num_horas_sobre > 0:   \n",
    "    #Reordenar la base\n",
    "    tablaBase.sort_values(['ID','IND','FREQ'], ascending=False, inplace=True)\n",
    "    tablaBase.reset_index(drop=True, inplace=True)\n",
    "    tablaBase['index']=tablaBase.index\n",
    "    \n",
    "    tablaBase['dif']=tablaBase.groupby('ID')['IND'].diff(-1)\n",
    "    tablaBase['index_N']=tablaBase.groupby('ID')['index'].shift(periods=-1)\n",
    "    tablaBase['HORA_N']=tablaBase.groupby('ID')['HORA'].shift(periods=-1)\n",
    "    tablaBase['IND_N']=tablaBase.groupby('ID')['IND'].shift(periods=-1)\n",
    "    tablaBase['FREQ_N']=tablaBase.groupby('ID')['FREQ'].shift(periods=-1)\n",
    "\n",
    "    tabla_primera_opcion=tablaBase.groupby(['ID']).nth(0)\n",
    "    tabla_primera_opcion.reset_index(inplace=True)\n",
    "    \n",
    "    tabla_ronda=tabla_primera_opcion\n",
    "    \n",
    "    resumen=tabla_ronda[['HORA']].value_counts().to_frame()\n",
    "    resumen['DIF']=resumen[0]-num_muestras_hora\n",
    "    \n",
    "    horas_sobre=resumen[resumen['DIF']>0]           \n",
    "    num_horas_sobre=len(horas_sobre)\n",
    "    \n",
    "    # guardar valores\n",
    "    if num_horas_sobre>0:\n",
    "        hora_aux=horas_sobre.index[0][0]\n",
    "        dif_aux=horas_sobre.iloc[0]['DIF']\n",
    "        tabla_ronda=tabla_ronda.sort_values('dif')\n",
    "        saldo=tabla_ronda[tabla_ronda['HORA']==hora_aux][dif_aux:]        \n",
    "        if i==0:\n",
    "            asignacionFinal=saldo\n",
    "        else: \n",
    "            asignacionFinal=asignacionFinal.append(saldo)            \n",
    "        \n",
    "        tablaBase=tablaBase[tablaBase['HORA']!=hora_aux]\n",
    "        tablaBase=tablaBase[~tablaBase['ID'].isin(saldo['ID'])]    \n",
    "        #tablaBase=tablaBase[~tablaBase['ID'].isin(tabla_cero['ID'])]\n",
    "        i+=1\n",
    "        \n",
    "if i==0:\n",
    "    asignacionFinal=tabla_ronda\n",
    "else: \n",
    "    asignacionFinal=asignacionFinal.append(tabla_ronda)\n",
    "    "
   ]
  },
  {
   "cell_type": "markdown",
   "id": "65db6362",
   "metadata": {},
   "source": [
    "#####  Matriz de posiciciones a llenar"
   ]
  },
  {
   "cell_type": "code",
   "execution_count": 59,
   "id": "c1ac644a",
   "metadata": {},
   "outputs": [],
   "source": [
    "num_muestras_hora=num_muestras_hora+muestra_bajas_hora"
   ]
  },
  {
   "cell_type": "code",
   "execution_count": 60,
   "id": "9f680d69",
   "metadata": {},
   "outputs": [],
   "source": [
    "tabla_final=pd.DataFrame({'hora':list(range(6,20+1))},columns=['hora']+list(range(num_muestras_hora)))\n",
    "tabla_final.set_index('hora',inplace=True)\n",
    "tabla_final['pos']=0"
   ]
  },
  {
   "cell_type": "markdown",
   "id": "8bb4d978",
   "metadata": {},
   "source": [
    "### Asignar resultado anterior"
   ]
  },
  {
   "cell_type": "code",
   "execution_count": 61,
   "id": "3233d15d",
   "metadata": {
    "scrolled": true
   },
   "outputs": [],
   "source": [
    "for index, row in asignacionFinal.iterrows():    \n",
    "    hora_aux=int(row['HORA'])\n",
    "    pos=tabla_final.at[hora_aux,'pos']    \n",
    "    tabla_final.at[hora_aux,pos]=int(row['ID'])    \n",
    "    tabla_final.at[hora_aux,'pos']=tabla_final.at[hora_aux,'pos']+1"
   ]
  },
  {
   "cell_type": "markdown",
   "id": "58050a6c",
   "metadata": {},
   "source": [
    "## Asignar casos bajos"
   ]
  },
  {
   "cell_type": "code",
   "execution_count": 62,
   "id": "74d47498",
   "metadata": {},
   "outputs": [],
   "source": [
    "for ind,row in casos_bajos.iterrows():\n",
    "    t_aux=tabla_final.copy()\n",
    "    t_aux=t_aux[(t_aux['pos']<num_muestras_hora)]\n",
    "    sel_hora=row['hora']\n",
    "    idx=int(row['ID'])\n",
    "    pos=tabla_final.at[sel_hora,'pos']\n",
    "    tabla_final.at[sel_hora,pos]=idx    \n",
    "    tabla_final.at[sel_hora,'pos']=tabla_final.at[sel_hora,'pos']+1"
   ]
  },
  {
   "cell_type": "markdown",
   "id": "bea30e8e",
   "metadata": {},
   "source": [
    "## Agregar 100% F"
   ]
  },
  {
   "cell_type": "code",
   "execution_count": 63,
   "id": "bf12695e",
   "metadata": {},
   "outputs": [],
   "source": [
    "## SE UNE CON LA PARTE INICIAL PUEDE SER EN ESTE PUNTO\n",
    "APs_sin_Exito=Data[~Data['ID'].isin(DataExito['ID'].unique())]\n",
    "APs_sin_Exito=list(APs_sin_Exito['ID'].unique())"
   ]
  },
  {
   "cell_type": "code",
   "execution_count": 64,
   "id": "280e6a1d",
   "metadata": {},
   "outputs": [],
   "source": [
    "for idx in APs_sin_Exito:\n",
    "    t_aux=tabla_final.copy()\n",
    "    t_aux=t_aux[(t_aux['pos']<num_muestras_hora)]\n",
    "    sel_hora=t_aux.sample().index[0]\n",
    "    pos=tabla_final.at[sel_hora,'pos']\n",
    "    tabla_final.at[sel_hora,pos]=idx    \n",
    "    tabla_final.at[sel_hora,'pos']=tabla_final.at[sel_hora,'pos']+1"
   ]
  },
  {
   "cell_type": "markdown",
   "id": "5a6ee9b6",
   "metadata": {},
   "source": [
    "### Asignar mejores casos"
   ]
  },
  {
   "cell_type": "code",
   "execution_count": 65,
   "id": "a99ad11a",
   "metadata": {},
   "outputs": [],
   "source": [
    "tablaBase=tabla_ind.merge(tabla_freq, left_on=['ID','HORA'], right_on=['ID','HORA'], how='left')\n",
    "#tablaBase.drop(columns=['NO','SI'], inplace=True)\n",
    "tablaBase.columns=['ID','HORA','IND','FREQ']\n",
    "tablaBase.reset_index(inplace=True)\n",
    "mejores_hora=tablaBase[(tablaBase['IND']==1)&(tablaBase['FREQ']>=3)]\n",
    "group_casos_mejora=mejores_hora.groupby('ID')"
   ]
  },
  {
   "cell_type": "code",
   "execution_count": 66,
   "id": "c1c3c781",
   "metadata": {},
   "outputs": [],
   "source": [
    "i=0\n",
    "for g in group_casos_mejora.groups:\n",
    "    i=i+1\n",
    "    group = group_casos_mejora.get_group(g)\n",
    "    val_ids=group['HORA'].values\n",
    "    t_aux=tabla_final.copy()\n",
    "    t_aux=t_aux[(t_aux['pos']<num_muestras_hora)&(t_aux.index.isin(val_ids))]\n",
    "    t_aux= t_aux[~t_aux.isin([g]).any(axis=1)]\n",
    "    \n",
    "    for sel_hora in t_aux.index:\n",
    "        pos=tabla_final.at[sel_hora,'pos']\n",
    "        tabla_final.at[sel_hora,pos]=int(g)  \n",
    "        tabla_final.at[sel_hora,'pos']=tabla_final.at[sel_hora,'pos']+1\n",
    "        "
   ]
  },
  {
   "cell_type": "markdown",
   "id": "2d607b4e",
   "metadata": {},
   "source": [
    "### Completar faltantes con mejores casos"
   ]
  },
  {
   "cell_type": "code",
   "execution_count": 67,
   "id": "34790c94",
   "metadata": {},
   "outputs": [],
   "source": [
    "tabla_ind_total=pd.pivot_table(DataExito[['ID','CUMPLE_BANDA','CONDICION']], index=['ID'], columns=['CUMPLE_BANDA'], aggfunc=len, fill_value=0)\n",
    "tabla_ind_total.columns=tabla_ind_total.columns.droplevel()\n",
    "tabla_ind_total.reset_index(inplace=True)\n",
    "tabla_ind_total['ind']=tabla_ind_total['SI']/(tabla_ind_total['SI']+tabla_ind_total['NO'])\n",
    "tabla_ind_total=tabla_ind_total.sort_values(['ind','SI'], ascending=False)\n",
    "pos_mejores=0"
   ]
  },
  {
   "cell_type": "code",
   "execution_count": 68,
   "id": "8ae136a9",
   "metadata": {
    "scrolled": true
   },
   "outputs": [],
   "source": [
    "while len(tabla_final[tabla_final['pos']<num_muestras_hora])>0:\n",
    "    t_aux=tabla_final[tabla_final['pos']<num_muestras_hora]\n",
    "    id_aux=tabla_ind_total['ID'].values[pos_mejores]\n",
    "    t_aux= t_aux[~t_aux.isin([id_aux]).any(axis=1)]\n",
    "    \n",
    "    for sel_hora in t_aux.index:\n",
    "        pos=tabla_final.at[sel_hora,'pos']\n",
    "        tabla_final.at[sel_hora,pos]=int(id_aux)  \n",
    "        tabla_final.at[sel_hora,'pos']=tabla_final.at[sel_hora,'pos']+1\n",
    "    pos_mejores=pos_mejores+1"
   ]
  },
  {
   "cell_type": "code",
   "execution_count": 69,
   "id": "f72bd567",
   "metadata": {},
   "outputs": [
    {
     "name": "stdout",
     "output_type": "stream",
     "text": [
      "6 False\n",
      "7 False\n",
      "8 False\n",
      "9 False\n",
      "10 False\n",
      "11 False\n",
      "12 False\n",
      "13 False\n",
      "14 False\n",
      "15 False\n",
      "16 False\n",
      "17 False\n",
      "18 False\n",
      "19 False\n",
      "20 False\n"
     ]
    }
   ],
   "source": [
    "## validar duplicados por hora\n",
    "for hora,row in tabla_final.iterrows():    \n",
    "    a_set = set(row)\n",
    "    contains_duplicates = len(row) != len(a_set)\n",
    "    print(hora,contains_duplicates)"
   ]
  },
  {
   "cell_type": "markdown",
   "id": "fa32284a",
   "metadata": {},
   "source": [
    "## Alistamiento de salida"
   ]
  },
  {
   "cell_type": "code",
   "execution_count": 70,
   "id": "c2c510e9",
   "metadata": {},
   "outputs": [],
   "source": [
    "tabla_ind_total['tipo']=np.where(tabla_ind_total['ind']==0, 'CRITICO', np.where(tabla_ind_total['ind']==1,'BUENO','REGULAR'))\n",
    "tabla_final_un=tabla_final.reset_index().drop(columns=['pos']).melt(id_vars=['hora'],var_name='muestra',value_name='ID')\n",
    "tabla_final_un=tabla_final_un.merge(tabla_ind_total, left_on='ID', right_on='ID', how='left')\n",
    "tabla_final_un['tipo']=np.where(tabla_final_un['tipo'].isnull(),'CRITICO',tabla_final_un['tipo'])\n",
    "tabla_final_un=tabla_final_un.merge(maestro_Aps, left_on='ID', right_on='ID', how='left')\n",
    "archivo=tabla_final_un[['ID','BANDA','hora']]\n",
    "archivo.columns=['ID','BANDA','HORA']\n",
    "archivo=archivo.sort_values('HORA')"
   ]
  },
  {
   "cell_type": "code",
   "execution_count": 71,
   "id": "d0924e94",
   "metadata": {},
   "outputs": [
    {
     "data": {
      "text/plain": [
       "ID       0\n",
       "BANDA    0\n",
       "HORA     0\n",
       "dtype: int64"
      ]
     },
     "execution_count": 71,
     "metadata": {},
     "output_type": "execute_result"
    }
   ],
   "source": [
    "archivo.isnull().sum()"
   ]
  },
  {
   "cell_type": "code",
   "execution_count": 72,
   "id": "72d14775",
   "metadata": {},
   "outputs": [
    {
     "data": {
      "text/plain": [
       "DL:12.00Mb-UL:3.00Mb    547\n",
       "DL:15.00Mb-UL:3.75Mb    355\n",
       "DL:18.00Mb-UL:4.50Mb    169\n",
       "DL:21.00Mb-UL:5.25Mb     69\n",
       "Name: BANDA, dtype: int64"
      ]
     },
     "execution_count": 72,
     "metadata": {},
     "output_type": "execute_result"
    }
   ],
   "source": [
    "archivo['BANDA'].value_counts()"
   ]
  },
  {
   "cell_type": "code",
   "execution_count": 73,
   "id": "247e773b",
   "metadata": {},
   "outputs": [
    {
     "data": {
      "text/html": [
       "<div>\n",
       "<style scoped>\n",
       "    .dataframe tbody tr th:only-of-type {\n",
       "        vertical-align: middle;\n",
       "    }\n",
       "\n",
       "    .dataframe tbody tr th {\n",
       "        vertical-align: top;\n",
       "    }\n",
       "\n",
       "    .dataframe thead th {\n",
       "        text-align: right;\n",
       "    }\n",
       "</style>\n",
       "<table border=\"1\" class=\"dataframe\">\n",
       "  <thead>\n",
       "    <tr style=\"text-align: right;\">\n",
       "      <th></th>\n",
       "      <th>ID</th>\n",
       "      <th>BANDA</th>\n",
       "      <th>HORA</th>\n",
       "    </tr>\n",
       "  </thead>\n",
       "  <tbody>\n",
       "  </tbody>\n",
       "</table>\n",
       "</div>"
      ],
      "text/plain": [
       "Empty DataFrame\n",
       "Columns: [ID, BANDA, HORA]\n",
       "Index: []"
      ]
     },
     "execution_count": 73,
     "metadata": {},
     "output_type": "execute_result"
    }
   ],
   "source": [
    "duplicateRowsDF = archivo[archivo.duplicated()]\n",
    "duplicateRowsDF"
   ]
  },
  {
   "cell_type": "code",
   "execution_count": 74,
   "id": "7d33eb27",
   "metadata": {},
   "outputs": [
    {
     "data": {
      "text/html": [
       "<div>\n",
       "<style scoped>\n",
       "    .dataframe tbody tr th:only-of-type {\n",
       "        vertical-align: middle;\n",
       "    }\n",
       "\n",
       "    .dataframe tbody tr th {\n",
       "        vertical-align: top;\n",
       "    }\n",
       "\n",
       "    .dataframe thead th {\n",
       "        text-align: right;\n",
       "    }\n",
       "</style>\n",
       "<table border=\"1\" class=\"dataframe\">\n",
       "  <thead>\n",
       "    <tr style=\"text-align: right;\">\n",
       "      <th>tipo</th>\n",
       "      <th>BUENO</th>\n",
       "      <th>CRITICO</th>\n",
       "      <th>REGULAR</th>\n",
       "      <th>All</th>\n",
       "    </tr>\n",
       "    <tr>\n",
       "      <th>hora</th>\n",
       "      <th></th>\n",
       "      <th></th>\n",
       "      <th></th>\n",
       "      <th></th>\n",
       "    </tr>\n",
       "  </thead>\n",
       "  <tbody>\n",
       "    <tr>\n",
       "      <th>6</th>\n",
       "      <td>5</td>\n",
       "      <td>3</td>\n",
       "      <td>68</td>\n",
       "      <td>76</td>\n",
       "    </tr>\n",
       "    <tr>\n",
       "      <th>7</th>\n",
       "      <td>10</td>\n",
       "      <td>4</td>\n",
       "      <td>62</td>\n",
       "      <td>76</td>\n",
       "    </tr>\n",
       "    <tr>\n",
       "      <th>8</th>\n",
       "      <td>29</td>\n",
       "      <td>5</td>\n",
       "      <td>42</td>\n",
       "      <td>76</td>\n",
       "    </tr>\n",
       "    <tr>\n",
       "      <th>9</th>\n",
       "      <td>51</td>\n",
       "      <td>5</td>\n",
       "      <td>20</td>\n",
       "      <td>76</td>\n",
       "    </tr>\n",
       "    <tr>\n",
       "      <th>10</th>\n",
       "      <td>34</td>\n",
       "      <td>5</td>\n",
       "      <td>37</td>\n",
       "      <td>76</td>\n",
       "    </tr>\n",
       "    <tr>\n",
       "      <th>11</th>\n",
       "      <td>42</td>\n",
       "      <td>8</td>\n",
       "      <td>26</td>\n",
       "      <td>76</td>\n",
       "    </tr>\n",
       "    <tr>\n",
       "      <th>12</th>\n",
       "      <td>49</td>\n",
       "      <td>7</td>\n",
       "      <td>20</td>\n",
       "      <td>76</td>\n",
       "    </tr>\n",
       "    <tr>\n",
       "      <th>13</th>\n",
       "      <td>46</td>\n",
       "      <td>9</td>\n",
       "      <td>21</td>\n",
       "      <td>76</td>\n",
       "    </tr>\n",
       "    <tr>\n",
       "      <th>14</th>\n",
       "      <td>51</td>\n",
       "      <td>6</td>\n",
       "      <td>19</td>\n",
       "      <td>76</td>\n",
       "    </tr>\n",
       "    <tr>\n",
       "      <th>15</th>\n",
       "      <td>41</td>\n",
       "      <td>8</td>\n",
       "      <td>27</td>\n",
       "      <td>76</td>\n",
       "    </tr>\n",
       "    <tr>\n",
       "      <th>16</th>\n",
       "      <td>36</td>\n",
       "      <td>10</td>\n",
       "      <td>30</td>\n",
       "      <td>76</td>\n",
       "    </tr>\n",
       "    <tr>\n",
       "      <th>17</th>\n",
       "      <td>46</td>\n",
       "      <td>7</td>\n",
       "      <td>23</td>\n",
       "      <td>76</td>\n",
       "    </tr>\n",
       "    <tr>\n",
       "      <th>18</th>\n",
       "      <td>27</td>\n",
       "      <td>8</td>\n",
       "      <td>41</td>\n",
       "      <td>76</td>\n",
       "    </tr>\n",
       "    <tr>\n",
       "      <th>19</th>\n",
       "      <td>41</td>\n",
       "      <td>8</td>\n",
       "      <td>27</td>\n",
       "      <td>76</td>\n",
       "    </tr>\n",
       "    <tr>\n",
       "      <th>20</th>\n",
       "      <td>45</td>\n",
       "      <td>6</td>\n",
       "      <td>25</td>\n",
       "      <td>76</td>\n",
       "    </tr>\n",
       "    <tr>\n",
       "      <th>All</th>\n",
       "      <td>553</td>\n",
       "      <td>99</td>\n",
       "      <td>488</td>\n",
       "      <td>1140</td>\n",
       "    </tr>\n",
       "  </tbody>\n",
       "</table>\n",
       "</div>"
      ],
      "text/plain": [
       "tipo  BUENO  CRITICO  REGULAR   All\n",
       "hora                               \n",
       "6         5        3       68    76\n",
       "7        10        4       62    76\n",
       "8        29        5       42    76\n",
       "9        51        5       20    76\n",
       "10       34        5       37    76\n",
       "11       42        8       26    76\n",
       "12       49        7       20    76\n",
       "13       46        9       21    76\n",
       "14       51        6       19    76\n",
       "15       41        8       27    76\n",
       "16       36       10       30    76\n",
       "17       46        7       23    76\n",
       "18       27        8       41    76\n",
       "19       41        8       27    76\n",
       "20       45        6       25    76\n",
       "All     553       99      488  1140"
      ]
     },
     "execution_count": 74,
     "metadata": {},
     "output_type": "execute_result"
    }
   ],
   "source": [
    "pd.crosstab(index=tabla_final_un['hora'],\n",
    "            columns=tabla_final_un['tipo'], margins=True)"
   ]
  },
  {
   "cell_type": "code",
   "execution_count": 75,
   "id": "a9c9ee93",
   "metadata": {},
   "outputs": [
    {
     "data": {
      "text/html": [
       "<style  type=\"text/css\" >\n",
       "    #T_86e82_ th {\n",
       "          background-color: #c00000;\n",
       "          color: white;\n",
       "    }</style><table id=\"T_86e82_\" ><thead>    <tr>        <th class=\"blank level0\" ></th>        <th class=\"col_heading level0 col0\" >BUENO</th>        <th class=\"col_heading level0 col1\" >MALO</th>        <th class=\"col_heading level0 col2\" >TOTAL</th>    </tr>    <tr>        <th class=\"index_name level0\" >hora</th>        <th class=\"blank\" ></th>        <th class=\"blank\" ></th>        <th class=\"blank\" ></th>    </tr></thead><tbody>\n",
       "                <tr>\n",
       "                        <th id=\"T_86e82_level0_row0\" class=\"row_heading level0 row0\" >6</th>\n",
       "                        <td id=\"T_86e82_row0_col0\" class=\"data row0 col0\" >73</td>\n",
       "                        <td id=\"T_86e82_row0_col1\" class=\"data row0 col1\" >3</td>\n",
       "                        <td id=\"T_86e82_row0_col2\" class=\"data row0 col2\" >76</td>\n",
       "            </tr>\n",
       "            <tr>\n",
       "                        <th id=\"T_86e82_level0_row1\" class=\"row_heading level0 row1\" >7</th>\n",
       "                        <td id=\"T_86e82_row1_col0\" class=\"data row1 col0\" >72</td>\n",
       "                        <td id=\"T_86e82_row1_col1\" class=\"data row1 col1\" >4</td>\n",
       "                        <td id=\"T_86e82_row1_col2\" class=\"data row1 col2\" >76</td>\n",
       "            </tr>\n",
       "            <tr>\n",
       "                        <th id=\"T_86e82_level0_row2\" class=\"row_heading level0 row2\" >8</th>\n",
       "                        <td id=\"T_86e82_row2_col0\" class=\"data row2 col0\" >71</td>\n",
       "                        <td id=\"T_86e82_row2_col1\" class=\"data row2 col1\" >5</td>\n",
       "                        <td id=\"T_86e82_row2_col2\" class=\"data row2 col2\" >76</td>\n",
       "            </tr>\n",
       "            <tr>\n",
       "                        <th id=\"T_86e82_level0_row3\" class=\"row_heading level0 row3\" >9</th>\n",
       "                        <td id=\"T_86e82_row3_col0\" class=\"data row3 col0\" >71</td>\n",
       "                        <td id=\"T_86e82_row3_col1\" class=\"data row3 col1\" >5</td>\n",
       "                        <td id=\"T_86e82_row3_col2\" class=\"data row3 col2\" >76</td>\n",
       "            </tr>\n",
       "            <tr>\n",
       "                        <th id=\"T_86e82_level0_row4\" class=\"row_heading level0 row4\" >10</th>\n",
       "                        <td id=\"T_86e82_row4_col0\" class=\"data row4 col0\" >71</td>\n",
       "                        <td id=\"T_86e82_row4_col1\" class=\"data row4 col1\" >5</td>\n",
       "                        <td id=\"T_86e82_row4_col2\" class=\"data row4 col2\" >76</td>\n",
       "            </tr>\n",
       "            <tr>\n",
       "                        <th id=\"T_86e82_level0_row5\" class=\"row_heading level0 row5\" >11</th>\n",
       "                        <td id=\"T_86e82_row5_col0\" class=\"data row5 col0\" >68</td>\n",
       "                        <td id=\"T_86e82_row5_col1\" class=\"data row5 col1\" >8</td>\n",
       "                        <td id=\"T_86e82_row5_col2\" class=\"data row5 col2\" >76</td>\n",
       "            </tr>\n",
       "            <tr>\n",
       "                        <th id=\"T_86e82_level0_row6\" class=\"row_heading level0 row6\" >12</th>\n",
       "                        <td id=\"T_86e82_row6_col0\" class=\"data row6 col0\" >69</td>\n",
       "                        <td id=\"T_86e82_row6_col1\" class=\"data row6 col1\" >7</td>\n",
       "                        <td id=\"T_86e82_row6_col2\" class=\"data row6 col2\" >76</td>\n",
       "            </tr>\n",
       "            <tr>\n",
       "                        <th id=\"T_86e82_level0_row7\" class=\"row_heading level0 row7\" >13</th>\n",
       "                        <td id=\"T_86e82_row7_col0\" class=\"data row7 col0\" >67</td>\n",
       "                        <td id=\"T_86e82_row7_col1\" class=\"data row7 col1\" >9</td>\n",
       "                        <td id=\"T_86e82_row7_col2\" class=\"data row7 col2\" >76</td>\n",
       "            </tr>\n",
       "            <tr>\n",
       "                        <th id=\"T_86e82_level0_row8\" class=\"row_heading level0 row8\" >14</th>\n",
       "                        <td id=\"T_86e82_row8_col0\" class=\"data row8 col0\" >70</td>\n",
       "                        <td id=\"T_86e82_row8_col1\" class=\"data row8 col1\" >6</td>\n",
       "                        <td id=\"T_86e82_row8_col2\" class=\"data row8 col2\" >76</td>\n",
       "            </tr>\n",
       "            <tr>\n",
       "                        <th id=\"T_86e82_level0_row9\" class=\"row_heading level0 row9\" >15</th>\n",
       "                        <td id=\"T_86e82_row9_col0\" class=\"data row9 col0\" >68</td>\n",
       "                        <td id=\"T_86e82_row9_col1\" class=\"data row9 col1\" >8</td>\n",
       "                        <td id=\"T_86e82_row9_col2\" class=\"data row9 col2\" >76</td>\n",
       "            </tr>\n",
       "            <tr>\n",
       "                        <th id=\"T_86e82_level0_row10\" class=\"row_heading level0 row10\" >16</th>\n",
       "                        <td id=\"T_86e82_row10_col0\" class=\"data row10 col0\" >66</td>\n",
       "                        <td id=\"T_86e82_row10_col1\" class=\"data row10 col1\" >10</td>\n",
       "                        <td id=\"T_86e82_row10_col2\" class=\"data row10 col2\" >76</td>\n",
       "            </tr>\n",
       "            <tr>\n",
       "                        <th id=\"T_86e82_level0_row11\" class=\"row_heading level0 row11\" >17</th>\n",
       "                        <td id=\"T_86e82_row11_col0\" class=\"data row11 col0\" >69</td>\n",
       "                        <td id=\"T_86e82_row11_col1\" class=\"data row11 col1\" >7</td>\n",
       "                        <td id=\"T_86e82_row11_col2\" class=\"data row11 col2\" >76</td>\n",
       "            </tr>\n",
       "            <tr>\n",
       "                        <th id=\"T_86e82_level0_row12\" class=\"row_heading level0 row12\" >18</th>\n",
       "                        <td id=\"T_86e82_row12_col0\" class=\"data row12 col0\" >68</td>\n",
       "                        <td id=\"T_86e82_row12_col1\" class=\"data row12 col1\" >8</td>\n",
       "                        <td id=\"T_86e82_row12_col2\" class=\"data row12 col2\" >76</td>\n",
       "            </tr>\n",
       "            <tr>\n",
       "                        <th id=\"T_86e82_level0_row13\" class=\"row_heading level0 row13\" >19</th>\n",
       "                        <td id=\"T_86e82_row13_col0\" class=\"data row13 col0\" >68</td>\n",
       "                        <td id=\"T_86e82_row13_col1\" class=\"data row13 col1\" >8</td>\n",
       "                        <td id=\"T_86e82_row13_col2\" class=\"data row13 col2\" >76</td>\n",
       "            </tr>\n",
       "            <tr>\n",
       "                        <th id=\"T_86e82_level0_row14\" class=\"row_heading level0 row14\" >20</th>\n",
       "                        <td id=\"T_86e82_row14_col0\" class=\"data row14 col0\" >70</td>\n",
       "                        <td id=\"T_86e82_row14_col1\" class=\"data row14 col1\" >6</td>\n",
       "                        <td id=\"T_86e82_row14_col2\" class=\"data row14 col2\" >76</td>\n",
       "            </tr>\n",
       "            <tr>\n",
       "                        <th id=\"T_86e82_level0_row15\" class=\"row_heading level0 row15\" >All</th>\n",
       "                        <td id=\"T_86e82_row15_col0\" class=\"data row15 col0\" >1041</td>\n",
       "                        <td id=\"T_86e82_row15_col1\" class=\"data row15 col1\" >99</td>\n",
       "                        <td id=\"T_86e82_row15_col2\" class=\"data row15 col2\" >1140</td>\n",
       "            </tr>\n",
       "    </tbody></table>"
      ],
      "text/plain": [
       "<pandas.io.formats.style.Styler at 0x1f651154df0>"
      ]
     },
     "execution_count": 75,
     "metadata": {},
     "output_type": "execute_result"
    }
   ],
   "source": [
    "res_pres=pd.crosstab(index=tabla_final_un['hora'], columns=tabla_final_un['tipo'], margins=True)\n",
    "res_pres['BUENO2']=res_pres['BUENO']+res_pres['REGULAR']\n",
    "res_pres.drop(columns=['BUENO','REGULAR'],inplace=True)\n",
    "res_pres=res_pres[['BUENO2','CRITICO','All']]\n",
    "res_pres.columns=['BUENO','MALO','TOTAL']\n",
    "#res_pres\n",
    "res_pres.style.set_table_styles([{\n",
    "    'selector':'th', 'props':[('background-color','#c00000'),('color','white')]\n",
    "}])"
   ]
  },
  {
   "cell_type": "code",
   "execution_count": 76,
   "id": "2c168275",
   "metadata": {},
   "outputs": [],
   "source": [
    "###  MEDIR PERCENTIL 5 por hora y comparar casos"
   ]
  },
  {
   "cell_type": "code",
   "execution_count": 77,
   "id": "f7881e76",
   "metadata": {},
   "outputs": [],
   "source": [
    "tabla_ind=DataExito.groupby(['ID','HORA'])[['IND']].median()\n",
    "tabla_ind.reset_index(inplace=True)"
   ]
  },
  {
   "cell_type": "code",
   "execution_count": 78,
   "id": "46d92db2",
   "metadata": {},
   "outputs": [],
   "source": [
    "tabla_final_un=tabla_final_un.merge(tabla_ind, left_on=['ID','hora'], right_on=['ID','HORA'],how='left')"
   ]
  },
  {
   "cell_type": "code",
   "execution_count": 79,
   "id": "85f3f974",
   "metadata": {},
   "outputs": [
    {
     "data": {
      "text/plain": [
       "hora\n",
       "6     1878.860750\n",
       "7      875.576500\n",
       "8      940.817500\n",
       "9     1940.542750\n",
       "10     653.229125\n",
       "11     781.177500\n",
       "12     520.592500\n",
       "13    1804.457750\n",
       "14    2400.300000\n",
       "15    2152.442000\n",
       "16     891.673750\n",
       "17     644.555000\n",
       "18    2604.107000\n",
       "19    2121.095000\n",
       "20    1898.866000\n",
       "Name: IND, dtype: float64"
      ]
     },
     "execution_count": 79,
     "metadata": {},
     "output_type": "execute_result"
    }
   ],
   "source": [
    "tabla_final_un.groupby('hora')['IND'].quantile(0.05)"
   ]
  },
  {
   "cell_type": "code",
   "execution_count": 80,
   "id": "bc69fd76",
   "metadata": {},
   "outputs": [],
   "source": [
    "archivo.to_csv('initialize-general-list-hab.csv',sep=';', index=False)"
   ]
  },
  {
   "cell_type": "markdown",
   "id": "9d1c9467",
   "metadata": {},
   "source": [
    "## FESTIVOS"
   ]
  },
  {
   "cell_type": "code",
   "execution_count": 81,
   "id": "b8741fcf",
   "metadata": {},
   "outputs": [],
   "source": [
    "DataExito=DataExito_base.copy()"
   ]
  },
  {
   "cell_type": "code",
   "execution_count": 82,
   "id": "bd70e998",
   "metadata": {},
   "outputs": [],
   "source": [
    "DataExito= DataExito[DataExito['FILTRO']=='fds']"
   ]
  },
  {
   "cell_type": "markdown",
   "id": "59b8f122",
   "metadata": {},
   "source": [
    "## Procesamiento"
   ]
  },
  {
   "cell_type": "code",
   "execution_count": 83,
   "id": "807a2af1",
   "metadata": {},
   "outputs": [],
   "source": [
    "DataExito['IND']=((DataExito['VELOCIDAD_SUBIDA']-DataExito['SUBIDA_LIM'])+(DataExito['VELOCIDAD_BAJADA']-DataExito['BAJADA_LIM']))/2\n",
    "tabla_ind=DataExito.groupby(['ID','HORA'])[['IND']].median()\n",
    "tabla_ind.reset_index(inplace=True)\n",
    "tabla_freq=DataExito.groupby(['ID','HORA'])[['CONDICION']].count().reset_index()"
   ]
  },
  {
   "cell_type": "code",
   "execution_count": 84,
   "id": "4c19aec0",
   "metadata": {},
   "outputs": [],
   "source": [
    "tablaBase=tabla_ind.merge(tabla_freq, left_on=['ID','HORA'], right_on=['ID','HORA'], how='left')\n",
    "tablaBase.columns=['ID','HORA','IND','FREQ']\n",
    "tablaBase.reset_index(inplace=True)\n",
    "tabla_casos_cero=tablaBase.groupby('ID')[['IND']].max()\n",
    "tabla_casos_cero=tabla_casos_cero[tabla_casos_cero['IND']==0]\n",
    "casos_cero=tablaBase[tablaBase['ID'].isin(tabla_casos_cero.index)]\n",
    "tablaBase=tablaBase[~tablaBase['ID'].isin(casos_cero['ID'].unique())]"
   ]
  },
  {
   "cell_type": "markdown",
   "id": "1cdc5d48",
   "metadata": {},
   "source": [
    "### Distribución aps bajos"
   ]
  },
  {
   "cell_type": "code",
   "execution_count": 85,
   "id": "af7534a2",
   "metadata": {},
   "outputs": [],
   "source": [
    "tablaBase.sort_values(['ID','IND','FREQ'], ascending=False, inplace=True)\n",
    "tablaBase.reset_index(drop=True, inplace=True)\n",
    "tabla_primera_opcion=tablaBase.groupby(['ID']).nth(0)\n",
    "casos_bajos=tabla_primera_opcion[tabla_primera_opcion['IND']<0]\n",
    "muestra_bajas_hora=int(len(casos_bajos)/num_horas)+1"
   ]
  },
  {
   "cell_type": "code",
   "execution_count": 86,
   "id": "6248bc8d",
   "metadata": {},
   "outputs": [],
   "source": [
    "#casos_bajos=casos_bajos.sort_values('IND')[:(muestra_bajas_hora*num_horas)]\n",
    "casos_bajos=casos_bajos.sort_values('IND')\n",
    "casos_bajos.reset_index(inplace=True)\n",
    "casos_bajos.reset_index(inplace=True)\n",
    "#casos_bajos\n",
    "#lograr la mayor distribución de hora posible\n",
    "casos_bajos['franja']=np.where(casos_bajos['level_0']//num_horas%2==0,casos_bajos['level_0']%num_horas,(num_horas-1-casos_bajos['level_0']%num_horas))\n",
    "casos_bajos['hora']=casos_bajos['franja']+6\n",
    "tablaBase=tablaBase[~tablaBase['ID'].isin(casos_bajos['ID'].unique())]"
   ]
  },
  {
   "cell_type": "code",
   "execution_count": 87,
   "id": "a978d15f",
   "metadata": {},
   "outputs": [],
   "source": [
    "num_muestras_hora=num_muestras_hora-muestra_bajas_hora\n",
    "asignacionFinal=pd.DataFrame()"
   ]
  },
  {
   "cell_type": "markdown",
   "id": "b3652126",
   "metadata": {},
   "source": [
    "### asignacion principal"
   ]
  },
  {
   "cell_type": "code",
   "execution_count": 88,
   "id": "0908ed33",
   "metadata": {},
   "outputs": [],
   "source": [
    "i=0\n",
    "num_horas_sobre=1\n",
    "while num_horas_sobre > 0:   \n",
    "    #Reordenar la base\n",
    "    tablaBase.sort_values(['ID','IND','FREQ'], ascending=False, inplace=True)\n",
    "    tablaBase.reset_index(drop=True, inplace=True)\n",
    "    tablaBase['index']=tablaBase.index\n",
    "    \n",
    "    tablaBase['dif']=tablaBase.groupby('ID')['IND'].diff(-1)\n",
    "    tablaBase['index_N']=tablaBase.groupby('ID')['index'].shift(periods=-1)\n",
    "    tablaBase['HORA_N']=tablaBase.groupby('ID')['HORA'].shift(periods=-1)\n",
    "    tablaBase['IND_N']=tablaBase.groupby('ID')['IND'].shift(periods=-1)\n",
    "    tablaBase['FREQ_N']=tablaBase.groupby('ID')['FREQ'].shift(periods=-1)\n",
    "\n",
    "    tabla_primera_opcion=tablaBase.groupby(['ID']).nth(0)\n",
    "    tabla_primera_opcion.reset_index(inplace=True)\n",
    "    \n",
    "    tabla_ronda=tabla_primera_opcion\n",
    "    \n",
    "    resumen=tabla_ronda[['HORA']].value_counts().to_frame()\n",
    "    resumen['DIF']=resumen[0]-num_muestras_hora\n",
    "    \n",
    "    horas_sobre=resumen[resumen['DIF']>0]           \n",
    "    num_horas_sobre=len(horas_sobre)\n",
    "    \n",
    "    # guardar valores\n",
    "    if num_horas_sobre>0:\n",
    "        hora_aux=horas_sobre.index[0][0]\n",
    "        dif_aux=horas_sobre.iloc[0]['DIF']\n",
    "        tabla_ronda=tabla_ronda.sort_values('dif')\n",
    "        saldo=tabla_ronda[tabla_ronda['HORA']==hora_aux][dif_aux:]        \n",
    "        if i==0:\n",
    "            asignacionFinal=saldo\n",
    "        else: \n",
    "            asignacionFinal=asignacionFinal.append(saldo)            \n",
    "        \n",
    "        tablaBase=tablaBase[tablaBase['HORA']!=hora_aux]\n",
    "        tablaBase=tablaBase[~tablaBase['ID'].isin(saldo['ID'])]    \n",
    "        #tablaBase=tablaBase[~tablaBase['ID'].isin(tabla_cero['ID'])]\n",
    "        i+=1\n",
    "        \n",
    "if i==0:\n",
    "    asignacionFinal=tabla_ronda\n",
    "else: \n",
    "    asignacionFinal=asignacionFinal.append(tabla_ronda)\n",
    "    "
   ]
  },
  {
   "cell_type": "markdown",
   "id": "7e2cc3ae",
   "metadata": {},
   "source": [
    "#####  Matriz de posiciciones a llenar"
   ]
  },
  {
   "cell_type": "code",
   "execution_count": 89,
   "id": "57d24dfb",
   "metadata": {},
   "outputs": [],
   "source": [
    "num_muestras_hora=num_muestras_hora+muestra_bajas_hora"
   ]
  },
  {
   "cell_type": "code",
   "execution_count": 90,
   "id": "b66e8c3c",
   "metadata": {},
   "outputs": [],
   "source": [
    "tabla_final=pd.DataFrame({'hora':list(range(6,20+1))},columns=['hora']+list(range(num_muestras_hora)))\n",
    "tabla_final.set_index('hora',inplace=True)\n",
    "tabla_final['pos']=0"
   ]
  },
  {
   "cell_type": "markdown",
   "id": "dd99269f",
   "metadata": {},
   "source": [
    "### Asignar resultado anterior"
   ]
  },
  {
   "cell_type": "code",
   "execution_count": 91,
   "id": "0355ecc5",
   "metadata": {
    "scrolled": true
   },
   "outputs": [],
   "source": [
    "for index, row in asignacionFinal.iterrows():    \n",
    "    hora_aux=int(row['HORA'])\n",
    "    pos=tabla_final.at[hora_aux,'pos']    \n",
    "    tabla_final.at[hora_aux,pos]=int(row['ID'])    \n",
    "    tabla_final.at[hora_aux,'pos']=tabla_final.at[hora_aux,'pos']+1"
   ]
  },
  {
   "cell_type": "markdown",
   "id": "31129752",
   "metadata": {},
   "source": [
    "## Asignar casos bajos"
   ]
  },
  {
   "cell_type": "code",
   "execution_count": 92,
   "id": "9675b3e2",
   "metadata": {},
   "outputs": [],
   "source": [
    "for ind,row in casos_bajos.iterrows():\n",
    "    t_aux=tabla_final.copy()\n",
    "    t_aux=t_aux[(t_aux['pos']<num_muestras_hora)]\n",
    "    sel_hora=row['hora']\n",
    "    idx=int(row['ID'])\n",
    "    pos=tabla_final.at[sel_hora,'pos']\n",
    "    tabla_final.at[sel_hora,pos]=idx    \n",
    "    tabla_final.at[sel_hora,'pos']=tabla_final.at[sel_hora,'pos']+1"
   ]
  },
  {
   "cell_type": "markdown",
   "id": "0d9579e1",
   "metadata": {},
   "source": [
    "## Agregar 100% F"
   ]
  },
  {
   "cell_type": "code",
   "execution_count": 93,
   "id": "831766fa",
   "metadata": {},
   "outputs": [],
   "source": [
    "## SE UNE CON LA PARTE INICIAL PUEDE SER EN ESTE PUNTO\n",
    "APs_sin_Exito=Data[~Data['ID'].isin(DataExito['ID'].unique())]\n",
    "APs_sin_Exito=list(APs_sin_Exito['ID'].unique())"
   ]
  },
  {
   "cell_type": "code",
   "execution_count": 94,
   "id": "c6eb09aa",
   "metadata": {},
   "outputs": [],
   "source": [
    "for idx in APs_sin_Exito:\n",
    "    t_aux=tabla_final.copy()\n",
    "    t_aux=t_aux[(t_aux['pos']<num_muestras_hora)]\n",
    "    sel_hora=t_aux.sample().index[0]\n",
    "    pos=tabla_final.at[sel_hora,'pos']\n",
    "    tabla_final.at[sel_hora,pos]=idx    \n",
    "    tabla_final.at[sel_hora,'pos']=tabla_final.at[sel_hora,'pos']+1"
   ]
  },
  {
   "cell_type": "markdown",
   "id": "57ca67c9",
   "metadata": {},
   "source": [
    "### Asignar mejores casos"
   ]
  },
  {
   "cell_type": "code",
   "execution_count": 95,
   "id": "4a8803ab",
   "metadata": {},
   "outputs": [],
   "source": [
    "tablaBase=tabla_ind.merge(tabla_freq, left_on=['ID','HORA'], right_on=['ID','HORA'], how='left')\n",
    "#tablaBase.drop(columns=['NO','SI'], inplace=True)\n",
    "tablaBase.columns=['ID','HORA','IND','FREQ']\n",
    "tablaBase.reset_index(inplace=True)\n",
    "mejores_hora=tablaBase[(tablaBase['IND']==1)&(tablaBase['FREQ']>=3)]\n",
    "group_casos_mejora=mejores_hora.groupby('ID')"
   ]
  },
  {
   "cell_type": "code",
   "execution_count": 96,
   "id": "25a41d89",
   "metadata": {},
   "outputs": [],
   "source": [
    "i=0\n",
    "for g in group_casos_mejora.groups:\n",
    "    i=i+1\n",
    "    group = group_casos_mejora.get_group(g)\n",
    "    val_ids=group['HORA'].values\n",
    "    t_aux=tabla_final.copy()\n",
    "    t_aux=t_aux[(t_aux['pos']<num_muestras_hora)&(t_aux.index.isin(val_ids))]\n",
    "    t_aux= t_aux[~t_aux.isin([g]).any(axis=1)]\n",
    "    \n",
    "    for sel_hora in t_aux.index:\n",
    "        pos=tabla_final.at[sel_hora,'pos']\n",
    "        tabla_final.at[sel_hora,pos]=int(g)  \n",
    "        tabla_final.at[sel_hora,'pos']=tabla_final.at[sel_hora,'pos']+1\n",
    "        "
   ]
  },
  {
   "cell_type": "markdown",
   "id": "4a2bdf0c",
   "metadata": {},
   "source": [
    "### Completar faltantes con mejores casos"
   ]
  },
  {
   "cell_type": "code",
   "execution_count": 97,
   "id": "60502d0a",
   "metadata": {},
   "outputs": [],
   "source": [
    "tabla_ind_total=pd.pivot_table(DataExito[['ID','CUMPLE_BANDA','CONDICION']], index=['ID'], columns=['CUMPLE_BANDA'], aggfunc=len, fill_value=0)\n",
    "tabla_ind_total.columns=tabla_ind_total.columns.droplevel()\n",
    "tabla_ind_total.reset_index(inplace=True)\n",
    "tabla_ind_total['ind']=tabla_ind_total['SI']/(tabla_ind_total['SI']+tabla_ind_total['NO'])\n",
    "tabla_ind_total=tabla_ind_total.sort_values(['ind','SI'], ascending=False)\n",
    "pos_mejores=0"
   ]
  },
  {
   "cell_type": "code",
   "execution_count": 98,
   "id": "af525e4b",
   "metadata": {
    "scrolled": true
   },
   "outputs": [],
   "source": [
    "while len(tabla_final[tabla_final['pos']<num_muestras_hora])>0:\n",
    "    t_aux=tabla_final[tabla_final['pos']<num_muestras_hora]\n",
    "    id_aux=tabla_ind_total['ID'].values[pos_mejores]\n",
    "    t_aux= t_aux[~t_aux.isin([id_aux]).any(axis=1)]\n",
    "    \n",
    "    for sel_hora in t_aux.index:\n",
    "        pos=tabla_final.at[sel_hora,'pos']\n",
    "        tabla_final.at[sel_hora,pos]=int(id_aux)  \n",
    "        tabla_final.at[sel_hora,'pos']=tabla_final.at[sel_hora,'pos']+1\n",
    "    pos_mejores=pos_mejores+1"
   ]
  },
  {
   "cell_type": "code",
   "execution_count": 99,
   "id": "f2976a8b",
   "metadata": {},
   "outputs": [
    {
     "name": "stdout",
     "output_type": "stream",
     "text": [
      "6 False\n",
      "7 False\n",
      "8 False\n",
      "9 False\n",
      "10 False\n",
      "11 False\n",
      "12 False\n",
      "13 False\n",
      "14 False\n",
      "15 False\n",
      "16 False\n",
      "17 False\n",
      "18 False\n",
      "19 False\n",
      "20 False\n"
     ]
    }
   ],
   "source": [
    "## validar duplicados por hora\n",
    "for hora,row in tabla_final.iterrows():    \n",
    "    a_set = set(row)\n",
    "    contains_duplicates = len(row) != len(a_set)\n",
    "    print(hora,contains_duplicates)"
   ]
  },
  {
   "cell_type": "markdown",
   "id": "3e27b6a2",
   "metadata": {},
   "source": [
    "## Alistamiento de salida"
   ]
  },
  {
   "cell_type": "code",
   "execution_count": 100,
   "id": "61388173",
   "metadata": {},
   "outputs": [],
   "source": [
    "tabla_ind_total['tipo']=np.where(tabla_ind_total['ind']==0, 'CRITICO', np.where(tabla_ind_total['ind']==1,'BUENO','REGULAR'))\n",
    "tabla_final_un=tabla_final.reset_index().drop(columns=['pos']).melt(id_vars=['hora'],var_name='muestra',value_name='ID')\n",
    "tabla_final_un=tabla_final_un.merge(tabla_ind_total, left_on='ID', right_on='ID', how='left')\n",
    "tabla_final_un['tipo']=np.where(tabla_final_un['tipo'].isnull(),'CRITICO',tabla_final_un['tipo'])\n",
    "tabla_final_un=tabla_final_un.merge(maestro_Aps, left_on='ID', right_on='ID', how='left')\n",
    "archivo=tabla_final_un[['ID','BANDA','hora']]\n",
    "archivo.columns=['ID','BANDA','HORA']\n",
    "archivo=archivo.sort_values('HORA')"
   ]
  },
  {
   "cell_type": "code",
   "execution_count": 101,
   "id": "86bc2461",
   "metadata": {},
   "outputs": [
    {
     "data": {
      "text/plain": [
       "ID       0\n",
       "BANDA    0\n",
       "HORA     0\n",
       "dtype: int64"
      ]
     },
     "execution_count": 101,
     "metadata": {},
     "output_type": "execute_result"
    }
   ],
   "source": [
    "archivo.isnull().sum()"
   ]
  },
  {
   "cell_type": "code",
   "execution_count": 102,
   "id": "86ef8e9a",
   "metadata": {},
   "outputs": [
    {
     "data": {
      "text/html": [
       "<div>\n",
       "<style scoped>\n",
       "    .dataframe tbody tr th:only-of-type {\n",
       "        vertical-align: middle;\n",
       "    }\n",
       "\n",
       "    .dataframe tbody tr th {\n",
       "        vertical-align: top;\n",
       "    }\n",
       "\n",
       "    .dataframe thead th {\n",
       "        text-align: right;\n",
       "    }\n",
       "</style>\n",
       "<table border=\"1\" class=\"dataframe\">\n",
       "  <thead>\n",
       "    <tr style=\"text-align: right;\">\n",
       "      <th></th>\n",
       "      <th>ID</th>\n",
       "      <th>BANDA</th>\n",
       "      <th>HORA</th>\n",
       "    </tr>\n",
       "  </thead>\n",
       "  <tbody>\n",
       "  </tbody>\n",
       "</table>\n",
       "</div>"
      ],
      "text/plain": [
       "Empty DataFrame\n",
       "Columns: [ID, BANDA, HORA]\n",
       "Index: []"
      ]
     },
     "execution_count": 102,
     "metadata": {},
     "output_type": "execute_result"
    }
   ],
   "source": [
    "duplicateRowsDF = archivo[archivo.duplicated()]\n",
    "duplicateRowsDF"
   ]
  },
  {
   "cell_type": "code",
   "execution_count": 103,
   "id": "f2626805",
   "metadata": {},
   "outputs": [
    {
     "data": {
      "text/html": [
       "<div>\n",
       "<style scoped>\n",
       "    .dataframe tbody tr th:only-of-type {\n",
       "        vertical-align: middle;\n",
       "    }\n",
       "\n",
       "    .dataframe tbody tr th {\n",
       "        vertical-align: top;\n",
       "    }\n",
       "\n",
       "    .dataframe thead th {\n",
       "        text-align: right;\n",
       "    }\n",
       "</style>\n",
       "<table border=\"1\" class=\"dataframe\">\n",
       "  <thead>\n",
       "    <tr style=\"text-align: right;\">\n",
       "      <th>tipo</th>\n",
       "      <th>BUENO</th>\n",
       "      <th>CRITICO</th>\n",
       "      <th>REGULAR</th>\n",
       "      <th>All</th>\n",
       "    </tr>\n",
       "    <tr>\n",
       "      <th>hora</th>\n",
       "      <th></th>\n",
       "      <th></th>\n",
       "      <th></th>\n",
       "      <th></th>\n",
       "    </tr>\n",
       "  </thead>\n",
       "  <tbody>\n",
       "    <tr>\n",
       "      <th>6</th>\n",
       "      <td>12</td>\n",
       "      <td>5</td>\n",
       "      <td>59</td>\n",
       "      <td>76</td>\n",
       "    </tr>\n",
       "    <tr>\n",
       "      <th>7</th>\n",
       "      <td>29</td>\n",
       "      <td>8</td>\n",
       "      <td>39</td>\n",
       "      <td>76</td>\n",
       "    </tr>\n",
       "    <tr>\n",
       "      <th>8</th>\n",
       "      <td>30</td>\n",
       "      <td>9</td>\n",
       "      <td>37</td>\n",
       "      <td>76</td>\n",
       "    </tr>\n",
       "    <tr>\n",
       "      <th>9</th>\n",
       "      <td>45</td>\n",
       "      <td>12</td>\n",
       "      <td>19</td>\n",
       "      <td>76</td>\n",
       "    </tr>\n",
       "    <tr>\n",
       "      <th>10</th>\n",
       "      <td>44</td>\n",
       "      <td>7</td>\n",
       "      <td>25</td>\n",
       "      <td>76</td>\n",
       "    </tr>\n",
       "    <tr>\n",
       "      <th>11</th>\n",
       "      <td>44</td>\n",
       "      <td>13</td>\n",
       "      <td>19</td>\n",
       "      <td>76</td>\n",
       "    </tr>\n",
       "    <tr>\n",
       "      <th>12</th>\n",
       "      <td>52</td>\n",
       "      <td>8</td>\n",
       "      <td>16</td>\n",
       "      <td>76</td>\n",
       "    </tr>\n",
       "    <tr>\n",
       "      <th>13</th>\n",
       "      <td>56</td>\n",
       "      <td>6</td>\n",
       "      <td>14</td>\n",
       "      <td>76</td>\n",
       "    </tr>\n",
       "    <tr>\n",
       "      <th>14</th>\n",
       "      <td>51</td>\n",
       "      <td>7</td>\n",
       "      <td>18</td>\n",
       "      <td>76</td>\n",
       "    </tr>\n",
       "    <tr>\n",
       "      <th>15</th>\n",
       "      <td>43</td>\n",
       "      <td>13</td>\n",
       "      <td>20</td>\n",
       "      <td>76</td>\n",
       "    </tr>\n",
       "    <tr>\n",
       "      <th>16</th>\n",
       "      <td>49</td>\n",
       "      <td>10</td>\n",
       "      <td>17</td>\n",
       "      <td>76</td>\n",
       "    </tr>\n",
       "    <tr>\n",
       "      <th>17</th>\n",
       "      <td>44</td>\n",
       "      <td>11</td>\n",
       "      <td>21</td>\n",
       "      <td>76</td>\n",
       "    </tr>\n",
       "    <tr>\n",
       "      <th>18</th>\n",
       "      <td>56</td>\n",
       "      <td>9</td>\n",
       "      <td>11</td>\n",
       "      <td>76</td>\n",
       "    </tr>\n",
       "    <tr>\n",
       "      <th>19</th>\n",
       "      <td>48</td>\n",
       "      <td>14</td>\n",
       "      <td>14</td>\n",
       "      <td>76</td>\n",
       "    </tr>\n",
       "    <tr>\n",
       "      <th>20</th>\n",
       "      <td>52</td>\n",
       "      <td>11</td>\n",
       "      <td>13</td>\n",
       "      <td>76</td>\n",
       "    </tr>\n",
       "    <tr>\n",
       "      <th>All</th>\n",
       "      <td>655</td>\n",
       "      <td>143</td>\n",
       "      <td>342</td>\n",
       "      <td>1140</td>\n",
       "    </tr>\n",
       "  </tbody>\n",
       "</table>\n",
       "</div>"
      ],
      "text/plain": [
       "tipo  BUENO  CRITICO  REGULAR   All\n",
       "hora                               \n",
       "6        12        5       59    76\n",
       "7        29        8       39    76\n",
       "8        30        9       37    76\n",
       "9        45       12       19    76\n",
       "10       44        7       25    76\n",
       "11       44       13       19    76\n",
       "12       52        8       16    76\n",
       "13       56        6       14    76\n",
       "14       51        7       18    76\n",
       "15       43       13       20    76\n",
       "16       49       10       17    76\n",
       "17       44       11       21    76\n",
       "18       56        9       11    76\n",
       "19       48       14       14    76\n",
       "20       52       11       13    76\n",
       "All     655      143      342  1140"
      ]
     },
     "execution_count": 103,
     "metadata": {},
     "output_type": "execute_result"
    }
   ],
   "source": [
    "pd.crosstab(index=tabla_final_un['hora'],\n",
    "            columns=tabla_final_un['tipo'], margins=True)"
   ]
  },
  {
   "cell_type": "code",
   "execution_count": 104,
   "id": "f30c1030",
   "metadata": {},
   "outputs": [
    {
     "data": {
      "text/html": [
       "<style  type=\"text/css\" >\n",
       "    #T_15e21_ th {\n",
       "          background-color: #c00000;\n",
       "          color: white;\n",
       "    }</style><table id=\"T_15e21_\" ><thead>    <tr>        <th class=\"blank level0\" ></th>        <th class=\"col_heading level0 col0\" >BUENO</th>        <th class=\"col_heading level0 col1\" >MALO</th>        <th class=\"col_heading level0 col2\" >TOTAL</th>    </tr>    <tr>        <th class=\"index_name level0\" >hora</th>        <th class=\"blank\" ></th>        <th class=\"blank\" ></th>        <th class=\"blank\" ></th>    </tr></thead><tbody>\n",
       "                <tr>\n",
       "                        <th id=\"T_15e21_level0_row0\" class=\"row_heading level0 row0\" >6</th>\n",
       "                        <td id=\"T_15e21_row0_col0\" class=\"data row0 col0\" >71</td>\n",
       "                        <td id=\"T_15e21_row0_col1\" class=\"data row0 col1\" >5</td>\n",
       "                        <td id=\"T_15e21_row0_col2\" class=\"data row0 col2\" >76</td>\n",
       "            </tr>\n",
       "            <tr>\n",
       "                        <th id=\"T_15e21_level0_row1\" class=\"row_heading level0 row1\" >7</th>\n",
       "                        <td id=\"T_15e21_row1_col0\" class=\"data row1 col0\" >68</td>\n",
       "                        <td id=\"T_15e21_row1_col1\" class=\"data row1 col1\" >8</td>\n",
       "                        <td id=\"T_15e21_row1_col2\" class=\"data row1 col2\" >76</td>\n",
       "            </tr>\n",
       "            <tr>\n",
       "                        <th id=\"T_15e21_level0_row2\" class=\"row_heading level0 row2\" >8</th>\n",
       "                        <td id=\"T_15e21_row2_col0\" class=\"data row2 col0\" >67</td>\n",
       "                        <td id=\"T_15e21_row2_col1\" class=\"data row2 col1\" >9</td>\n",
       "                        <td id=\"T_15e21_row2_col2\" class=\"data row2 col2\" >76</td>\n",
       "            </tr>\n",
       "            <tr>\n",
       "                        <th id=\"T_15e21_level0_row3\" class=\"row_heading level0 row3\" >9</th>\n",
       "                        <td id=\"T_15e21_row3_col0\" class=\"data row3 col0\" >64</td>\n",
       "                        <td id=\"T_15e21_row3_col1\" class=\"data row3 col1\" >12</td>\n",
       "                        <td id=\"T_15e21_row3_col2\" class=\"data row3 col2\" >76</td>\n",
       "            </tr>\n",
       "            <tr>\n",
       "                        <th id=\"T_15e21_level0_row4\" class=\"row_heading level0 row4\" >10</th>\n",
       "                        <td id=\"T_15e21_row4_col0\" class=\"data row4 col0\" >69</td>\n",
       "                        <td id=\"T_15e21_row4_col1\" class=\"data row4 col1\" >7</td>\n",
       "                        <td id=\"T_15e21_row4_col2\" class=\"data row4 col2\" >76</td>\n",
       "            </tr>\n",
       "            <tr>\n",
       "                        <th id=\"T_15e21_level0_row5\" class=\"row_heading level0 row5\" >11</th>\n",
       "                        <td id=\"T_15e21_row5_col0\" class=\"data row5 col0\" >63</td>\n",
       "                        <td id=\"T_15e21_row5_col1\" class=\"data row5 col1\" >13</td>\n",
       "                        <td id=\"T_15e21_row5_col2\" class=\"data row5 col2\" >76</td>\n",
       "            </tr>\n",
       "            <tr>\n",
       "                        <th id=\"T_15e21_level0_row6\" class=\"row_heading level0 row6\" >12</th>\n",
       "                        <td id=\"T_15e21_row6_col0\" class=\"data row6 col0\" >68</td>\n",
       "                        <td id=\"T_15e21_row6_col1\" class=\"data row6 col1\" >8</td>\n",
       "                        <td id=\"T_15e21_row6_col2\" class=\"data row6 col2\" >76</td>\n",
       "            </tr>\n",
       "            <tr>\n",
       "                        <th id=\"T_15e21_level0_row7\" class=\"row_heading level0 row7\" >13</th>\n",
       "                        <td id=\"T_15e21_row7_col0\" class=\"data row7 col0\" >70</td>\n",
       "                        <td id=\"T_15e21_row7_col1\" class=\"data row7 col1\" >6</td>\n",
       "                        <td id=\"T_15e21_row7_col2\" class=\"data row7 col2\" >76</td>\n",
       "            </tr>\n",
       "            <tr>\n",
       "                        <th id=\"T_15e21_level0_row8\" class=\"row_heading level0 row8\" >14</th>\n",
       "                        <td id=\"T_15e21_row8_col0\" class=\"data row8 col0\" >69</td>\n",
       "                        <td id=\"T_15e21_row8_col1\" class=\"data row8 col1\" >7</td>\n",
       "                        <td id=\"T_15e21_row8_col2\" class=\"data row8 col2\" >76</td>\n",
       "            </tr>\n",
       "            <tr>\n",
       "                        <th id=\"T_15e21_level0_row9\" class=\"row_heading level0 row9\" >15</th>\n",
       "                        <td id=\"T_15e21_row9_col0\" class=\"data row9 col0\" >63</td>\n",
       "                        <td id=\"T_15e21_row9_col1\" class=\"data row9 col1\" >13</td>\n",
       "                        <td id=\"T_15e21_row9_col2\" class=\"data row9 col2\" >76</td>\n",
       "            </tr>\n",
       "            <tr>\n",
       "                        <th id=\"T_15e21_level0_row10\" class=\"row_heading level0 row10\" >16</th>\n",
       "                        <td id=\"T_15e21_row10_col0\" class=\"data row10 col0\" >66</td>\n",
       "                        <td id=\"T_15e21_row10_col1\" class=\"data row10 col1\" >10</td>\n",
       "                        <td id=\"T_15e21_row10_col2\" class=\"data row10 col2\" >76</td>\n",
       "            </tr>\n",
       "            <tr>\n",
       "                        <th id=\"T_15e21_level0_row11\" class=\"row_heading level0 row11\" >17</th>\n",
       "                        <td id=\"T_15e21_row11_col0\" class=\"data row11 col0\" >65</td>\n",
       "                        <td id=\"T_15e21_row11_col1\" class=\"data row11 col1\" >11</td>\n",
       "                        <td id=\"T_15e21_row11_col2\" class=\"data row11 col2\" >76</td>\n",
       "            </tr>\n",
       "            <tr>\n",
       "                        <th id=\"T_15e21_level0_row12\" class=\"row_heading level0 row12\" >18</th>\n",
       "                        <td id=\"T_15e21_row12_col0\" class=\"data row12 col0\" >67</td>\n",
       "                        <td id=\"T_15e21_row12_col1\" class=\"data row12 col1\" >9</td>\n",
       "                        <td id=\"T_15e21_row12_col2\" class=\"data row12 col2\" >76</td>\n",
       "            </tr>\n",
       "            <tr>\n",
       "                        <th id=\"T_15e21_level0_row13\" class=\"row_heading level0 row13\" >19</th>\n",
       "                        <td id=\"T_15e21_row13_col0\" class=\"data row13 col0\" >62</td>\n",
       "                        <td id=\"T_15e21_row13_col1\" class=\"data row13 col1\" >14</td>\n",
       "                        <td id=\"T_15e21_row13_col2\" class=\"data row13 col2\" >76</td>\n",
       "            </tr>\n",
       "            <tr>\n",
       "                        <th id=\"T_15e21_level0_row14\" class=\"row_heading level0 row14\" >20</th>\n",
       "                        <td id=\"T_15e21_row14_col0\" class=\"data row14 col0\" >65</td>\n",
       "                        <td id=\"T_15e21_row14_col1\" class=\"data row14 col1\" >11</td>\n",
       "                        <td id=\"T_15e21_row14_col2\" class=\"data row14 col2\" >76</td>\n",
       "            </tr>\n",
       "            <tr>\n",
       "                        <th id=\"T_15e21_level0_row15\" class=\"row_heading level0 row15\" >All</th>\n",
       "                        <td id=\"T_15e21_row15_col0\" class=\"data row15 col0\" >997</td>\n",
       "                        <td id=\"T_15e21_row15_col1\" class=\"data row15 col1\" >143</td>\n",
       "                        <td id=\"T_15e21_row15_col2\" class=\"data row15 col2\" >1140</td>\n",
       "            </tr>\n",
       "    </tbody></table>"
      ],
      "text/plain": [
       "<pandas.io.formats.style.Styler at 0x1f650f9e490>"
      ]
     },
     "execution_count": 104,
     "metadata": {},
     "output_type": "execute_result"
    }
   ],
   "source": [
    "res_pres=pd.crosstab(index=tabla_final_un['hora'], columns=tabla_final_un['tipo'], margins=True)\n",
    "res_pres['BUENO2']=res_pres['BUENO']+res_pres['REGULAR']\n",
    "res_pres.drop(columns=['BUENO','REGULAR'],inplace=True)\n",
    "res_pres=res_pres[['BUENO2','CRITICO','All']]\n",
    "res_pres.columns=['BUENO','MALO','TOTAL']\n",
    "#res_pres\n",
    "res_pres.style.set_table_styles([{\n",
    "    'selector':'th', 'props':[('background-color','#c00000'),('color','white')]\n",
    "}])"
   ]
  },
  {
   "cell_type": "code",
   "execution_count": 105,
   "id": "711fdebc",
   "metadata": {},
   "outputs": [],
   "source": [
    "tabla_ind=DataExito.groupby(['ID','HORA'])[['IND']].median()\n",
    "tabla_ind.reset_index(inplace=True)"
   ]
  },
  {
   "cell_type": "code",
   "execution_count": 106,
   "id": "a6c2d158",
   "metadata": {},
   "outputs": [],
   "source": [
    "tabla_final_un=tabla_final_un.merge(tabla_ind, left_on=['ID','hora'], right_on=['ID','HORA'],how='left')"
   ]
  },
  {
   "cell_type": "code",
   "execution_count": 107,
   "id": "c519eb4c",
   "metadata": {},
   "outputs": [
    {
     "data": {
      "text/plain": [
       "hora\n",
       "6     1387.348000\n",
       "7      765.022750\n",
       "8     1843.861500\n",
       "9      748.582500\n",
       "10    1870.463125\n",
       "11    2180.791375\n",
       "12    1776.232000\n",
       "13    1859.847125\n",
       "14    1261.617000\n",
       "15     434.290500\n",
       "16    1243.133125\n",
       "17     705.530000\n",
       "18    1468.360375\n",
       "19     533.643500\n",
       "20    2390.126000\n",
       "Name: IND, dtype: float64"
      ]
     },
     "execution_count": 107,
     "metadata": {},
     "output_type": "execute_result"
    }
   ],
   "source": [
    "tabla_final_un.groupby('hora')['IND'].quantile(0.05)"
   ]
  },
  {
   "cell_type": "code",
   "execution_count": 108,
   "id": "edce90e0",
   "metadata": {},
   "outputs": [],
   "source": [
    "archivo.to_csv('initialize-general-list-fds.csv',sep=';', index=False)"
   ]
  }
 ],
 "metadata": {
  "kernelspec": {
   "display_name": "Python 3",
   "language": "python",
   "name": "python3"
  },
  "language_info": {
   "codemirror_mode": {
    "name": "ipython",
    "version": 3
   },
   "file_extension": ".py",
   "mimetype": "text/x-python",
   "name": "python",
   "nbconvert_exporter": "python",
   "pygments_lexer": "ipython3",
   "version": "3.9.0"
  }
 },
 "nbformat": 4,
 "nbformat_minor": 5
}
