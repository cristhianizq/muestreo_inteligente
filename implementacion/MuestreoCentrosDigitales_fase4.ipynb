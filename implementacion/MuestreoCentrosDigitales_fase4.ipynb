{
 "cells": [
  {
   "cell_type": "markdown",
   "id": "933ba512",
   "metadata": {},
   "source": [
    "# Muestreo Centros Digitales"
   ]
  },
  {
   "cell_type": "markdown",
   "id": "e94f2fc2",
   "metadata": {},
   "source": [
    "### Cambios en esta versión\n",
    "* Validar retricción de no más de 20 satelitales por hora"
   ]
  },
  {
   "cell_type": "code",
   "execution_count": 1,
   "id": "defd4fcf",
   "metadata": {},
   "outputs": [],
   "source": [
    "import pandas as pd\n",
    "import numpy as np\n",
    "from matplotlib import pyplot as plt\n",
    "from datetime import date\n",
    "import datetime\n",
    "import random"
   ]
  },
  {
   "cell_type": "code",
   "execution_count": 2,
   "id": "99db8aee",
   "metadata": {},
   "outputs": [],
   "source": [
    "import warnings\n",
    "warnings.filterwarnings('ignore')"
   ]
  },
  {
   "cell_type": "code",
   "execution_count": 3,
   "id": "b81a06b3",
   "metadata": {},
   "outputs": [
    {
     "data": {
      "text/html": [
       "<style>.container { width:100% !important; }</style>"
      ],
      "text/plain": [
       "<IPython.core.display.HTML object>"
      ]
     },
     "metadata": {},
     "output_type": "display_data"
    }
   ],
   "source": [
    "from IPython.core.display import display, HTML\n",
    "display(HTML(\"<style>.container { width:100% !important; }</style>\"))"
   ]
  },
  {
   "cell_type": "markdown",
   "id": "1fa3de22",
   "metadata": {},
   "source": [
    "## Parámetro para definir el medio de carga de datos"
   ]
  },
  {
   "cell_type": "code",
   "execution_count": 4,
   "id": "8f1b8351",
   "metadata": {},
   "outputs": [],
   "source": [
    "formas_de_ingreso=['db','archivos']\n",
    "modoIngresoInformacion=formas_de_ingreso[1] #cambia a 1 si se usan archivos"
   ]
  },
  {
   "cell_type": "code",
   "execution_count": 5,
   "id": "f1f0e225",
   "metadata": {},
   "outputs": [],
   "source": [
    "con_graficas=True"
   ]
  },
  {
   "cell_type": "markdown",
   "id": "fc2bc8ff",
   "metadata": {},
   "source": [
    "## Lectura Bases de datos"
   ]
  },
  {
   "cell_type": "code",
   "execution_count": 6,
   "id": "9f81f8e3",
   "metadata": {},
   "outputs": [],
   "source": [
    "if modoIngresoInformacion== 'db':\n",
    "    ## Llamado funcion para consulta y parametros\n",
    "    from get_data_from_db import *    \n",
    "    registros, aps_operativos, num_aps, num_muestras_hora=GetDataFromDB()\n",
    "    str_list=[\"ID\",\"BANDA\",\"SUBIDA_LIM\",\"BAJADA_LIM\",\"FECHA\",\"HORA\",\"CONDICION\",\"VELOCIDAD_BAJADA\",\"VELOCIDAD_SUBIDA\",\"CUMPLE_BANDA\",\"CUMPLE_SUBIDA\",\"CUMPLE_BAJADA\",'BASE']\n",
    "    Data=pd.DataFrame.from_records(registros, columns=str_list)\n",
    "    #Carga Archivos Prueba\n",
    "    #Data = pd.read_csv(f'query1-Muestras.csv', sep=';')\n",
    "    num_aps=Data['ID'].nunique()\n",
    "    num_muestras_hora=int(num_aps*0.1)+1\n",
    "    print(num_aps,num_muestras_hora)"
   ]
  },
  {
   "cell_type": "markdown",
   "id": "6f537577",
   "metadata": {},
   "source": [
    "## Lectura Archivos\n",
    "###### Codigo para realizar el proceso con lectura de archivos"
   ]
  },
  {
   "cell_type": "code",
   "execution_count": 7,
   "id": "9113143e",
   "metadata": {},
   "outputs": [],
   "source": [
    "if modoIngresoInformacion== 'archivos':\n",
    "    #DataAnterior = pd.read_csv(f'DATA_ACUMULADA.csv', sep=';')\n",
    "    DataAnterior = pd.read_csv(f'Ejecuciones mensuales - Reporte plano_old.csv',sep=\";\", decimal=',', encoding='ISO-8859-1')\n",
    "    DataMesActual = pd.read_csv(f'Ejecuciones mensuales - Reporte plano.csv',sep=\";\", decimal=',', encoding='ISO-8859-1')\n",
    "    DataAnteriorB2 =pd.read_csv(f'Analitica Pruebas Adicionales TEST_STDB_old.csv',sep=\";\", decimal=',', encoding='ISO-8859-1')\n",
    "    DataMesActualB2 =pd.read_csv(f'Analitica Pruebas Adicionales TEST_STDB.csv',sep=\";\", decimal=',', encoding='ISO-8859-1')\n",
    "    \n",
    "    DataMesActual['BASE']='principal'\n",
    "    DataAnterior['BASE']='principal'\n",
    "    DataMesActualB2['BASE']='adicional'\n",
    "    DataAnteriorB2['BASE']='adicional'\n",
    "    \n",
    "    centrosA1=pd.read_csv(f'CLASE_CENTROS.csv',sep=\";\")\n",
    "    centrosA1=centrosA1[centrosA1['TIPO']=='1A']\n",
    "    centrosA1.drop(columns=['ID'], inplace=True)\n",
    "    #DataAnterior['FECHA']=pd.to_datetime(DataAnterior['FECHA'],dayfirst=True)#valores por defecto    \n",
    "    Data=DataAnterior.append(DataMesActual)\n",
    "    ## Validar resultados oficiales\n",
    "    Data=Data.append(DataAnteriorB2)\n",
    "    Data=Data.append(DataMesActualB2)\n",
    "    \n",
    "    columnasSeleccionadas=[ 'ID Beneficiario','Perfil Ancho de banda', 'Kbps de Subida','Kbps de Bajada','Fecha de la prueba','Hora de la prueba','Condición Encontrada',\n",
    "                           'Velocidad Efectiva (Download)','Velocidad Efectiva (Upload)','Cumple Ancho de Banda', 'Cumple BW de Bajada','Cumple BW de Subida','BASE']\n",
    "    Data=Data[columnasSeleccionadas]\n",
    "    Data.columns=[\"ID\",\"BANDA\",\"SUBIDA_LIM\",\"BAJADA_LIM\",\"FECHA\",\"HORA\",\"CONDICION\",\"VELOCIDAD_BAJADA\",\"VELOCIDAD_SUBIDA\",\"CUMPLE_BANDA\",\"CUMPLE_SUBIDA\",\"CUMPLE_BAJADA\",'BASE']\n",
    "    #Data=DataAnterior.append(DataMesActual)\n",
    "    Data=Data.merge(centrosA1[['ID BENEFICIARIO','ESTADO']], left_on='ID', right_on='ID BENEFICIARIO', how='inner')\n",
    "    Data.drop(columns=['ID BENEFICIARIO','ESTADO'],inplace=True)\n",
    "    #parametros de los archivos    \n",
    "    num_aps=Data['ID'].nunique()\n",
    "    num_muestras_hora=int(num_aps*0.1)+1"
   ]
  },
  {
   "cell_type": "code",
   "execution_count": 8,
   "id": "627ea9af",
   "metadata": {},
   "outputs": [],
   "source": [
    "num_horas=15"
   ]
  },
  {
   "cell_type": "markdown",
   "id": "7b5a0a97",
   "metadata": {},
   "source": [
    "### Leer Archivo Festivos"
   ]
  },
  {
   "cell_type": "code",
   "execution_count": 9,
   "id": "ea3c8369",
   "metadata": {},
   "outputs": [],
   "source": [
    "ubicacionArchivoFestivos=\"F:/Workflow/Projects\\MinTIC_SpeedTest/ProcessScripts/\"\n",
    "ubicacionArchivoFestivos=\"\" #en caso de no ejecutar en el servidor\n",
    "diasFestivos=pd.read_csv(f'{ubicacionArchivoFestivos}initialize-general-list-holidays.csv',sep=\";\")\n",
    "diasFestivos['fecha']=pd.to_datetime(diasFestivos[['YEAR', 'MONTH', 'DAY']])"
   ]
  },
  {
   "cell_type": "markdown",
   "id": "e24d016b",
   "metadata": {},
   "source": [
    "### Preprocesamiento"
   ]
  },
  {
   "cell_type": "code",
   "execution_count": 10,
   "id": "c4286428",
   "metadata": {},
   "outputs": [],
   "source": [
    "Data['FECHA']=pd.to_datetime(Data['FECHA']).dt.date\n",
    "Data['FECHA']=pd.to_datetime(Data['FECHA'])\n",
    "maxFecha=Data['FECHA'].max()\n",
    "minFecha=maxFecha + datetime.timedelta(days=-14)\n",
    "minFechaFDS=maxFecha + datetime.timedelta(days=-28)"
   ]
  },
  {
   "cell_type": "code",
   "execution_count": 11,
   "id": "c4a41fa8",
   "metadata": {},
   "outputs": [],
   "source": [
    "Data['DIA_S']=Data['FECHA'].dt.dayofweek\n",
    "Data['FILTRO']=Data['DIA_S'].isin([5,6])\n",
    "Data['FILTRO']=np.where(Data['DIA_S'].isin([5,6]) , 'fds','hab')\n",
    "Data['FILTRO']=np.where(Data['FECHA'].isin(diasFestivos['fecha']),'fds',Data['FILTRO'])"
   ]
  },
  {
   "cell_type": "code",
   "execution_count": 12,
   "id": "9aec37f0",
   "metadata": {},
   "outputs": [],
   "source": [
    "Data.drop_duplicates(subset=[\"ID\",\"BANDA\",\"SUBIDA_LIM\",\"BAJADA_LIM\",\"FECHA\",\"HORA\",\"CONDICION\",\"VELOCIDAD_BAJADA\",\"VELOCIDAD_SUBIDA\",\"CUMPLE_BANDA\",\"CUMPLE_SUBIDA\",\"CUMPLE_BAJADA\"],keep='first', inplace=True)\n",
    "Data=Data[(Data['HORA']>=6)&(Data['HORA']<=20)]\n",
    "DataTotal=Data.copy()\n",
    "Data=Data[(Data['FECHA']>=minFecha)&(Data['FECHA']<maxFecha)]"
   ]
  },
  {
   "cell_type": "markdown",
   "id": "b86c6ceb",
   "metadata": {},
   "source": [
    "##  Resumenes validación"
   ]
  },
  {
   "cell_type": "code",
   "execution_count": 13,
   "id": "343adb41",
   "metadata": {},
   "outputs": [],
   "source": [
    "def pieChart(col):\n",
    "    A = col.value_counts()\n",
    "    indices = A.index\n",
    "    plt.pie(A, labels=indices, autopct=\"%0.0f %%\", colors=['dodgerblue','red'])\n",
    "    plt.axis(\"equal\")\n",
    "    plt.show()    "
   ]
  },
  {
   "cell_type": "code",
   "execution_count": 14,
   "id": "ec6ffd06",
   "metadata": {},
   "outputs": [
    {
     "data": {
      "text/plain": [
       "E    13796\n",
       "F     3097\n",
       "Name: CONDICION, dtype: int64"
      ]
     },
     "execution_count": 14,
     "metadata": {},
     "output_type": "execute_result"
    }
   ],
   "source": [
    "## TORTA 1\n",
    "Data[Data['BASE']=='principal']['CONDICION'].value_counts()"
   ]
  },
  {
   "cell_type": "code",
   "execution_count": 15,
   "id": "685c7a6f",
   "metadata": {},
   "outputs": [
    {
     "data": {
      "text/plain": [
       "E    0.81667\n",
       "F    0.18333\n",
       "Name: CONDICION, dtype: float64"
      ]
     },
     "execution_count": 15,
     "metadata": {},
     "output_type": "execute_result"
    }
   ],
   "source": [
    "Data[Data['BASE']=='principal']['CONDICION'].value_counts()/len(Data[Data['BASE']=='principal'])"
   ]
  },
  {
   "cell_type": "code",
   "execution_count": 16,
   "id": "2091e951",
   "metadata": {},
   "outputs": [
    {
     "data": {
      "image/png": "[encoded data removed]",
      "text/plain": [
       "<Figure size 432x288 with 1 Axes>"
      ]
     },
     "metadata": {},
     "output_type": "display_data"
    }
   ],
   "source": [
    "if con_graficas:\n",
    "    pieChart(Data[Data['BASE']=='principal']['CONDICION'])"
   ]
  },
  {
   "cell_type": "code",
   "execution_count": 17,
   "id": "5fa0bdb6",
   "metadata": {},
   "outputs": [],
   "source": [
    "DataExito=Data[Data['CONDICION']=='E']"
   ]
  },
  {
   "cell_type": "code",
   "execution_count": 18,
   "id": "3715197a",
   "metadata": {},
   "outputs": [
    {
     "data": {
      "text/plain": [
       "SI    12010\n",
       "NO     1786\n",
       "Name: CUMPLE_BANDA, dtype: int64"
      ]
     },
     "execution_count": 18,
     "metadata": {},
     "output_type": "execute_result"
    }
   ],
   "source": [
    "## TORTA 2\n",
    "DataExito[DataExito['BASE']=='principal']['CUMPLE_BANDA'].value_counts()"
   ]
  },
  {
   "cell_type": "code",
   "execution_count": 19,
   "id": "d2104338",
   "metadata": {},
   "outputs": [
    {
     "data": {
      "text/plain": [
       "SI    0.173698\n",
       "NO    0.025831\n",
       "Name: CUMPLE_BANDA, dtype: float64"
      ]
     },
     "execution_count": 19,
     "metadata": {},
     "output_type": "execute_result"
    }
   ],
   "source": [
    "DataExito[DataExito['BASE']=='principal']['CUMPLE_BANDA'].value_counts()/len(DataExito)"
   ]
  },
  {
   "cell_type": "code",
   "execution_count": 20,
   "id": "858d46c7",
   "metadata": {
    "scrolled": true
   },
   "outputs": [
    {
     "data": {
      "image/png": "[encoded data removed]",
      "text/plain": [
       "<Figure size 432x288 with 1 Axes>"
      ]
     },
     "metadata": {},
     "output_type": "display_data"
    }
   ],
   "source": [
    "if con_graficas:\n",
    "    pieChart(DataExito[DataExito['BASE']=='principal']['CUMPLE_BANDA'])"
   ]
  },
  {
   "cell_type": "code",
   "execution_count": 21,
   "id": "c4e440aa",
   "metadata": {},
   "outputs": [
    {
     "data": {
      "text/plain": [
       "SI    0.895622\n",
       "NO    0.104378\n",
       "Name: CUMPLE_SUBIDA, dtype: float64"
      ]
     },
     "execution_count": 21,
     "metadata": {},
     "output_type": "execute_result"
    }
   ],
   "source": [
    "DataExito[DataExito['BASE']=='principal']['CUMPLE_SUBIDA'].value_counts()/len(DataExito[DataExito['BASE']=='principal'])"
   ]
  },
  {
   "cell_type": "code",
   "execution_count": 22,
   "id": "8e18f176",
   "metadata": {},
   "outputs": [
    {
     "data": {
      "text/plain": [
       "SI    0.95448\n",
       "NO    0.04552\n",
       "Name: CUMPLE_BAJADA, dtype: float64"
      ]
     },
     "execution_count": 22,
     "metadata": {},
     "output_type": "execute_result"
    }
   ],
   "source": [
    "DataExito[DataExito['BASE']=='principal']['CUMPLE_BAJADA'].value_counts()/len(DataExito[DataExito['BASE']=='principal'])"
   ]
  },
  {
   "cell_type": "code",
   "execution_count": 23,
   "id": "0c90d1c7",
   "metadata": {},
   "outputs": [
    {
     "data": {
      "text/plain": [
       "688"
      ]
     },
     "execution_count": 23,
     "metadata": {},
     "output_type": "execute_result"
    }
   ],
   "source": [
    "#conteo centros con exito\n",
    "DataExito[DataExito['BASE']=='principal']['ID'].nunique()"
   ]
  },
  {
   "cell_type": "code",
   "execution_count": 24,
   "id": "d668c568",
   "metadata": {},
   "outputs": [
    {
     "data": {
      "text/plain": [
       "70"
      ]
     },
     "execution_count": 24,
     "metadata": {},
     "output_type": "execute_result"
    }
   ],
   "source": [
    "#conteo centrol críticos\n",
    "num_aps-DataExito[DataExito['BASE']=='principal']['ID'].nunique()"
   ]
  },
  {
   "cell_type": "code",
   "execution_count": 25,
   "id": "436c32ee",
   "metadata": {},
   "outputs": [],
   "source": [
    "###  GRAFICO"
   ]
  },
  {
   "cell_type": "code",
   "execution_count": 26,
   "id": "b311fc4a",
   "metadata": {},
   "outputs": [],
   "source": [
    "res_hora_cumple_Banda=pd.crosstab(index=DataExito['HORA'],\n",
    "            columns=DataExito['CUMPLE_BANDA'], margins=True)"
   ]
  },
  {
   "cell_type": "code",
   "execution_count": 27,
   "id": "e8677194",
   "metadata": {},
   "outputs": [],
   "source": [
    "res_hora_cumple_Banda['NO']=res_hora_cumple_Banda['NO']/res_hora_cumple_Banda['All']\n",
    "res_hora_cumple_Banda['SI']=res_hora_cumple_Banda['SI']/res_hora_cumple_Banda['All']"
   ]
  },
  {
   "cell_type": "code",
   "execution_count": 28,
   "id": "41be190d",
   "metadata": {
    "scrolled": true
   },
   "outputs": [
    {
     "data": {
      "text/html": [
       "<div>\n",
       "<style scoped>\n",
       "    .dataframe tbody tr th:only-of-type {\n",
       "        vertical-align: middle;\n",
       "    }\n",
       "\n",
       "    .dataframe tbody tr th {\n",
       "        vertical-align: top;\n",
       "    }\n",
       "\n",
       "    .dataframe thead th {\n",
       "        text-align: right;\n",
       "    }\n",
       "</style>\n",
       "<table border=\"1\" class=\"dataframe\">\n",
       "  <thead>\n",
       "    <tr style=\"text-align: right;\">\n",
       "      <th>CUMPLE_BANDA</th>\n",
       "      <th>NO</th>\n",
       "      <th>SI</th>\n",
       "    </tr>\n",
       "    <tr>\n",
       "      <th>HORA</th>\n",
       "      <th></th>\n",
       "      <th></th>\n",
       "    </tr>\n",
       "  </thead>\n",
       "  <tbody>\n",
       "    <tr>\n",
       "      <th>6</th>\n",
       "      <td>0.142019</td>\n",
       "      <td>0.857981</td>\n",
       "    </tr>\n",
       "    <tr>\n",
       "      <th>7</th>\n",
       "      <td>0.147895</td>\n",
       "      <td>0.852105</td>\n",
       "    </tr>\n",
       "    <tr>\n",
       "      <th>8</th>\n",
       "      <td>0.154861</td>\n",
       "      <td>0.845139</td>\n",
       "    </tr>\n",
       "    <tr>\n",
       "      <th>9</th>\n",
       "      <td>0.154372</td>\n",
       "      <td>0.845628</td>\n",
       "    </tr>\n",
       "    <tr>\n",
       "      <th>10</th>\n",
       "      <td>0.159828</td>\n",
       "      <td>0.840172</td>\n",
       "    </tr>\n",
       "    <tr>\n",
       "      <th>11</th>\n",
       "      <td>0.161429</td>\n",
       "      <td>0.838571</td>\n",
       "    </tr>\n",
       "    <tr>\n",
       "      <th>12</th>\n",
       "      <td>0.164224</td>\n",
       "      <td>0.835776</td>\n",
       "    </tr>\n",
       "    <tr>\n",
       "      <th>13</th>\n",
       "      <td>0.171389</td>\n",
       "      <td>0.828611</td>\n",
       "    </tr>\n",
       "    <tr>\n",
       "      <th>14</th>\n",
       "      <td>0.168515</td>\n",
       "      <td>0.831485</td>\n",
       "    </tr>\n",
       "    <tr>\n",
       "      <th>15</th>\n",
       "      <td>0.170342</td>\n",
       "      <td>0.829658</td>\n",
       "    </tr>\n",
       "    <tr>\n",
       "      <th>16</th>\n",
       "      <td>0.172018</td>\n",
       "      <td>0.827982</td>\n",
       "    </tr>\n",
       "    <tr>\n",
       "      <th>17</th>\n",
       "      <td>0.161640</td>\n",
       "      <td>0.838360</td>\n",
       "    </tr>\n",
       "    <tr>\n",
       "      <th>18</th>\n",
       "      <td>0.166949</td>\n",
       "      <td>0.833051</td>\n",
       "    </tr>\n",
       "    <tr>\n",
       "      <th>19</th>\n",
       "      <td>0.188637</td>\n",
       "      <td>0.811363</td>\n",
       "    </tr>\n",
       "    <tr>\n",
       "      <th>20</th>\n",
       "      <td>0.201906</td>\n",
       "      <td>0.798094</td>\n",
       "    </tr>\n",
       "    <tr>\n",
       "      <th>All</th>\n",
       "      <td>0.165411</td>\n",
       "      <td>0.834589</td>\n",
       "    </tr>\n",
       "  </tbody>\n",
       "</table>\n",
       "</div>"
      ],
      "text/plain": [
       "CUMPLE_BANDA        NO        SI\n",
       "HORA                            \n",
       "6             0.142019  0.857981\n",
       "7             0.147895  0.852105\n",
       "8             0.154861  0.845139\n",
       "9             0.154372  0.845628\n",
       "10            0.159828  0.840172\n",
       "11            0.161429  0.838571\n",
       "12            0.164224  0.835776\n",
       "13            0.171389  0.828611\n",
       "14            0.168515  0.831485\n",
       "15            0.170342  0.829658\n",
       "16            0.172018  0.827982\n",
       "17            0.161640  0.838360\n",
       "18            0.166949  0.833051\n",
       "19            0.188637  0.811363\n",
       "20            0.201906  0.798094\n",
       "All           0.165411  0.834589"
      ]
     },
     "execution_count": 28,
     "metadata": {},
     "output_type": "execute_result"
    }
   ],
   "source": [
    "pd.crosstab(index=DataExito['HORA'],\n",
    "            columns=DataExito['CUMPLE_BANDA'], margins=True, normalize='index')"
   ]
  },
  {
   "cell_type": "markdown",
   "id": "cb55f19e",
   "metadata": {},
   "source": [
    "#### Gráfico"
   ]
  },
  {
   "cell_type": "code",
   "execution_count": 29,
   "id": "a995c0cc",
   "metadata": {},
   "outputs": [],
   "source": [
    "res_grafico=pd.pivot_table(Data[Data['BASE']=='principal'].groupby(['BANDA','HORA','CUMPLE_BANDA'])['ID'].count().reset_index(), index=['BANDA','HORA'],columns=['CUMPLE_BANDA'], values='ID', aggfunc=np.sum, fill_value=0)"
   ]
  },
  {
   "cell_type": "code",
   "execution_count": 30,
   "id": "cd77775e",
   "metadata": {},
   "outputs": [],
   "source": [
    "res_grafico['TOTAL']=res_grafico.sum(axis=1)"
   ]
  },
  {
   "cell_type": "code",
   "execution_count": 31,
   "id": "c6a40026",
   "metadata": {},
   "outputs": [],
   "source": [
    "res_grafico['PORCF']=res_grafico['SI']/res_grafico['TOTAL']"
   ]
  },
  {
   "cell_type": "code",
   "execution_count": 32,
   "id": "8c028df0",
   "metadata": {},
   "outputs": [],
   "source": [
    "res_grafico.reset_index(inplace=True)"
   ]
  },
  {
   "cell_type": "code",
   "execution_count": 33,
   "id": "958ccbb4",
   "metadata": {},
   "outputs": [
    {
     "data": {
      "image/png": "[encoded data removed]",
      "text/plain": [
       "<Figure size 432x288 with 1 Axes>"
      ]
     },
     "metadata": {
      "needs_background": "light"
     },
     "output_type": "display_data"
    }
   ],
   "source": [
    "if con_graficas:\n",
    "    fig, ax = plt.subplots()\n",
    "    for label, grp in res_grafico.groupby('BANDA'):\n",
    "        grp.plot(x = 'HORA', y = 'PORCF',ax = ax, label = label)"
   ]
  },
  {
   "cell_type": "code",
   "execution_count": 34,
   "id": "cccaaf06",
   "metadata": {},
   "outputs": [],
   "source": [
    "res_grafico.to_csv('grafica.csv')"
   ]
  },
  {
   "cell_type": "code",
   "execution_count": 35,
   "id": "309bc3d9",
   "metadata": {},
   "outputs": [],
   "source": [
    "def quantiles_adaptados(x):\n",
    "    conteo=x.count()\n",
    "    if conteo<=5:\n",
    "        return x.quantile(0.5)\n",
    "    elif conteo<=10:\n",
    "        return x.quantile(0.2)\n",
    "    else:\n",
    "        return x.quantile(0.1)"
   ]
  },
  {
   "cell_type": "markdown",
   "id": "8afa2dc0",
   "metadata": {},
   "source": [
    "### Archivos de Resumen"
   ]
  },
  {
   "cell_type": "code",
   "execution_count": 36,
   "id": "ee347404",
   "metadata": {},
   "outputs": [],
   "source": [
    "today = date.today()\n",
    "D=today.day\n",
    "M=today.month\n",
    "Y=today.year"
   ]
  },
  {
   "cell_type": "markdown",
   "id": "f04b23fa",
   "metadata": {},
   "source": [
    "# Habiles"
   ]
  },
  {
   "cell_type": "code",
   "execution_count": 37,
   "id": "6cd6a2ac",
   "metadata": {},
   "outputs": [],
   "source": [
    "Data_Habil= Data[(Data['BASE']=='principal')&(Data['FILTRO']=='hab')].groupby(['ID','HORA']).agg(\n",
    "                CONTEO=('ID','count'),\n",
    "                SUBIDA=('VELOCIDAD_SUBIDA', quantiles_adaptados),\n",
    "                BAJADA=('VELOCIDAD_BAJADA', quantiles_adaptados)\n",
    "            )"
   ]
  },
  {
   "cell_type": "code",
   "execution_count": 38,
   "id": "1aa6b3fd",
   "metadata": {},
   "outputs": [],
   "source": [
    "Data_Habil.reset_index(inplace=True)\n",
    "BANDA=Data[['ID','BANDA','SUBIDA_LIM','BAJADA_LIM']].drop_duplicates(subset='ID',keep='last')\n",
    "Data_Habil=Data_Habil.merge(BANDA,left_on='ID',right_on='ID', how='left')\n",
    "Data_Habil.rename(columns={'BAJADA_LIM':'BAJA','SUBIDA_LIM':'SUBE','BAJADA':'BAJA_R','SUBIDA':'SUBE_R'}, inplace=True)\n",
    "Data_Habil=Data_Habil[['ID','BANDA','HORA','BAJA','SUBE','BAJA_R','SUBE_R']]"
   ]
  },
  {
   "cell_type": "code",
   "execution_count": 39,
   "id": "8f176f7f",
   "metadata": {},
   "outputs": [],
   "source": [
    "Data_Habil['CUMPLE_BAJA']=np.where(Data_Habil['BAJA_R']>=Data_Habil['BAJA'],'SI','NO')\n",
    "Data_Habil['CUMPLE_SUBE']=np.where(Data_Habil['SUBE_R']>=Data_Habil['SUBE'],'SI','NO')\n",
    "Data_Habil['CUMPLE']=np.where( (Data_Habil['CUMPLE_BAJA']=='SI') & (Data_Habil['CUMPLE_SUBE']=='SI'),'SI','NO')\n",
    "Data_Habil['PORC_BAJADA']=Data_Habil['BAJA_R']/Data_Habil['BAJA']\n",
    "Data_Habil['PORC_SUBE']=Data_Habil['SUBE_R']/Data_Habil['SUBE']\n",
    "Data_Habil['CERCANO_BAJA']=np.where(Data_Habil['PORC_BAJADA']>1, 'CUMPLE', np.where(Data_Habil['PORC_BAJADA']>0.9,'SI','NO'))\n",
    "Data_Habil['CERCANO_SUBE']=np.where(Data_Habil['PORC_SUBE']>1, 'CUMPLE', np.where(Data_Habil['PORC_SUBE']>0.9,'SI','NO'))\n",
    "Data_Habil['CERCANO']=np.where( (Data_Habil['CERCANO_BAJA']=='CUMPLE') & (Data_Habil['CERCANO_SUBE']=='CUMPLE'),'CUMPLE',\n",
    "                                 np.where((Data_Habil['CERCANO_BAJA']=='SI') & (Data_Habil['CERCANO_SUBE']=='SI'),'AMBOS',\n",
    "                                         np.where((Data_Habil['CERCANO_BAJA']=='CUMPLE') & (Data_Habil['CERCANO_SUBE']=='SI'),'SUBE',\n",
    "                                                 np.where((Data_Habil['CERCANO_BAJA']=='SI') & (Data_Habil['CERCANO_SUBE']=='CUMPLE'),'BAJA','NO'))))"
   ]
  },
  {
   "cell_type": "code",
   "execution_count": 40,
   "id": "df1a183f",
   "metadata": {},
   "outputs": [],
   "source": [
    "Data_Habil_Res=Data_Habil.copy()\n",
    "Data_Habil_Res['TIPO2']=np.where(Data_Habil_Res['CERCANO']==\"NO\",'NO','SI')\n",
    "Data_Habil_Res=pd.pivot_table(Data_Habil_Res[['ID','BANDA','CUMPLE']], index=['ID','BANDA'], columns=['CUMPLE'], aggfunc=len, fill_value=0)\n",
    "Data_Habil_Res['PORC']=Data_Habil_Res['NO']/(Data_Habil_Res['NO']+Data_Habil_Res['SI'])\n",
    "Data_Habil_Res['TIPO']= np.where(Data_Habil_Res['PORC']==1,'CRITICO',np.where(Data_Habil_Res['PORC']==0,'BUENO','REGULAR'))"
   ]
  },
  {
   "cell_type": "code",
   "execution_count": 41,
   "id": "34e08b50",
   "metadata": {},
   "outputs": [],
   "source": [
    "if con_graficas:\n",
    "    Data_Habil.head(14).style.set_table_styles([{\n",
    "        'selector':'th', 'props':[('background-color','#c00000'),('color','white')]\n",
    "    }])"
   ]
  },
  {
   "cell_type": "code",
   "execution_count": 42,
   "id": "6bbce733",
   "metadata": {},
   "outputs": [],
   "source": [
    "### Guardar Achivos\n",
    "Data_Habil.to_csv('RESUMEN_CENTROS_HORA_'+str(Y*10000+M*100+D)+'_HABIL.csv',sep=';', index=False)\n",
    "Data_Habil_Res.to_csv('RESUMEN_CENTROS_'+str(Y*10000+M*100+D)+'_HABIL.csv',sep=';', index=False)"
   ]
  },
  {
   "cell_type": "markdown",
   "id": "46e881e4",
   "metadata": {},
   "source": [
    "### FDS"
   ]
  },
  {
   "cell_type": "code",
   "execution_count": 43,
   "id": "87701da8",
   "metadata": {},
   "outputs": [],
   "source": [
    "Data_fds= DataTotal[(DataTotal['BASE']=='principal')&(DataTotal['FILTRO']=='fds')&(DataTotal['FECHA']>=minFechaFDS)&(DataTotal['FECHA']<maxFecha)].groupby(['ID','HORA']).agg(\n",
    "                CONTEO=('ID','count'),\n",
    "                SUBIDA=('VELOCIDAD_SUBIDA', quantiles_adaptados),\n",
    "                BAJADA=('VELOCIDAD_BAJADA', quantiles_adaptados)\n",
    "            )"
   ]
  },
  {
   "cell_type": "code",
   "execution_count": 44,
   "id": "a4e9f5e1",
   "metadata": {},
   "outputs": [],
   "source": [
    "Data_fds.reset_index(inplace=True)\n",
    "BANDA=Data[['ID','BANDA','SUBIDA_LIM','BAJADA_LIM']].drop_duplicates(subset='ID',keep='last')\n",
    "Data_fds=Data_fds.merge(BANDA,left_on='ID',right_on='ID', how='left')\n",
    "Data_fds.rename(columns={'BAJADA_LIM':'BAJA','SUBIDA_LIM':'SUBE','BAJADA':'BAJA_R','SUBIDA':'SUBE_R'}, inplace=True)\n",
    "Data_fds=Data_fds[['ID','BANDA','HORA','BAJA','SUBE','BAJA_R','SUBE_R']]"
   ]
  },
  {
   "cell_type": "code",
   "execution_count": 45,
   "id": "755e3dc3",
   "metadata": {},
   "outputs": [],
   "source": [
    "Data_fds['CUMPLE_BAJA']=np.where(Data_fds['BAJA_R']>=Data_fds['BAJA'],'SI','NO')\n",
    "Data_fds['CUMPLE_SUBE']=np.where(Data_fds['SUBE_R']>=Data_fds['SUBE'],'SI','NO')\n",
    "Data_fds['CUMPLE']=np.where( (Data_fds['CUMPLE_BAJA']=='SI') & (Data_fds['CUMPLE_SUBE']=='SI'),'SI','NO')\n",
    "Data_fds['PORC_BAJADA']=Data_fds['BAJA_R']/Data_fds['BAJA']\n",
    "Data_fds['PORC_SUBE']=Data_fds['SUBE_R']/Data_fds['SUBE']\n",
    "Data_fds['CERCANO_BAJA']=np.where(Data_fds['PORC_BAJADA']>1, 'CUMPLE', np.where(Data_fds['PORC_BAJADA']>0.9,'SI','NO'))\n",
    "Data_fds['CERCANO_SUBE']=np.where(Data_fds['PORC_SUBE']>1, 'CUMPLE', np.where(Data_fds['PORC_SUBE']>0.9,'SI','NO'))\n",
    "Data_fds['CERCANO']=np.where( (Data_fds['CERCANO_BAJA']=='CUMPLE') & (Data_fds['CERCANO_SUBE']=='CUMPLE'),'CUMPLE',\n",
    "                                 np.where((Data_fds['CERCANO_BAJA']=='SI') & (Data_fds['CERCANO_SUBE']=='SI'),'AMBOS',\n",
    "                                         np.where((Data_fds['CERCANO_BAJA']=='CUMPLE') & (Data_fds['CERCANO_SUBE']=='SI'),'SUBE',\n",
    "                                                 np.where((Data_fds['CERCANO_BAJA']=='SI') & (Data_fds['CERCANO_SUBE']=='CUMPLE'),'BAJA','NO'))))"
   ]
  },
  {
   "cell_type": "code",
   "execution_count": 46,
   "id": "6b31d513",
   "metadata": {},
   "outputs": [],
   "source": [
    "Data_fds_Res=Data_fds.copy()\n",
    "Data_fds_Res['TIPO2']=np.where(Data_fds_Res['CERCANO']==\"NO\",'NO','SI')\n",
    "Data_fds_Res=pd.pivot_table(Data_fds_Res[['ID','BANDA','CUMPLE']], index=['ID','BANDA'], columns=['CUMPLE'], aggfunc=len, fill_value=0)\n",
    "Data_fds_Res['PORC']=Data_fds_Res['NO']/(Data_fds_Res['NO']+Data_fds_Res['SI'])\n",
    "Data_fds_Res['TIPO']= np.where(Data_fds_Res['PORC']==1,'CRITICO',np.where(Data_fds_Res['PORC']==0,'BUENO','REGULAR'))"
   ]
  },
  {
   "cell_type": "code",
   "execution_count": 47,
   "id": "6a86d1ff",
   "metadata": {},
   "outputs": [],
   "source": [
    "Data_fds.to_csv('RESUMEN_CENTROS_HORA_'+str(Y*10000+M*100+D)+'_FDS.csv',sep=';',index=False)\n",
    "Data_fds_Res.to_csv('RESUMEN_CENTROS_'+str(Y*10000+M*100+D)+'_FDS.csv',sep=';',index=False)"
   ]
  },
  {
   "cell_type": "markdown",
   "id": "c56b8804",
   "metadata": {},
   "source": [
    "# Maestro Aps"
   ]
  },
  {
   "cell_type": "code",
   "execution_count": 48,
   "id": "2b1c9463",
   "metadata": {},
   "outputs": [],
   "source": [
    "maestro_Aps=Data[['ID','BANDA']].drop_duplicates()"
   ]
  },
  {
   "cell_type": "markdown",
   "id": "3a3e3fac",
   "metadata": {},
   "source": [
    "#  NUEVA PROPUESTA"
   ]
  },
  {
   "cell_type": "markdown",
   "id": "f5867a2c",
   "metadata": {},
   "source": [
    "## Funcion Asignacion"
   ]
  },
  {
   "cell_type": "code",
   "execution_count": 49,
   "id": "5cec15f0",
   "metadata": {},
   "outputs": [],
   "source": [
    "def asignarMuestras(Data,num_muestras_hora):\n",
    "    DataExito=Data[Data['CONDICION']=='E']    \n",
    "    #preprocesamiento\n",
    "    DataExito['IND']=((DataExito['VELOCIDAD_SUBIDA']-DataExito['SUBIDA_LIM'])+(DataExito['VELOCIDAD_BAJADA']-DataExito['BAJADA_LIM']))/2\n",
    "    ##DataExito['IND']=((DataExito['VELOCIDAD_SUBIDA']-DataExito['SUBIDA_LIM'])+9*(DataExito['VELOCIDAD_BAJADA']-DataExito['BAJADA_LIM']))/10\n",
    "    ##DataExito['IND']=((DataExito['VELOCIDAD_SUBIDA']-DataExito['SUBIDA_LIM'])**3+9*(DataExito['VELOCIDAD_BAJADA']-DataExito['BAJADA_LIM'])**3)/10\n",
    "    \n",
    "    tabla_ind=DataExito.groupby(['ID','HORA'])[['IND']].median()\n",
    "    tabla_ind.reset_index(inplace=True)\n",
    "    tabla_freq=DataExito.groupby(['ID','HORA'])[['CONDICION']].count().reset_index()\n",
    "\n",
    "    #calculo cumplimiento para mejores y peores casos\n",
    "    tabla_ind_cump=pd.pivot_table(DataExito[['ID','HORA','CUMPLE_BANDA','CONDICION']], index=['ID','HORA'], columns=['CUMPLE_BANDA'], aggfunc=len, fill_value=0)\n",
    "    tabla_ind_cump.columns=tabla_ind_cump.columns.droplevel()\n",
    "    tabla_ind_cump.reset_index(inplace=True)\n",
    "    tabla_ind_cump['ind_cump']=tabla_ind_cump['SI']/(tabla_ind_cump['SI']+tabla_ind_cump['NO'])\n",
    "    \n",
    "    tablaBase=tabla_ind.merge(tabla_freq, left_on=['ID','HORA'], right_on=['ID','HORA'], how='left')\n",
    "    tablaBase=tablaBase.merge(tabla_ind_cump[['ID','HORA','ind_cump']], left_on=['ID','HORA'], right_on=['ID','HORA'], how='left')\n",
    "    \n",
    "    tablaBase.columns=['ID','HORA','IND','FREQ','ind_cump']\n",
    "    tablaBase.reset_index(inplace=True)\n",
    "\n",
    "    #Distribución aps bajos\n",
    "    tablaBase.sort_values(['ID','IND','FREQ'], ascending=False, inplace=True)\n",
    "    tablaBase.reset_index(drop=True, inplace=True)\n",
    "    tabla_primera_opcion=tablaBase.groupby(['ID']).nth(0)\n",
    "    casos_bajos=tabla_primera_opcion[tabla_primera_opcion['IND']<0]\n",
    "    muestra_bajas_hora=int(len(casos_bajos)/num_horas)+1\n",
    "\n",
    "    casos_bajos=casos_bajos.sort_values('IND')\n",
    "    casos_bajos.reset_index(inplace=True)\n",
    "    casos_bajos.reset_index(inplace=True)\n",
    "    #casos_bajos\n",
    "    #lograr la mayor distribución de hora posible\n",
    "    casos_bajos['franja']=np.where(casos_bajos['level_0']//num_horas%2==0,casos_bajos['level_0']%num_horas,(num_horas-1-casos_bajos['level_0']%num_horas))\n",
    "    casos_bajos['hora']=casos_bajos['franja']+6\n",
    "    tablaBase=tablaBase[~tablaBase['ID'].isin(casos_bajos['ID'].unique())]\n",
    "\n",
    "    num_muestras_hora=num_muestras_hora-muestra_bajas_hora\n",
    "    asignacionFinal=pd.DataFrame()\n",
    "\n",
    "    #Asignacion Principal\n",
    "    i=0\n",
    "    num_horas_sobre=1\n",
    "    while num_horas_sobre > 0:   \n",
    "        #Reordenar la base\n",
    "        tablaBase.sort_values(['ID','IND','FREQ'], ascending=False, inplace=True)\n",
    "        tablaBase.reset_index(drop=True, inplace=True)\n",
    "        tablaBase['index']=tablaBase.index\n",
    "\n",
    "        tablaBase['dif']=tablaBase.groupby('ID')['IND'].diff(-1)\n",
    "        tablaBase['index_N']=tablaBase.groupby('ID')['index'].shift(periods=-1)\n",
    "        tablaBase['HORA_N']=tablaBase.groupby('ID')['HORA'].shift(periods=-1)\n",
    "        tablaBase['IND_N']=tablaBase.groupby('ID')['IND'].shift(periods=-1)\n",
    "        tablaBase['FREQ_N']=tablaBase.groupby('ID')['FREQ'].shift(periods=-1)\n",
    "\n",
    "        tabla_primera_opcion=tablaBase.groupby(['ID']).nth(0)\n",
    "        tabla_primera_opcion.reset_index(inplace=True)\n",
    "\n",
    "        tabla_ronda=tabla_primera_opcion\n",
    "\n",
    "        resumen=tabla_ronda[['HORA']].value_counts().to_frame()\n",
    "        resumen['DIF']=resumen[0]-num_muestras_hora\n",
    "\n",
    "        horas_sobre=resumen[resumen['DIF']>0]           \n",
    "        num_horas_sobre=len(horas_sobre)\n",
    "\n",
    "        # guardar valores\n",
    "        if num_horas_sobre>0:\n",
    "            hora_aux=horas_sobre.index[0][0]\n",
    "            dif_aux=horas_sobre.iloc[0]['DIF']\n",
    "            tabla_ronda=tabla_ronda.sort_values('dif')\n",
    "            saldo=tabla_ronda[tabla_ronda['HORA']==hora_aux][dif_aux:]        \n",
    "            if i==0:\n",
    "                asignacionFinal=saldo\n",
    "            else: \n",
    "                asignacionFinal=asignacionFinal.append(saldo)            \n",
    "\n",
    "            tablaBase=tablaBase[tablaBase['HORA']!=hora_aux]\n",
    "            tablaBase=tablaBase[~tablaBase['ID'].isin(saldo['ID'])]            \n",
    "            i+=1\n",
    "\n",
    "    if i==0:\n",
    "        asignacionFinal=tabla_ronda\n",
    "    else: \n",
    "        asignacionFinal=asignacionFinal.append(tabla_ronda)\n",
    "\n",
    "\n",
    "    # Matriz de posiciciones a llenar\n",
    "    num_muestras_hora=num_muestras_hora+muestra_bajas_hora\n",
    "    tabla_final=pd.DataFrame({'hora':list(range(6,20+1))},columns=['hora']+list(range(num_muestras_hora)))\n",
    "    tabla_final.set_index('hora',inplace=True)\n",
    "    tabla_final['pos']=0\n",
    "\n",
    "    # Asignar resultado anterior\n",
    "    for index, row in asignacionFinal.iterrows():    \n",
    "        hora_aux=int(row['HORA'])\n",
    "        pos=tabla_final.at[hora_aux,'pos']    \n",
    "        tabla_final.at[hora_aux,pos]=int(row['ID'])    \n",
    "        tabla_final.at[hora_aux,'pos']=tabla_final.at[hora_aux,'pos']+1\n",
    "    \n",
    "    #Validar aps unicos\n",
    "    ##print(tabla_final.reset_index().drop(columns=['pos']).melt(id_vars=['hora'],var_name='muestra',value_name='ID').nunique())\n",
    "    \n",
    "    #Asignar casos bajos\n",
    "    for ind,row in casos_bajos.iterrows():\n",
    "        t_aux=tabla_final.copy()\n",
    "        t_aux=t_aux[(t_aux['pos']<num_muestras_hora)]\n",
    "        sel_hora=row['hora']\n",
    "        idx=int(row['ID'])\n",
    "        pos=tabla_final.at[sel_hora,'pos']\n",
    "        tabla_final.at[sel_hora,pos]=idx    \n",
    "        tabla_final.at[sel_hora,'pos']=tabla_final.at[sel_hora,'pos']+1\n",
    "    \n",
    "    #Validar aps unicos\n",
    "    ##print(tabla_final.reset_index().drop(columns=['pos']).melt(id_vars=['hora'],var_name='muestra',value_name='ID').nunique())\n",
    "    \n",
    "    #Agregar 100% F\n",
    "    APs_sin_Exito=Data[~Data['ID'].isin(DataExito['ID'].unique())]\n",
    "    APs_sin_Exito=list(APs_sin_Exito['ID'].unique())\n",
    "    \n",
    "    #print(\"aps sin exito\",len(APs_sin_Exito))\n",
    "    \n",
    "    for idx in APs_sin_Exito:\n",
    "        #print(\"entro\",idx)\n",
    "        t_aux=tabla_final.copy()\n",
    "        t_aux=t_aux[(t_aux['pos']<num_muestras_hora)]\n",
    "        #sel_hora=t_aux.sample().index[0]\n",
    "        t_aux=t_aux.sort_values('pos',ascending=True)\n",
    "        sel_hora=t_aux.head(1).index[0]\n",
    "        pos=tabla_final.at[sel_hora,'pos']\n",
    "        tabla_final.at[sel_hora,pos]=idx    \n",
    "        tabla_final.at[sel_hora,'pos']=tabla_final.at[sel_hora,'pos']+1\n",
    "    \n",
    "    #Validar aps unicos\n",
    "    ##print(tabla_final.reset_index().drop(columns=['pos']).melt(id_vars=['hora'],var_name='muestra',value_name='ID').nunique())\n",
    "    \n",
    "    #Asignar mejores casos\n",
    "    tablaBase=tabla_ind.merge(tabla_freq, left_on=['ID','HORA'], right_on=['ID','HORA'], how='left')\n",
    "    tablaBase=tablaBase.merge(tabla_ind_cump[['ID','HORA','ind_cump']], left_on=['ID','HORA'], right_on=['ID','HORA'], how='left')\n",
    "    tablaBase.columns=['ID','HORA','IND','FREQ','ind_cump']\n",
    "    tablaBase.reset_index(inplace=True)\n",
    "    mejores_hora=tablaBase[(tablaBase['IND']==1)&(tablaBase['FREQ']>=3)]\n",
    "    group_casos_mejora=mejores_hora.groupby('ID')\n",
    "\n",
    "    i=0\n",
    "    for g in group_casos_mejora.groups:\n",
    "        i=i+1\n",
    "        group = group_casos_mejora.get_group(g)\n",
    "        val_ids=group['HORA'].values\n",
    "        t_aux=tabla_final.copy()\n",
    "        t_aux=t_aux[(t_aux['pos']<num_muestras_hora)&(t_aux.index.isin(val_ids))]\n",
    "        t_aux= t_aux[~t_aux.isin([g]).any(axis=1)]\n",
    "\n",
    "        for sel_hora in t_aux.index:\n",
    "            pos=tabla_final.at[sel_hora,'pos']\n",
    "            tabla_final.at[sel_hora,pos]=int(g)  \n",
    "            tabla_final.at[sel_hora,'pos']=tabla_final.at[sel_hora,'pos']+1\n",
    "    \n",
    "    #Validar aps unicos\n",
    "    #print(tabla_final.reset_index().drop(columns=['pos']).melt(id_vars=['hora'],var_name='muestra',value_name='ID').nunique())\n",
    "    \n",
    "    #Completar faltantes con mejores casos\n",
    "    tabla_ind_total=pd.pivot_table(DataExito[['ID','CUMPLE_BANDA','CONDICION']], index=['ID'], columns=['CUMPLE_BANDA'], aggfunc=len, fill_value=0)\n",
    "    tabla_ind_total.columns=tabla_ind_total.columns.droplevel()\n",
    "    tabla_ind_total.reset_index(inplace=True)\n",
    "    tabla_ind_total['ind']=tabla_ind_total['SI']/(tabla_ind_total['SI']+tabla_ind_total['NO'])\n",
    "    tabla_ind_total=tabla_ind_total.sort_values(['ind','SI'], ascending=False)\n",
    "    pos_mejores=0\n",
    "\n",
    "    while len(tabla_final[tabla_final['pos']<num_muestras_hora])>0:\n",
    "        t_aux=tabla_final[tabla_final['pos']<num_muestras_hora]\n",
    "        id_aux=tabla_ind_total['ID'].values[pos_mejores]\n",
    "        t_aux= t_aux[~t_aux.isin([id_aux]).any(axis=1)]\n",
    "\n",
    "        for sel_hora in t_aux.index:\n",
    "            pos=tabla_final.at[sel_hora,'pos']\n",
    "            tabla_final.at[sel_hora,pos]=int(id_aux)  \n",
    "            tabla_final.at[sel_hora,'pos']=tabla_final.at[sel_hora,'pos']+1\n",
    "        pos_mejores=pos_mejores+1\n",
    "\n",
    "    ## validar duplicados por hora\n",
    "    for hora,row in tabla_final.iterrows():    \n",
    "        a_set = set(row)\n",
    "        contains_duplicates = len(row) != len(a_set)\n",
    "        print(hora,contains_duplicates)\n",
    "    \n",
    "    #Validar aps unicos\n",
    "    #print(tabla_final.reset_index().drop(columns=['pos']).melt(id_vars=['hora'],var_name='muestra',value_name='ID').nunique())\n",
    "    \n",
    "    #Alistamiento de salida\n",
    "    tabla_ind_total['tipo']=np.where(tabla_ind_total['ind']==0, 'CRITICO', np.where(tabla_ind_total['ind']==1,'BUENO','REGULAR'))\n",
    "    tabla_final_un=tabla_final.reset_index().drop(columns=['pos']).melt(id_vars=['hora'],var_name='muestra',value_name='ID')\n",
    "    tabla_final_un=tabla_final_un.merge(tabla_ind_total, left_on='ID', right_on='ID', how='left')\n",
    "    tabla_final_un['tipo']=np.where(tabla_final_un['tipo'].isnull(),'CRITICO',tabla_final_un['tipo'])\n",
    "    tabla_final_un=tabla_final_un.merge(maestro_Aps, left_on='ID', right_on='ID', how='left')\n",
    "    \n",
    "    #fin de la funcion,  retorno\n",
    "    return tabla_final_un"
   ]
  },
  {
   "cell_type": "markdown",
   "id": "16ae30ee",
   "metadata": {},
   "source": [
    "###  Distribucion de las muestras en las bandas"
   ]
  },
  {
   "cell_type": "code",
   "execution_count": 50,
   "id": "6ebeaf94",
   "metadata": {},
   "outputs": [],
   "source": [
    "distribucion=Data[['ID','BANDA']].drop_duplicates()"
   ]
  },
  {
   "cell_type": "code",
   "execution_count": 51,
   "id": "bf63da63",
   "metadata": {},
   "outputs": [
    {
     "data": {
      "text/html": [
       "<div>\n",
       "<style scoped>\n",
       "    .dataframe tbody tr th:only-of-type {\n",
       "        vertical-align: middle;\n",
       "    }\n",
       "\n",
       "    .dataframe tbody tr th {\n",
       "        vertical-align: top;\n",
       "    }\n",
       "\n",
       "    .dataframe thead th {\n",
       "        text-align: right;\n",
       "    }\n",
       "</style>\n",
       "<table border=\"1\" class=\"dataframe\">\n",
       "  <thead>\n",
       "    <tr style=\"text-align: right;\">\n",
       "      <th></th>\n",
       "      <th>BANDA</th>\n",
       "    </tr>\n",
       "  </thead>\n",
       "  <tbody>\n",
       "    <tr>\n",
       "      <th>DL:12.00Mb-UL:3.00Mb</th>\n",
       "      <td>389</td>\n",
       "    </tr>\n",
       "    <tr>\n",
       "      <th>DL:15.00Mb-UL:3.75Mb</th>\n",
       "      <td>199</td>\n",
       "    </tr>\n",
       "    <tr>\n",
       "      <th>DL:18.00Mb-UL:4.50Mb</th>\n",
       "      <td>119</td>\n",
       "    </tr>\n",
       "    <tr>\n",
       "      <th>DL:21.00Mb-UL:5.25Mb</th>\n",
       "      <td>51</td>\n",
       "    </tr>\n",
       "  </tbody>\n",
       "</table>\n",
       "</div>"
      ],
      "text/plain": [
       "                      BANDA\n",
       "DL:12.00Mb-UL:3.00Mb    389\n",
       "DL:15.00Mb-UL:3.75Mb    199\n",
       "DL:18.00Mb-UL:4.50Mb    119\n",
       "DL:21.00Mb-UL:5.25Mb     51"
      ]
     },
     "execution_count": 51,
     "metadata": {},
     "output_type": "execute_result"
    }
   ],
   "source": [
    "res_dist=distribucion['BANDA'].value_counts().to_frame()\n",
    "res_dist"
   ]
  },
  {
   "cell_type": "code",
   "execution_count": 52,
   "id": "9a5e9bc0",
   "metadata": {},
   "outputs": [
    {
     "data": {
      "text/html": [
       "<div>\n",
       "<style scoped>\n",
       "    .dataframe tbody tr th:only-of-type {\n",
       "        vertical-align: middle;\n",
       "    }\n",
       "\n",
       "    .dataframe tbody tr th {\n",
       "        vertical-align: top;\n",
       "    }\n",
       "\n",
       "    .dataframe thead th {\n",
       "        text-align: right;\n",
       "    }\n",
       "</style>\n",
       "<table border=\"1\" class=\"dataframe\">\n",
       "  <thead>\n",
       "    <tr style=\"text-align: right;\">\n",
       "      <th></th>\n",
       "      <th>BANDA</th>\n",
       "      <th>tamMuestra</th>\n",
       "    </tr>\n",
       "  </thead>\n",
       "  <tbody>\n",
       "    <tr>\n",
       "      <th>DL:12.00Mb-UL:3.00Mb</th>\n",
       "      <td>389</td>\n",
       "      <td>38.9</td>\n",
       "    </tr>\n",
       "    <tr>\n",
       "      <th>DL:15.00Mb-UL:3.75Mb</th>\n",
       "      <td>199</td>\n",
       "      <td>19.9</td>\n",
       "    </tr>\n",
       "    <tr>\n",
       "      <th>DL:18.00Mb-UL:4.50Mb</th>\n",
       "      <td>119</td>\n",
       "      <td>11.9</td>\n",
       "    </tr>\n",
       "    <tr>\n",
       "      <th>DL:21.00Mb-UL:5.25Mb</th>\n",
       "      <td>51</td>\n",
       "      <td>5.1</td>\n",
       "    </tr>\n",
       "  </tbody>\n",
       "</table>\n",
       "</div>"
      ],
      "text/plain": [
       "                      BANDA  tamMuestra\n",
       "DL:12.00Mb-UL:3.00Mb    389        38.9\n",
       "DL:15.00Mb-UL:3.75Mb    199        19.9\n",
       "DL:18.00Mb-UL:4.50Mb    119        11.9\n",
       "DL:21.00Mb-UL:5.25Mb     51         5.1"
      ]
     },
     "execution_count": 52,
     "metadata": {},
     "output_type": "execute_result"
    }
   ],
   "source": [
    "res_dist['tamMuestra']=distribucion['BANDA'].value_counts()*0.1\n",
    "res_dist"
   ]
  },
  {
   "cell_type": "code",
   "execution_count": 53,
   "id": "943446c9",
   "metadata": {},
   "outputs": [],
   "source": [
    "res_dist['tamMuestra_int']=(res_dist['tamMuestra']+1).astype(int)"
   ]
  },
  {
   "cell_type": "code",
   "execution_count": 54,
   "id": "0c12a76f",
   "metadata": {},
   "outputs": [
    {
     "data": {
      "text/plain": [
       "77"
      ]
     },
     "execution_count": 54,
     "metadata": {},
     "output_type": "execute_result"
    }
   ],
   "source": [
    "res_dist['tamMuestra_int'].sum()"
   ]
  },
  {
   "cell_type": "code",
   "execution_count": 55,
   "id": "0f6324b6",
   "metadata": {},
   "outputs": [
    {
     "data": {
      "text/plain": [
       "'DL:12.00Mb-UL:3.00Mb'"
      ]
     },
     "execution_count": 55,
     "metadata": {},
     "output_type": "execute_result"
    }
   ],
   "source": [
    "res_dist.head(1).index[0]"
   ]
  },
  {
   "cell_type": "code",
   "execution_count": 56,
   "id": "2a02de10",
   "metadata": {},
   "outputs": [],
   "source": [
    "## Ajustar tamaño\n",
    "res_dist.at[res_dist.head(1).index,'tamMuestra_int']=res_dist.at[res_dist.head(1).index[0],'tamMuestra_int']+(num_muestras_hora-res_dist['tamMuestra_int'].sum())"
   ]
  },
  {
   "cell_type": "code",
   "execution_count": 57,
   "id": "40d6b4aa",
   "metadata": {},
   "outputs": [
    {
     "data": {
      "text/plain": [
       "76"
      ]
     },
     "execution_count": 57,
     "metadata": {},
     "output_type": "execute_result"
    }
   ],
   "source": [
    "res_dist['tamMuestra_int'].sum()"
   ]
  },
  {
   "cell_type": "code",
   "execution_count": 58,
   "id": "e693a916",
   "metadata": {},
   "outputs": [
    {
     "data": {
      "text/html": [
       "<div>\n",
       "<style scoped>\n",
       "    .dataframe tbody tr th:only-of-type {\n",
       "        vertical-align: middle;\n",
       "    }\n",
       "\n",
       "    .dataframe tbody tr th {\n",
       "        vertical-align: top;\n",
       "    }\n",
       "\n",
       "    .dataframe thead th {\n",
       "        text-align: right;\n",
       "    }\n",
       "</style>\n",
       "<table border=\"1\" class=\"dataframe\">\n",
       "  <thead>\n",
       "    <tr style=\"text-align: right;\">\n",
       "      <th></th>\n",
       "      <th>index</th>\n",
       "      <th>BANDA</th>\n",
       "      <th>tamMuestra</th>\n",
       "      <th>tamMuestra_int</th>\n",
       "    </tr>\n",
       "  </thead>\n",
       "  <tbody>\n",
       "    <tr>\n",
       "      <th>0</th>\n",
       "      <td>DL:12.00Mb-UL:3.00Mb</td>\n",
       "      <td>389</td>\n",
       "      <td>38.9</td>\n",
       "      <td>38</td>\n",
       "    </tr>\n",
       "    <tr>\n",
       "      <th>1</th>\n",
       "      <td>DL:15.00Mb-UL:3.75Mb</td>\n",
       "      <td>199</td>\n",
       "      <td>19.9</td>\n",
       "      <td>20</td>\n",
       "    </tr>\n",
       "    <tr>\n",
       "      <th>2</th>\n",
       "      <td>DL:18.00Mb-UL:4.50Mb</td>\n",
       "      <td>119</td>\n",
       "      <td>11.9</td>\n",
       "      <td>12</td>\n",
       "    </tr>\n",
       "    <tr>\n",
       "      <th>3</th>\n",
       "      <td>DL:21.00Mb-UL:5.25Mb</td>\n",
       "      <td>51</td>\n",
       "      <td>5.1</td>\n",
       "      <td>6</td>\n",
       "    </tr>\n",
       "  </tbody>\n",
       "</table>\n",
       "</div>"
      ],
      "text/plain": [
       "                  index  BANDA  tamMuestra  tamMuestra_int\n",
       "0  DL:12.00Mb-UL:3.00Mb    389        38.9              38\n",
       "1  DL:15.00Mb-UL:3.75Mb    199        19.9              20\n",
       "2  DL:18.00Mb-UL:4.50Mb    119        11.9              12\n",
       "3  DL:21.00Mb-UL:5.25Mb     51         5.1               6"
      ]
     },
     "execution_count": 58,
     "metadata": {},
     "output_type": "execute_result"
    }
   ],
   "source": [
    "res_dist.reset_index(inplace=True)\n",
    "res_dist"
   ]
  },
  {
   "cell_type": "code",
   "execution_count": 59,
   "id": "9b396824",
   "metadata": {},
   "outputs": [
    {
     "data": {
      "text/html": [
       "<div>\n",
       "<style scoped>\n",
       "    .dataframe tbody tr th:only-of-type {\n",
       "        vertical-align: middle;\n",
       "    }\n",
       "\n",
       "    .dataframe tbody tr th {\n",
       "        vertical-align: top;\n",
       "    }\n",
       "\n",
       "    .dataframe thead th {\n",
       "        text-align: right;\n",
       "    }\n",
       "</style>\n",
       "<table border=\"1\" class=\"dataframe\">\n",
       "  <thead>\n",
       "    <tr style=\"text-align: right;\">\n",
       "      <th></th>\n",
       "      <th>index</th>\n",
       "      <th>BANDA</th>\n",
       "      <th>tamMuestra</th>\n",
       "      <th>tamMuestra_int</th>\n",
       "      <th>minimo</th>\n",
       "    </tr>\n",
       "  </thead>\n",
       "  <tbody>\n",
       "    <tr>\n",
       "      <th>0</th>\n",
       "      <td>DL:12.00Mb-UL:3.00Mb</td>\n",
       "      <td>389</td>\n",
       "      <td>38.9</td>\n",
       "      <td>38</td>\n",
       "      <td>25.933333</td>\n",
       "    </tr>\n",
       "    <tr>\n",
       "      <th>1</th>\n",
       "      <td>DL:15.00Mb-UL:3.75Mb</td>\n",
       "      <td>199</td>\n",
       "      <td>19.9</td>\n",
       "      <td>20</td>\n",
       "      <td>13.266667</td>\n",
       "    </tr>\n",
       "    <tr>\n",
       "      <th>2</th>\n",
       "      <td>DL:18.00Mb-UL:4.50Mb</td>\n",
       "      <td>119</td>\n",
       "      <td>11.9</td>\n",
       "      <td>12</td>\n",
       "      <td>7.933333</td>\n",
       "    </tr>\n",
       "    <tr>\n",
       "      <th>3</th>\n",
       "      <td>DL:21.00Mb-UL:5.25Mb</td>\n",
       "      <td>51</td>\n",
       "      <td>5.1</td>\n",
       "      <td>6</td>\n",
       "      <td>3.400000</td>\n",
       "    </tr>\n",
       "  </tbody>\n",
       "</table>\n",
       "</div>"
      ],
      "text/plain": [
       "                  index  BANDA  tamMuestra  tamMuestra_int     minimo\n",
       "0  DL:12.00Mb-UL:3.00Mb    389        38.9              38  25.933333\n",
       "1  DL:15.00Mb-UL:3.75Mb    199        19.9              20  13.266667\n",
       "2  DL:18.00Mb-UL:4.50Mb    119        11.9              12   7.933333\n",
       "3  DL:21.00Mb-UL:5.25Mb     51         5.1               6   3.400000"
      ]
     },
     "execution_count": 59,
     "metadata": {},
     "output_type": "execute_result"
    }
   ],
   "source": [
    "res_dist['minimo']=res_dist['BANDA']/15\n",
    "res_dist"
   ]
  },
  {
   "cell_type": "code",
   "execution_count": 60,
   "id": "882e8493",
   "metadata": {},
   "outputs": [],
   "source": [
    "#res_dist['tamMuestra_int']=[26,20,12,18]"
   ]
  },
  {
   "cell_type": "markdown",
   "id": "e7d64faa",
   "metadata": {},
   "source": [
    "### Habiles"
   ]
  },
  {
   "cell_type": "code",
   "execution_count": 61,
   "id": "1cdf0668",
   "metadata": {
    "scrolled": true
   },
   "outputs": [
    {
     "name": "stdout",
     "output_type": "stream",
     "text": [
      "DL:12.00Mb-UL:3.00Mb\n",
      "6 False\n",
      "7 False\n",
      "8 False\n",
      "9 False\n",
      "10 False\n",
      "11 False\n",
      "12 False\n",
      "13 False\n",
      "14 False\n",
      "15 False\n",
      "16 False\n",
      "17 False\n",
      "18 False\n",
      "19 False\n",
      "20 False\n",
      "DL:15.00Mb-UL:3.75Mb\n",
      "6 False\n",
      "7 False\n",
      "8 False\n",
      "9 False\n",
      "10 False\n",
      "11 False\n",
      "12 False\n",
      "13 False\n",
      "14 False\n",
      "15 False\n",
      "16 False\n",
      "17 False\n",
      "18 False\n",
      "19 False\n",
      "20 False\n",
      "DL:18.00Mb-UL:4.50Mb\n",
      "6 False\n",
      "7 False\n",
      "8 False\n",
      "9 False\n",
      "10 False\n",
      "11 False\n",
      "12 False\n",
      "13 False\n",
      "14 False\n",
      "15 False\n",
      "16 False\n",
      "17 False\n",
      "18 False\n",
      "19 False\n",
      "20 False\n",
      "DL:21.00Mb-UL:5.25Mb\n",
      "6 False\n",
      "7 False\n",
      "8 False\n",
      "9 False\n",
      "10 False\n",
      "11 False\n",
      "12 False\n",
      "13 False\n",
      "14 False\n",
      "15 False\n",
      "16 False\n",
      "17 False\n",
      "18 False\n",
      "19 False\n",
      "20 False\n"
     ]
    }
   ],
   "source": [
    "tabla_fina_com=pd.DataFrame()\n",
    "i=0\n",
    "for key,row in res_dist.iterrows():\n",
    "    print(row['index'])\n",
    "    tabla_final_un=asignarMuestras(Data[(Data['FILTRO']=='hab')&(Data['BANDA']==row['index'])],row['tamMuestra_int'])\n",
    "    if i==0:\n",
    "        tabla_fina_com=tabla_final_un.copy()\n",
    "    else :\n",
    "        tabla_fina_com=tabla_fina_com.append(tabla_final_un)     \n",
    "    i=i+1"
   ]
  },
  {
   "cell_type": "code",
   "execution_count": 62,
   "id": "92e342eb",
   "metadata": {},
   "outputs": [
    {
     "data": {
      "text/html": [
       "<div>\n",
       "<style scoped>\n",
       "    .dataframe tbody tr th:only-of-type {\n",
       "        vertical-align: middle;\n",
       "    }\n",
       "\n",
       "    .dataframe tbody tr th {\n",
       "        vertical-align: top;\n",
       "    }\n",
       "\n",
       "    .dataframe thead th {\n",
       "        text-align: right;\n",
       "    }\n",
       "</style>\n",
       "<table border=\"1\" class=\"dataframe\">\n",
       "  <thead>\n",
       "    <tr style=\"text-align: right;\">\n",
       "      <th>tipo</th>\n",
       "      <th>BUENO</th>\n",
       "      <th>CRITICO</th>\n",
       "      <th>REGULAR</th>\n",
       "      <th>All</th>\n",
       "    </tr>\n",
       "    <tr>\n",
       "      <th>hora</th>\n",
       "      <th></th>\n",
       "      <th></th>\n",
       "      <th></th>\n",
       "      <th></th>\n",
       "    </tr>\n",
       "  </thead>\n",
       "  <tbody>\n",
       "    <tr>\n",
       "      <th>6</th>\n",
       "      <td>8</td>\n",
       "      <td>5</td>\n",
       "      <td>63</td>\n",
       "      <td>76</td>\n",
       "    </tr>\n",
       "    <tr>\n",
       "      <th>7</th>\n",
       "      <td>15</td>\n",
       "      <td>6</td>\n",
       "      <td>55</td>\n",
       "      <td>76</td>\n",
       "    </tr>\n",
       "    <tr>\n",
       "      <th>8</th>\n",
       "      <td>29</td>\n",
       "      <td>6</td>\n",
       "      <td>41</td>\n",
       "      <td>76</td>\n",
       "    </tr>\n",
       "    <tr>\n",
       "      <th>9</th>\n",
       "      <td>39</td>\n",
       "      <td>6</td>\n",
       "      <td>31</td>\n",
       "      <td>76</td>\n",
       "    </tr>\n",
       "    <tr>\n",
       "      <th>10</th>\n",
       "      <td>36</td>\n",
       "      <td>6</td>\n",
       "      <td>34</td>\n",
       "      <td>76</td>\n",
       "    </tr>\n",
       "    <tr>\n",
       "      <th>11</th>\n",
       "      <td>38</td>\n",
       "      <td>12</td>\n",
       "      <td>26</td>\n",
       "      <td>76</td>\n",
       "    </tr>\n",
       "    <tr>\n",
       "      <th>12</th>\n",
       "      <td>48</td>\n",
       "      <td>3</td>\n",
       "      <td>25</td>\n",
       "      <td>76</td>\n",
       "    </tr>\n",
       "    <tr>\n",
       "      <th>13</th>\n",
       "      <td>41</td>\n",
       "      <td>13</td>\n",
       "      <td>22</td>\n",
       "      <td>76</td>\n",
       "    </tr>\n",
       "    <tr>\n",
       "      <th>14</th>\n",
       "      <td>47</td>\n",
       "      <td>13</td>\n",
       "      <td>16</td>\n",
       "      <td>76</td>\n",
       "    </tr>\n",
       "    <tr>\n",
       "      <th>15</th>\n",
       "      <td>41</td>\n",
       "      <td>10</td>\n",
       "      <td>25</td>\n",
       "      <td>76</td>\n",
       "    </tr>\n",
       "    <tr>\n",
       "      <th>16</th>\n",
       "      <td>47</td>\n",
       "      <td>8</td>\n",
       "      <td>21</td>\n",
       "      <td>76</td>\n",
       "    </tr>\n",
       "    <tr>\n",
       "      <th>17</th>\n",
       "      <td>42</td>\n",
       "      <td>7</td>\n",
       "      <td>27</td>\n",
       "      <td>76</td>\n",
       "    </tr>\n",
       "    <tr>\n",
       "      <th>18</th>\n",
       "      <td>33</td>\n",
       "      <td>7</td>\n",
       "      <td>36</td>\n",
       "      <td>76</td>\n",
       "    </tr>\n",
       "    <tr>\n",
       "      <th>19</th>\n",
       "      <td>46</td>\n",
       "      <td>7</td>\n",
       "      <td>23</td>\n",
       "      <td>76</td>\n",
       "    </tr>\n",
       "    <tr>\n",
       "      <th>20</th>\n",
       "      <td>50</td>\n",
       "      <td>10</td>\n",
       "      <td>16</td>\n",
       "      <td>76</td>\n",
       "    </tr>\n",
       "    <tr>\n",
       "      <th>All</th>\n",
       "      <td>560</td>\n",
       "      <td>119</td>\n",
       "      <td>461</td>\n",
       "      <td>1140</td>\n",
       "    </tr>\n",
       "  </tbody>\n",
       "</table>\n",
       "</div>"
      ],
      "text/plain": [
       "tipo  BUENO  CRITICO  REGULAR   All\n",
       "hora                               \n",
       "6         8        5       63    76\n",
       "7        15        6       55    76\n",
       "8        29        6       41    76\n",
       "9        39        6       31    76\n",
       "10       36        6       34    76\n",
       "11       38       12       26    76\n",
       "12       48        3       25    76\n",
       "13       41       13       22    76\n",
       "14       47       13       16    76\n",
       "15       41       10       25    76\n",
       "16       47        8       21    76\n",
       "17       42        7       27    76\n",
       "18       33        7       36    76\n",
       "19       46        7       23    76\n",
       "20       50       10       16    76\n",
       "All     560      119      461  1140"
      ]
     },
     "execution_count": 62,
     "metadata": {},
     "output_type": "execute_result"
    }
   ],
   "source": [
    "pd.crosstab(index=tabla_fina_com['hora'],\n",
    "            columns=tabla_fina_com['tipo'], margins=True)"
   ]
  },
  {
   "cell_type": "code",
   "execution_count": 63,
   "id": "4131cd2c",
   "metadata": {},
   "outputs": [],
   "source": [
    "archivo=tabla_fina_com[['ID','BANDA','hora']]\n",
    "archivo.columns=['ID','BANDA','HORA']\n",
    "archivo=archivo.sort_values('HORA')"
   ]
  },
  {
   "cell_type": "code",
   "execution_count": 64,
   "id": "70668bbb",
   "metadata": {},
   "outputs": [
    {
     "data": {
      "text/plain": [
       "ID       0\n",
       "BANDA    0\n",
       "HORA     0\n",
       "dtype: int64"
      ]
     },
     "execution_count": 64,
     "metadata": {},
     "output_type": "execute_result"
    }
   ],
   "source": [
    "archivo.isnull().sum()"
   ]
  },
  {
   "cell_type": "code",
   "execution_count": 65,
   "id": "38483392",
   "metadata": {},
   "outputs": [
    {
     "data": {
      "text/html": [
       "<div>\n",
       "<style scoped>\n",
       "    .dataframe tbody tr th:only-of-type {\n",
       "        vertical-align: middle;\n",
       "    }\n",
       "\n",
       "    .dataframe tbody tr th {\n",
       "        vertical-align: top;\n",
       "    }\n",
       "\n",
       "    .dataframe thead th {\n",
       "        text-align: right;\n",
       "    }\n",
       "</style>\n",
       "<table border=\"1\" class=\"dataframe\">\n",
       "  <thead>\n",
       "    <tr style=\"text-align: right;\">\n",
       "      <th></th>\n",
       "      <th>ID</th>\n",
       "      <th>BANDA</th>\n",
       "      <th>HORA</th>\n",
       "    </tr>\n",
       "  </thead>\n",
       "  <tbody>\n",
       "  </tbody>\n",
       "</table>\n",
       "</div>"
      ],
      "text/plain": [
       "Empty DataFrame\n",
       "Columns: [ID, BANDA, HORA]\n",
       "Index: []"
      ]
     },
     "execution_count": 65,
     "metadata": {},
     "output_type": "execute_result"
    }
   ],
   "source": [
    "duplicateRowsDF = archivo[archivo.duplicated()]\n",
    "duplicateRowsDF"
   ]
  },
  {
   "cell_type": "code",
   "execution_count": 66,
   "id": "d7b54901",
   "metadata": {},
   "outputs": [],
   "source": [
    "archivo.to_csv('initialize-general-list-hab.csv',sep=';', index=False)"
   ]
  },
  {
   "cell_type": "code",
   "execution_count": 67,
   "id": "05b6028b",
   "metadata": {},
   "outputs": [],
   "source": [
    "final_hab=archivo.copy()"
   ]
  },
  {
   "cell_type": "code",
   "execution_count": 68,
   "id": "adf84a75",
   "metadata": {},
   "outputs": [
    {
     "data": {
      "text/plain": [
       "758"
      ]
     },
     "execution_count": 68,
     "metadata": {},
     "output_type": "execute_result"
    }
   ],
   "source": [
    "final_hab['ID'].nunique()"
   ]
  },
  {
   "cell_type": "code",
   "execution_count": 69,
   "id": "a07ab321",
   "metadata": {},
   "outputs": [
    {
     "data": {
      "text/html": [
       "<div>\n",
       "<style scoped>\n",
       "    .dataframe tbody tr th:only-of-type {\n",
       "        vertical-align: middle;\n",
       "    }\n",
       "\n",
       "    .dataframe tbody tr th {\n",
       "        vertical-align: top;\n",
       "    }\n",
       "\n",
       "    .dataframe thead th {\n",
       "        text-align: right;\n",
       "    }\n",
       "</style>\n",
       "<table border=\"1\" class=\"dataframe\">\n",
       "  <thead>\n",
       "    <tr style=\"text-align: right;\">\n",
       "      <th></th>\n",
       "      <th>index</th>\n",
       "      <th>BANDA</th>\n",
       "      <th>tamMuestra</th>\n",
       "      <th>tamMuestra_int</th>\n",
       "      <th>minimo</th>\n",
       "    </tr>\n",
       "  </thead>\n",
       "  <tbody>\n",
       "    <tr>\n",
       "      <th>0</th>\n",
       "      <td>DL:12.00Mb-UL:3.00Mb</td>\n",
       "      <td>389</td>\n",
       "      <td>38.9</td>\n",
       "      <td>38</td>\n",
       "      <td>25.933333</td>\n",
       "    </tr>\n",
       "    <tr>\n",
       "      <th>1</th>\n",
       "      <td>DL:15.00Mb-UL:3.75Mb</td>\n",
       "      <td>199</td>\n",
       "      <td>19.9</td>\n",
       "      <td>20</td>\n",
       "      <td>13.266667</td>\n",
       "    </tr>\n",
       "    <tr>\n",
       "      <th>2</th>\n",
       "      <td>DL:18.00Mb-UL:4.50Mb</td>\n",
       "      <td>119</td>\n",
       "      <td>11.9</td>\n",
       "      <td>12</td>\n",
       "      <td>7.933333</td>\n",
       "    </tr>\n",
       "    <tr>\n",
       "      <th>3</th>\n",
       "      <td>DL:21.00Mb-UL:5.25Mb</td>\n",
       "      <td>51</td>\n",
       "      <td>5.1</td>\n",
       "      <td>6</td>\n",
       "      <td>3.400000</td>\n",
       "    </tr>\n",
       "  </tbody>\n",
       "</table>\n",
       "</div>"
      ],
      "text/plain": [
       "                  index  BANDA  tamMuestra  tamMuestra_int     minimo\n",
       "0  DL:12.00Mb-UL:3.00Mb    389        38.9              38  25.933333\n",
       "1  DL:15.00Mb-UL:3.75Mb    199        19.9              20  13.266667\n",
       "2  DL:18.00Mb-UL:4.50Mb    119        11.9              12   7.933333\n",
       "3  DL:21.00Mb-UL:5.25Mb     51         5.1               6   3.400000"
      ]
     },
     "execution_count": 69,
     "metadata": {},
     "output_type": "execute_result"
    }
   ],
   "source": [
    "res_dist"
   ]
  },
  {
   "cell_type": "code",
   "execution_count": 70,
   "id": "54acb28f",
   "metadata": {},
   "outputs": [
    {
     "data": {
      "text/plain": [
       "BANDA\n",
       "DL:12.00Mb-UL:3.00Mb    389\n",
       "DL:15.00Mb-UL:3.75Mb    199\n",
       "DL:18.00Mb-UL:4.50Mb    119\n",
       "DL:21.00Mb-UL:5.25Mb     51\n",
       "Name: ID, dtype: int64"
      ]
     },
     "execution_count": 70,
     "metadata": {},
     "output_type": "execute_result"
    }
   ],
   "source": [
    "final_hab.groupby('BANDA')['ID'].nunique()"
   ]
  },
  {
   "cell_type": "markdown",
   "id": "272c713f",
   "metadata": {},
   "source": [
    " ### Festivos"
   ]
  },
  {
   "cell_type": "code",
   "execution_count": 71,
   "id": "5c0d2577",
   "metadata": {},
   "outputs": [
    {
     "name": "stdout",
     "output_type": "stream",
     "text": [
      "DL:12.00Mb-UL:3.00Mb\n",
      "6 False\n",
      "7 False\n",
      "8 False\n",
      "9 False\n",
      "10 False\n",
      "11 False\n",
      "12 False\n",
      "13 False\n",
      "14 False\n",
      "15 False\n",
      "16 False\n",
      "17 False\n",
      "18 False\n",
      "19 False\n",
      "20 False\n",
      "DL:15.00Mb-UL:3.75Mb\n",
      "6 False\n",
      "7 False\n",
      "8 False\n",
      "9 False\n",
      "10 False\n",
      "11 False\n",
      "12 False\n",
      "13 False\n",
      "14 False\n",
      "15 False\n",
      "16 False\n",
      "17 False\n",
      "18 False\n",
      "19 False\n",
      "20 False\n",
      "DL:18.00Mb-UL:4.50Mb\n",
      "6 False\n",
      "7 False\n",
      "8 False\n",
      "9 False\n",
      "10 False\n",
      "11 False\n",
      "12 False\n",
      "13 False\n",
      "14 False\n",
      "15 False\n",
      "16 False\n",
      "17 False\n",
      "18 False\n",
      "19 False\n",
      "20 False\n",
      "DL:21.00Mb-UL:5.25Mb\n",
      "6 False\n",
      "7 False\n",
      "8 False\n",
      "9 False\n",
      "10 False\n",
      "11 False\n",
      "12 False\n",
      "13 False\n",
      "14 False\n",
      "15 False\n",
      "16 False\n",
      "17 False\n",
      "18 False\n",
      "19 False\n",
      "20 False\n"
     ]
    }
   ],
   "source": [
    "tabla_fina_com=pd.DataFrame()\n",
    "i=0\n",
    "for key,row in res_dist.iterrows():\n",
    "    print(row['index'])\n",
    "    tabla_final_un=asignarMuestras(Data[(Data['FILTRO']=='fds')&(Data['BANDA']==row['index'])],row['tamMuestra_int'])\n",
    "    if i==0:\n",
    "        tabla_fina_com=tabla_final_un.copy()\n",
    "    else :\n",
    "        tabla_fina_com=tabla_fina_com.append(tabla_final_un)     \n",
    "    i=i+1"
   ]
  },
  {
   "cell_type": "code",
   "execution_count": 72,
   "id": "96ec63f4",
   "metadata": {},
   "outputs": [
    {
     "data": {
      "text/html": [
       "<div>\n",
       "<style scoped>\n",
       "    .dataframe tbody tr th:only-of-type {\n",
       "        vertical-align: middle;\n",
       "    }\n",
       "\n",
       "    .dataframe tbody tr th {\n",
       "        vertical-align: top;\n",
       "    }\n",
       "\n",
       "    .dataframe thead th {\n",
       "        text-align: right;\n",
       "    }\n",
       "</style>\n",
       "<table border=\"1\" class=\"dataframe\">\n",
       "  <thead>\n",
       "    <tr style=\"text-align: right;\">\n",
       "      <th>tipo</th>\n",
       "      <th>BUENO</th>\n",
       "      <th>CRITICO</th>\n",
       "      <th>REGULAR</th>\n",
       "      <th>All</th>\n",
       "    </tr>\n",
       "    <tr>\n",
       "      <th>hora</th>\n",
       "      <th></th>\n",
       "      <th></th>\n",
       "      <th></th>\n",
       "      <th></th>\n",
       "    </tr>\n",
       "  </thead>\n",
       "  <tbody>\n",
       "    <tr>\n",
       "      <th>6</th>\n",
       "      <td>12</td>\n",
       "      <td>8</td>\n",
       "      <td>56</td>\n",
       "      <td>76</td>\n",
       "    </tr>\n",
       "    <tr>\n",
       "      <th>7</th>\n",
       "      <td>23</td>\n",
       "      <td>7</td>\n",
       "      <td>46</td>\n",
       "      <td>76</td>\n",
       "    </tr>\n",
       "    <tr>\n",
       "      <th>8</th>\n",
       "      <td>39</td>\n",
       "      <td>7</td>\n",
       "      <td>30</td>\n",
       "      <td>76</td>\n",
       "    </tr>\n",
       "    <tr>\n",
       "      <th>9</th>\n",
       "      <td>39</td>\n",
       "      <td>11</td>\n",
       "      <td>26</td>\n",
       "      <td>76</td>\n",
       "    </tr>\n",
       "    <tr>\n",
       "      <th>10</th>\n",
       "      <td>52</td>\n",
       "      <td>6</td>\n",
       "      <td>18</td>\n",
       "      <td>76</td>\n",
       "    </tr>\n",
       "    <tr>\n",
       "      <th>11</th>\n",
       "      <td>34</td>\n",
       "      <td>5</td>\n",
       "      <td>37</td>\n",
       "      <td>76</td>\n",
       "    </tr>\n",
       "    <tr>\n",
       "      <th>12</th>\n",
       "      <td>54</td>\n",
       "      <td>4</td>\n",
       "      <td>18</td>\n",
       "      <td>76</td>\n",
       "    </tr>\n",
       "    <tr>\n",
       "      <th>13</th>\n",
       "      <td>45</td>\n",
       "      <td>9</td>\n",
       "      <td>22</td>\n",
       "      <td>76</td>\n",
       "    </tr>\n",
       "    <tr>\n",
       "      <th>14</th>\n",
       "      <td>49</td>\n",
       "      <td>11</td>\n",
       "      <td>16</td>\n",
       "      <td>76</td>\n",
       "    </tr>\n",
       "    <tr>\n",
       "      <th>15</th>\n",
       "      <td>48</td>\n",
       "      <td>11</td>\n",
       "      <td>17</td>\n",
       "      <td>76</td>\n",
       "    </tr>\n",
       "    <tr>\n",
       "      <th>16</th>\n",
       "      <td>47</td>\n",
       "      <td>11</td>\n",
       "      <td>18</td>\n",
       "      <td>76</td>\n",
       "    </tr>\n",
       "    <tr>\n",
       "      <th>17</th>\n",
       "      <td>47</td>\n",
       "      <td>9</td>\n",
       "      <td>20</td>\n",
       "      <td>76</td>\n",
       "    </tr>\n",
       "    <tr>\n",
       "      <th>18</th>\n",
       "      <td>49</td>\n",
       "      <td>8</td>\n",
       "      <td>19</td>\n",
       "      <td>76</td>\n",
       "    </tr>\n",
       "    <tr>\n",
       "      <th>19</th>\n",
       "      <td>48</td>\n",
       "      <td>12</td>\n",
       "      <td>16</td>\n",
       "      <td>76</td>\n",
       "    </tr>\n",
       "    <tr>\n",
       "      <th>20</th>\n",
       "      <td>48</td>\n",
       "      <td>13</td>\n",
       "      <td>15</td>\n",
       "      <td>76</td>\n",
       "    </tr>\n",
       "    <tr>\n",
       "      <th>All</th>\n",
       "      <td>634</td>\n",
       "      <td>132</td>\n",
       "      <td>374</td>\n",
       "      <td>1140</td>\n",
       "    </tr>\n",
       "  </tbody>\n",
       "</table>\n",
       "</div>"
      ],
      "text/plain": [
       "tipo  BUENO  CRITICO  REGULAR   All\n",
       "hora                               \n",
       "6        12        8       56    76\n",
       "7        23        7       46    76\n",
       "8        39        7       30    76\n",
       "9        39       11       26    76\n",
       "10       52        6       18    76\n",
       "11       34        5       37    76\n",
       "12       54        4       18    76\n",
       "13       45        9       22    76\n",
       "14       49       11       16    76\n",
       "15       48       11       17    76\n",
       "16       47       11       18    76\n",
       "17       47        9       20    76\n",
       "18       49        8       19    76\n",
       "19       48       12       16    76\n",
       "20       48       13       15    76\n",
       "All     634      132      374  1140"
      ]
     },
     "execution_count": 72,
     "metadata": {},
     "output_type": "execute_result"
    }
   ],
   "source": [
    "pd.crosstab(index=tabla_fina_com['hora'],\n",
    "            columns=tabla_fina_com['tipo'], margins=True)"
   ]
  },
  {
   "cell_type": "code",
   "execution_count": 73,
   "id": "a9246fcd",
   "metadata": {},
   "outputs": [],
   "source": [
    "archivo=tabla_fina_com[['ID','BANDA','hora']]\n",
    "archivo.columns=['ID','BANDA','HORA']\n",
    "archivo=archivo.sort_values('HORA')"
   ]
  },
  {
   "cell_type": "code",
   "execution_count": 74,
   "id": "76cdb136",
   "metadata": {},
   "outputs": [
    {
     "data": {
      "text/plain": [
       "ID       0\n",
       "BANDA    0\n",
       "HORA     0\n",
       "dtype: int64"
      ]
     },
     "execution_count": 74,
     "metadata": {},
     "output_type": "execute_result"
    }
   ],
   "source": [
    "archivo.isnull().sum()"
   ]
  },
  {
   "cell_type": "code",
   "execution_count": 75,
   "id": "d832d995",
   "metadata": {},
   "outputs": [
    {
     "data": {
      "text/html": [
       "<div>\n",
       "<style scoped>\n",
       "    .dataframe tbody tr th:only-of-type {\n",
       "        vertical-align: middle;\n",
       "    }\n",
       "\n",
       "    .dataframe tbody tr th {\n",
       "        vertical-align: top;\n",
       "    }\n",
       "\n",
       "    .dataframe thead th {\n",
       "        text-align: right;\n",
       "    }\n",
       "</style>\n",
       "<table border=\"1\" class=\"dataframe\">\n",
       "  <thead>\n",
       "    <tr style=\"text-align: right;\">\n",
       "      <th></th>\n",
       "      <th>ID</th>\n",
       "      <th>BANDA</th>\n",
       "      <th>HORA</th>\n",
       "    </tr>\n",
       "  </thead>\n",
       "  <tbody>\n",
       "  </tbody>\n",
       "</table>\n",
       "</div>"
      ],
      "text/plain": [
       "Empty DataFrame\n",
       "Columns: [ID, BANDA, HORA]\n",
       "Index: []"
      ]
     },
     "execution_count": 75,
     "metadata": {},
     "output_type": "execute_result"
    }
   ],
   "source": [
    "duplicateRowsDF = archivo[archivo.duplicated()]\n",
    "duplicateRowsDF"
   ]
  },
  {
   "cell_type": "code",
   "execution_count": 76,
   "id": "4ae0d366",
   "metadata": {},
   "outputs": [],
   "source": [
    "archivo.to_csv('initialize-general-list-fds.csv',sep=';', index=False)"
   ]
  },
  {
   "cell_type": "code",
   "execution_count": 77,
   "id": "2f307521",
   "metadata": {},
   "outputs": [],
   "source": [
    "final_fds=archivo.copy()"
   ]
  },
  {
   "cell_type": "code",
   "execution_count": 78,
   "id": "4ce6fa5c",
   "metadata": {},
   "outputs": [
    {
     "data": {
      "text/plain": [
       "758"
      ]
     },
     "execution_count": 78,
     "metadata": {},
     "output_type": "execute_result"
    }
   ],
   "source": [
    "final_fds['ID'].nunique()"
   ]
  },
  {
   "cell_type": "code",
   "execution_count": 79,
   "id": "cae04731",
   "metadata": {},
   "outputs": [
    {
     "data": {
      "text/plain": [
       "BANDA\n",
       "DL:12.00Mb-UL:3.00Mb    389\n",
       "DL:15.00Mb-UL:3.75Mb    199\n",
       "DL:18.00Mb-UL:4.50Mb    119\n",
       "DL:21.00Mb-UL:5.25Mb     51\n",
       "Name: ID, dtype: int64"
      ]
     },
     "execution_count": 79,
     "metadata": {},
     "output_type": "execute_result"
    }
   ],
   "source": [
    "final_hab.groupby('BANDA')['ID'].nunique()"
   ]
  },
  {
   "cell_type": "markdown",
   "id": "76f36388",
   "metadata": {},
   "source": [
    "# Prueba Aleatoria\n",
    "* Realizar asignacion aleatoria\n",
    "* validar indicadores principales\n",
    "* calcular número de franjas cumplidas en los 2 escenarios"
   ]
  },
  {
   "cell_type": "code",
   "execution_count": 80,
   "id": "8a6b2b2f",
   "metadata": {},
   "outputs": [
    {
     "data": {
      "text/plain": [
       "758"
      ]
     },
     "execution_count": 80,
     "metadata": {},
     "output_type": "execute_result"
    }
   ],
   "source": [
    "APs_id=DataTotal['ID'].unique()\n",
    "len(APs_id)"
   ]
  },
  {
   "cell_type": "code",
   "execution_count": 81,
   "id": "7b62b301",
   "metadata": {},
   "outputs": [],
   "source": [
    "#num_muestras_hora=num_muestras_hora+muestra_bajas_hora\n",
    "tabla_final=pd.DataFrame({'hora':list(range(6,20+1))},columns=['hora']+list(range(num_muestras_hora)))\n",
    "tabla_final.set_index('hora',inplace=True)\n",
    "tabla_final['pos']=0"
   ]
  },
  {
   "cell_type": "markdown",
   "id": "9095267b",
   "metadata": {},
   "source": [
    "## Asignación al azar  1\n",
    "\n",
    "* Todos los Aps una hora"
   ]
  },
  {
   "cell_type": "code",
   "execution_count": 82,
   "id": "6aaaeaff",
   "metadata": {},
   "outputs": [],
   "source": [
    "for aps in APs_id:\n",
    "    pos=76\n",
    "    while pos>=76:\n",
    "        sel_hora=random.randint(6, num_horas+5)\n",
    "        pos=tabla_final.at[sel_hora,'pos']\n",
    "        #print(hora_rand)\n",
    "    \n",
    "    tabla_final.at[sel_hora,pos]=aps    \n",
    "    tabla_final.at[sel_hora,'pos']=tabla_final.at[sel_hora,'pos']+1"
   ]
  },
  {
   "cell_type": "code",
   "execution_count": 83,
   "id": "adf675af",
   "metadata": {},
   "outputs": [
    {
     "data": {
      "text/plain": [
       "758"
      ]
     },
     "execution_count": 83,
     "metadata": {},
     "output_type": "execute_result"
    }
   ],
   "source": [
    "tabla_final['pos'].sum()"
   ]
  },
  {
   "cell_type": "markdown",
   "id": "4862bc17",
   "metadata": {},
   "source": [
    "###  Completar faltantes con APs al azar"
   ]
  },
  {
   "cell_type": "code",
   "execution_count": 84,
   "id": "a9978f8e",
   "metadata": {},
   "outputs": [
    {
     "name": "stdout",
     "output_type": "stream",
     "text": [
      "6\n",
      "7\n",
      "8\n",
      "9\n",
      "10\n",
      "11\n",
      "12\n",
      "13\n",
      "14\n",
      "15\n",
      "16\n",
      "17\n",
      "18\n",
      "19\n",
      "20\n"
     ]
    }
   ],
   "source": [
    "for hora_i in range(6,21):\n",
    "    print(hora_i)\n",
    "    pos=tabla_final.at[hora_i,'pos']\n",
    "    for muestra_i in range(pos,76):\n",
    "        aps_aux=random.choice(APs_id)\n",
    "        tabla_final.at[hora_i,muestra_i]=aps_aux\n",
    "        tabla_final.at[hora_i,'pos']=tabla_final.at[hora_i,'pos']+1\n",
    "    "
   ]
  },
  {
   "cell_type": "code",
   "execution_count": 85,
   "id": "21c2114e",
   "metadata": {},
   "outputs": [
    {
     "data": {
      "text/html": [
       "<div>\n",
       "<style scoped>\n",
       "    .dataframe tbody tr th:only-of-type {\n",
       "        vertical-align: middle;\n",
       "    }\n",
       "\n",
       "    .dataframe tbody tr th {\n",
       "        vertical-align: top;\n",
       "    }\n",
       "\n",
       "    .dataframe thead th {\n",
       "        text-align: right;\n",
       "    }\n",
       "</style>\n",
       "<table border=\"1\" class=\"dataframe\">\n",
       "  <thead>\n",
       "    <tr style=\"text-align: right;\">\n",
       "      <th></th>\n",
       "      <th>hora</th>\n",
       "      <th>muestra</th>\n",
       "      <th>ID</th>\n",
       "    </tr>\n",
       "  </thead>\n",
       "  <tbody>\n",
       "    <tr>\n",
       "      <th>0</th>\n",
       "      <td>6</td>\n",
       "      <td>0</td>\n",
       "      <td>14715</td>\n",
       "    </tr>\n",
       "    <tr>\n",
       "      <th>1</th>\n",
       "      <td>7</td>\n",
       "      <td>0</td>\n",
       "      <td>20022</td>\n",
       "    </tr>\n",
       "    <tr>\n",
       "      <th>2</th>\n",
       "      <td>8</td>\n",
       "      <td>0</td>\n",
       "      <td>13774</td>\n",
       "    </tr>\n",
       "    <tr>\n",
       "      <th>3</th>\n",
       "      <td>9</td>\n",
       "      <td>0</td>\n",
       "      <td>13258</td>\n",
       "    </tr>\n",
       "    <tr>\n",
       "      <th>4</th>\n",
       "      <td>10</td>\n",
       "      <td>0</td>\n",
       "      <td>11188</td>\n",
       "    </tr>\n",
       "    <tr>\n",
       "      <th>...</th>\n",
       "      <td>...</td>\n",
       "      <td>...</td>\n",
       "      <td>...</td>\n",
       "    </tr>\n",
       "    <tr>\n",
       "      <th>1135</th>\n",
       "      <td>16</td>\n",
       "      <td>75</td>\n",
       "      <td>31726</td>\n",
       "    </tr>\n",
       "    <tr>\n",
       "      <th>1136</th>\n",
       "      <td>17</td>\n",
       "      <td>75</td>\n",
       "      <td>20762</td>\n",
       "    </tr>\n",
       "    <tr>\n",
       "      <th>1137</th>\n",
       "      <td>18</td>\n",
       "      <td>75</td>\n",
       "      <td>13445</td>\n",
       "    </tr>\n",
       "    <tr>\n",
       "      <th>1138</th>\n",
       "      <td>19</td>\n",
       "      <td>75</td>\n",
       "      <td>47804</td>\n",
       "    </tr>\n",
       "    <tr>\n",
       "      <th>1139</th>\n",
       "      <td>20</td>\n",
       "      <td>75</td>\n",
       "      <td>30741</td>\n",
       "    </tr>\n",
       "  </tbody>\n",
       "</table>\n",
       "<p>1140 rows × 3 columns</p>\n",
       "</div>"
      ],
      "text/plain": [
       "      hora muestra     ID\n",
       "0        6       0  14715\n",
       "1        7       0  20022\n",
       "2        8       0  13774\n",
       "3        9       0  13258\n",
       "4       10       0  11188\n",
       "...    ...     ...    ...\n",
       "1135    16      75  31726\n",
       "1136    17      75  20762\n",
       "1137    18      75  13445\n",
       "1138    19      75  47804\n",
       "1139    20      75  30741\n",
       "\n",
       "[1140 rows x 3 columns]"
      ]
     },
     "execution_count": 85,
     "metadata": {},
     "output_type": "execute_result"
    }
   ],
   "source": [
    "tabla_final.reset_index().drop(columns=['pos']).melt(id_vars=['hora'],var_name='muestra',value_name='ID')"
   ]
  },
  {
   "cell_type": "code",
   "execution_count": 86,
   "id": "ef8c69c1",
   "metadata": {},
   "outputs": [],
   "source": [
    "final_aleatorio=tabla_final.reset_index().drop(columns=['pos']).melt(id_vars=['hora'],var_name='muestra',value_name='ID')"
   ]
  },
  {
   "cell_type": "markdown",
   "id": "1a090af9",
   "metadata": {},
   "source": [
    "## Comparacion Resultados"
   ]
  },
  {
   "cell_type": "markdown",
   "id": "2a8cb696",
   "metadata": {},
   "source": [
    "### Union con muestreos"
   ]
  },
  {
   "cell_type": "code",
   "execution_count": 87,
   "id": "d50417ef",
   "metadata": {},
   "outputs": [],
   "source": [
    "DataTotal_validacion=DataTotal.copy()"
   ]
  },
  {
   "cell_type": "code",
   "execution_count": 88,
   "id": "d5f116e5",
   "metadata": {},
   "outputs": [
    {
     "data": {
      "text/html": [
       "<div>\n",
       "<style scoped>\n",
       "    .dataframe tbody tr th:only-of-type {\n",
       "        vertical-align: middle;\n",
       "    }\n",
       "\n",
       "    .dataframe tbody tr th {\n",
       "        vertical-align: top;\n",
       "    }\n",
       "\n",
       "    .dataframe thead th {\n",
       "        text-align: right;\n",
       "    }\n",
       "</style>\n",
       "<table border=\"1\" class=\"dataframe\">\n",
       "  <thead>\n",
       "    <tr style=\"text-align: right;\">\n",
       "      <th></th>\n",
       "      <th>hora</th>\n",
       "      <th>muestra</th>\n",
       "      <th>ID_aleatorio</th>\n",
       "    </tr>\n",
       "  </thead>\n",
       "  <tbody>\n",
       "    <tr>\n",
       "      <th>0</th>\n",
       "      <td>6</td>\n",
       "      <td>0</td>\n",
       "      <td>14715</td>\n",
       "    </tr>\n",
       "    <tr>\n",
       "      <th>1</th>\n",
       "      <td>7</td>\n",
       "      <td>0</td>\n",
       "      <td>20022</td>\n",
       "    </tr>\n",
       "    <tr>\n",
       "      <th>2</th>\n",
       "      <td>8</td>\n",
       "      <td>0</td>\n",
       "      <td>13774</td>\n",
       "    </tr>\n",
       "    <tr>\n",
       "      <th>3</th>\n",
       "      <td>9</td>\n",
       "      <td>0</td>\n",
       "      <td>13258</td>\n",
       "    </tr>\n",
       "    <tr>\n",
       "      <th>4</th>\n",
       "      <td>10</td>\n",
       "      <td>0</td>\n",
       "      <td>11188</td>\n",
       "    </tr>\n",
       "    <tr>\n",
       "      <th>...</th>\n",
       "      <td>...</td>\n",
       "      <td>...</td>\n",
       "      <td>...</td>\n",
       "    </tr>\n",
       "    <tr>\n",
       "      <th>1135</th>\n",
       "      <td>16</td>\n",
       "      <td>75</td>\n",
       "      <td>31726</td>\n",
       "    </tr>\n",
       "    <tr>\n",
       "      <th>1136</th>\n",
       "      <td>17</td>\n",
       "      <td>75</td>\n",
       "      <td>20762</td>\n",
       "    </tr>\n",
       "    <tr>\n",
       "      <th>1137</th>\n",
       "      <td>18</td>\n",
       "      <td>75</td>\n",
       "      <td>13445</td>\n",
       "    </tr>\n",
       "    <tr>\n",
       "      <th>1138</th>\n",
       "      <td>19</td>\n",
       "      <td>75</td>\n",
       "      <td>47804</td>\n",
       "    </tr>\n",
       "    <tr>\n",
       "      <th>1139</th>\n",
       "      <td>20</td>\n",
       "      <td>75</td>\n",
       "      <td>30741</td>\n",
       "    </tr>\n",
       "  </tbody>\n",
       "</table>\n",
       "<p>1140 rows × 3 columns</p>\n",
       "</div>"
      ],
      "text/plain": [
       "      hora muestra ID_aleatorio\n",
       "0        6       0        14715\n",
       "1        7       0        20022\n",
       "2        8       0        13774\n",
       "3        9       0        13258\n",
       "4       10       0        11188\n",
       "...    ...     ...          ...\n",
       "1135    16      75        31726\n",
       "1136    17      75        20762\n",
       "1137    18      75        13445\n",
       "1138    19      75        47804\n",
       "1139    20      75        30741\n",
       "\n",
       "[1140 rows x 3 columns]"
      ]
     },
     "execution_count": 88,
     "metadata": {},
     "output_type": "execute_result"
    }
   ],
   "source": [
    "final_aleatorio.rename(columns={'ID':'ID_aleatorio'})"
   ]
  },
  {
   "cell_type": "code",
   "execution_count": 89,
   "id": "fa64369c",
   "metadata": {},
   "outputs": [],
   "source": [
    "DataTotal_validacion=DataTotal_validacion.merge(final_aleatorio.rename(columns={'ID':'ID_aleatorio'}), left_on=['HORA','ID'], right_on=['hora','ID_aleatorio'],how='left')"
   ]
  },
  {
   "cell_type": "code",
   "execution_count": 90,
   "id": "cece0aa5",
   "metadata": {},
   "outputs": [],
   "source": [
    "DataTotal_validacion=DataTotal_validacion.merge(final_fds.rename(columns={'ID':'ID_fds'}), left_on=['HORA','ID'], right_on=['HORA','ID_fds'],how='left')"
   ]
  },
  {
   "cell_type": "code",
   "execution_count": 91,
   "id": "201cc468",
   "metadata": {},
   "outputs": [],
   "source": [
    "DataTotal_validacion=DataTotal_validacion.merge(final_hab.rename(columns={'ID':'ID_hab'}), left_on=['HORA','ID'], right_on=['HORA','ID_hab'],how='left')"
   ]
  },
  {
   "cell_type": "code",
   "execution_count": 92,
   "id": "baf78c10",
   "metadata": {},
   "outputs": [
    {
     "data": {
      "text/html": [
       "<div>\n",
       "<style scoped>\n",
       "    .dataframe tbody tr th:only-of-type {\n",
       "        vertical-align: middle;\n",
       "    }\n",
       "\n",
       "    .dataframe tbody tr th {\n",
       "        vertical-align: top;\n",
       "    }\n",
       "\n",
       "    .dataframe thead th {\n",
       "        text-align: right;\n",
       "    }\n",
       "</style>\n",
       "<table border=\"1\" class=\"dataframe\">\n",
       "  <thead>\n",
       "    <tr style=\"text-align: right;\">\n",
       "      <th></th>\n",
       "      <th>ID</th>\n",
       "      <th>BANDA_x</th>\n",
       "      <th>SUBIDA_LIM</th>\n",
       "      <th>BAJADA_LIM</th>\n",
       "      <th>FECHA</th>\n",
       "      <th>HORA</th>\n",
       "      <th>CONDICION</th>\n",
       "      <th>VELOCIDAD_BAJADA</th>\n",
       "      <th>VELOCIDAD_SUBIDA</th>\n",
       "      <th>CUMPLE_BANDA</th>\n",
       "      <th>...</th>\n",
       "      <th>BASE</th>\n",
       "      <th>DIA_S</th>\n",
       "      <th>FILTRO</th>\n",
       "      <th>hora</th>\n",
       "      <th>muestra</th>\n",
       "      <th>ID_aleatorio</th>\n",
       "      <th>ID_fds</th>\n",
       "      <th>BANDA_y</th>\n",
       "      <th>ID_hab</th>\n",
       "      <th>BANDA</th>\n",
       "    </tr>\n",
       "  </thead>\n",
       "  <tbody>\n",
       "    <tr>\n",
       "      <th>9</th>\n",
       "      <td>10835</td>\n",
       "      <td>DL:18.00Mb-UL:4.50Mb</td>\n",
       "      <td>4500</td>\n",
       "      <td>18000</td>\n",
       "      <td>2021-11-05</td>\n",
       "      <td>11</td>\n",
       "      <td>E</td>\n",
       "      <td>15642.22</td>\n",
       "      <td>2391.37</td>\n",
       "      <td>NO</td>\n",
       "      <td>...</td>\n",
       "      <td>principal</td>\n",
       "      <td>4</td>\n",
       "      <td>hab</td>\n",
       "      <td>NaN</td>\n",
       "      <td>NaN</td>\n",
       "      <td>NaN</td>\n",
       "      <td>NaN</td>\n",
       "      <td>NaN</td>\n",
       "      <td>10835</td>\n",
       "      <td>DL:18.00Mb-UL:4.50Mb</td>\n",
       "    </tr>\n",
       "    <tr>\n",
       "      <th>37</th>\n",
       "      <td>10835</td>\n",
       "      <td>DL:18.00Mb-UL:4.50Mb</td>\n",
       "      <td>4500</td>\n",
       "      <td>18000</td>\n",
       "      <td>2021-12-04</td>\n",
       "      <td>11</td>\n",
       "      <td>E</td>\n",
       "      <td>15843.65</td>\n",
       "      <td>2802.53</td>\n",
       "      <td>NO</td>\n",
       "      <td>...</td>\n",
       "      <td>principal</td>\n",
       "      <td>5</td>\n",
       "      <td>fds</td>\n",
       "      <td>NaN</td>\n",
       "      <td>NaN</td>\n",
       "      <td>NaN</td>\n",
       "      <td>NaN</td>\n",
       "      <td>NaN</td>\n",
       "      <td>10835</td>\n",
       "      <td>DL:18.00Mb-UL:4.50Mb</td>\n",
       "    </tr>\n",
       "    <tr>\n",
       "      <th>38</th>\n",
       "      <td>10835</td>\n",
       "      <td>DL:18.00Mb-UL:4.50Mb</td>\n",
       "      <td>4500</td>\n",
       "      <td>18000</td>\n",
       "      <td>2021-12-05</td>\n",
       "      <td>11</td>\n",
       "      <td>E</td>\n",
       "      <td>16082.88</td>\n",
       "      <td>3758.71</td>\n",
       "      <td>NO</td>\n",
       "      <td>...</td>\n",
       "      <td>principal</td>\n",
       "      <td>6</td>\n",
       "      <td>fds</td>\n",
       "      <td>NaN</td>\n",
       "      <td>NaN</td>\n",
       "      <td>NaN</td>\n",
       "      <td>NaN</td>\n",
       "      <td>NaN</td>\n",
       "      <td>10835</td>\n",
       "      <td>DL:18.00Mb-UL:4.50Mb</td>\n",
       "    </tr>\n",
       "    <tr>\n",
       "      <th>49</th>\n",
       "      <td>10835</td>\n",
       "      <td>DL:18.00Mb-UL:4.50Mb</td>\n",
       "      <td>4500</td>\n",
       "      <td>18000</td>\n",
       "      <td>2021-12-15</td>\n",
       "      <td>11</td>\n",
       "      <td>F</td>\n",
       "      <td>-1.00</td>\n",
       "      <td>-1.00</td>\n",
       "      <td>NO</td>\n",
       "      <td>...</td>\n",
       "      <td>principal</td>\n",
       "      <td>2</td>\n",
       "      <td>hab</td>\n",
       "      <td>NaN</td>\n",
       "      <td>NaN</td>\n",
       "      <td>NaN</td>\n",
       "      <td>NaN</td>\n",
       "      <td>NaN</td>\n",
       "      <td>10835</td>\n",
       "      <td>DL:18.00Mb-UL:4.50Mb</td>\n",
       "    </tr>\n",
       "    <tr>\n",
       "      <th>65</th>\n",
       "      <td>10835</td>\n",
       "      <td>DL:18.00Mb-UL:4.50Mb</td>\n",
       "      <td>4500</td>\n",
       "      <td>18000</td>\n",
       "      <td>2021-11-24</td>\n",
       "      <td>11</td>\n",
       "      <td>E</td>\n",
       "      <td>15703.72</td>\n",
       "      <td>3614.81</td>\n",
       "      <td>NO</td>\n",
       "      <td>...</td>\n",
       "      <td>adicional</td>\n",
       "      <td>2</td>\n",
       "      <td>hab</td>\n",
       "      <td>NaN</td>\n",
       "      <td>NaN</td>\n",
       "      <td>NaN</td>\n",
       "      <td>NaN</td>\n",
       "      <td>NaN</td>\n",
       "      <td>10835</td>\n",
       "      <td>DL:18.00Mb-UL:4.50Mb</td>\n",
       "    </tr>\n",
       "    <tr>\n",
       "      <th>...</th>\n",
       "      <td>...</td>\n",
       "      <td>...</td>\n",
       "      <td>...</td>\n",
       "      <td>...</td>\n",
       "      <td>...</td>\n",
       "      <td>...</td>\n",
       "      <td>...</td>\n",
       "      <td>...</td>\n",
       "      <td>...</td>\n",
       "      <td>...</td>\n",
       "      <td>...</td>\n",
       "      <td>...</td>\n",
       "      <td>...</td>\n",
       "      <td>...</td>\n",
       "      <td>...</td>\n",
       "      <td>...</td>\n",
       "      <td>...</td>\n",
       "      <td>...</td>\n",
       "      <td>...</td>\n",
       "      <td>...</td>\n",
       "      <td>...</td>\n",
       "    </tr>\n",
       "    <tr>\n",
       "      <th>211117</th>\n",
       "      <td>74367</td>\n",
       "      <td>DL:12.00Mb-UL:3.00Mb</td>\n",
       "      <td>3000</td>\n",
       "      <td>12000</td>\n",
       "      <td>2021-12-12</td>\n",
       "      <td>10</td>\n",
       "      <td>E</td>\n",
       "      <td>16462.95</td>\n",
       "      <td>7725.01</td>\n",
       "      <td>SI</td>\n",
       "      <td>...</td>\n",
       "      <td>adicional</td>\n",
       "      <td>6</td>\n",
       "      <td>fds</td>\n",
       "      <td>NaN</td>\n",
       "      <td>NaN</td>\n",
       "      <td>NaN</td>\n",
       "      <td>NaN</td>\n",
       "      <td>NaN</td>\n",
       "      <td>74367</td>\n",
       "      <td>DL:12.00Mb-UL:3.00Mb</td>\n",
       "    </tr>\n",
       "    <tr>\n",
       "      <th>211125</th>\n",
       "      <td>74367</td>\n",
       "      <td>DL:12.00Mb-UL:3.00Mb</td>\n",
       "      <td>3000</td>\n",
       "      <td>12000</td>\n",
       "      <td>2021-12-13</td>\n",
       "      <td>10</td>\n",
       "      <td>E</td>\n",
       "      <td>16110.40</td>\n",
       "      <td>7646.35</td>\n",
       "      <td>SI</td>\n",
       "      <td>...</td>\n",
       "      <td>adicional</td>\n",
       "      <td>0</td>\n",
       "      <td>hab</td>\n",
       "      <td>NaN</td>\n",
       "      <td>NaN</td>\n",
       "      <td>NaN</td>\n",
       "      <td>NaN</td>\n",
       "      <td>NaN</td>\n",
       "      <td>74367</td>\n",
       "      <td>DL:12.00Mb-UL:3.00Mb</td>\n",
       "    </tr>\n",
       "    <tr>\n",
       "      <th>211140</th>\n",
       "      <td>74367</td>\n",
       "      <td>DL:12.00Mb-UL:3.00Mb</td>\n",
       "      <td>3000</td>\n",
       "      <td>12000</td>\n",
       "      <td>2021-12-15</td>\n",
       "      <td>10</td>\n",
       "      <td>E</td>\n",
       "      <td>16377.70</td>\n",
       "      <td>7696.12</td>\n",
       "      <td>SI</td>\n",
       "      <td>...</td>\n",
       "      <td>adicional</td>\n",
       "      <td>2</td>\n",
       "      <td>hab</td>\n",
       "      <td>NaN</td>\n",
       "      <td>NaN</td>\n",
       "      <td>NaN</td>\n",
       "      <td>NaN</td>\n",
       "      <td>NaN</td>\n",
       "      <td>74367</td>\n",
       "      <td>DL:12.00Mb-UL:3.00Mb</td>\n",
       "    </tr>\n",
       "    <tr>\n",
       "      <th>211155</th>\n",
       "      <td>74367</td>\n",
       "      <td>DL:12.00Mb-UL:3.00Mb</td>\n",
       "      <td>3000</td>\n",
       "      <td>12000</td>\n",
       "      <td>2021-12-17</td>\n",
       "      <td>10</td>\n",
       "      <td>E</td>\n",
       "      <td>16399.90</td>\n",
       "      <td>7600.70</td>\n",
       "      <td>SI</td>\n",
       "      <td>...</td>\n",
       "      <td>adicional</td>\n",
       "      <td>4</td>\n",
       "      <td>hab</td>\n",
       "      <td>NaN</td>\n",
       "      <td>NaN</td>\n",
       "      <td>NaN</td>\n",
       "      <td>NaN</td>\n",
       "      <td>NaN</td>\n",
       "      <td>74367</td>\n",
       "      <td>DL:12.00Mb-UL:3.00Mb</td>\n",
       "    </tr>\n",
       "    <tr>\n",
       "      <th>211166</th>\n",
       "      <td>74367</td>\n",
       "      <td>DL:12.00Mb-UL:3.00Mb</td>\n",
       "      <td>3000</td>\n",
       "      <td>12000</td>\n",
       "      <td>2021-12-19</td>\n",
       "      <td>10</td>\n",
       "      <td>F</td>\n",
       "      <td>-1.00</td>\n",
       "      <td>-1.00</td>\n",
       "      <td>NO</td>\n",
       "      <td>...</td>\n",
       "      <td>adicional</td>\n",
       "      <td>6</td>\n",
       "      <td>fds</td>\n",
       "      <td>NaN</td>\n",
       "      <td>NaN</td>\n",
       "      <td>NaN</td>\n",
       "      <td>NaN</td>\n",
       "      <td>NaN</td>\n",
       "      <td>74367</td>\n",
       "      <td>DL:12.00Mb-UL:3.00Mb</td>\n",
       "    </tr>\n",
       "  </tbody>\n",
       "</table>\n",
       "<p>24825 rows × 22 columns</p>\n",
       "</div>"
      ],
      "text/plain": [
       "           ID               BANDA_x  SUBIDA_LIM  BAJADA_LIM      FECHA  HORA  \\\n",
       "9       10835  DL:18.00Mb-UL:4.50Mb        4500       18000 2021-11-05    11   \n",
       "37      10835  DL:18.00Mb-UL:4.50Mb        4500       18000 2021-12-04    11   \n",
       "38      10835  DL:18.00Mb-UL:4.50Mb        4500       18000 2021-12-05    11   \n",
       "49      10835  DL:18.00Mb-UL:4.50Mb        4500       18000 2021-12-15    11   \n",
       "65      10835  DL:18.00Mb-UL:4.50Mb        4500       18000 2021-11-24    11   \n",
       "...       ...                   ...         ...         ...        ...   ...   \n",
       "211117  74367  DL:12.00Mb-UL:3.00Mb        3000       12000 2021-12-12    10   \n",
       "211125  74367  DL:12.00Mb-UL:3.00Mb        3000       12000 2021-12-13    10   \n",
       "211140  74367  DL:12.00Mb-UL:3.00Mb        3000       12000 2021-12-15    10   \n",
       "211155  74367  DL:12.00Mb-UL:3.00Mb        3000       12000 2021-12-17    10   \n",
       "211166  74367  DL:12.00Mb-UL:3.00Mb        3000       12000 2021-12-19    10   \n",
       "\n",
       "       CONDICION  VELOCIDAD_BAJADA  VELOCIDAD_SUBIDA CUMPLE_BANDA  ...  \\\n",
       "9              E          15642.22           2391.37           NO  ...   \n",
       "37             E          15843.65           2802.53           NO  ...   \n",
       "38             E          16082.88           3758.71           NO  ...   \n",
       "49             F             -1.00             -1.00           NO  ...   \n",
       "65             E          15703.72           3614.81           NO  ...   \n",
       "...          ...               ...               ...          ...  ...   \n",
       "211117         E          16462.95           7725.01           SI  ...   \n",
       "211125         E          16110.40           7646.35           SI  ...   \n",
       "211140         E          16377.70           7696.12           SI  ...   \n",
       "211155         E          16399.90           7600.70           SI  ...   \n",
       "211166         F             -1.00             -1.00           NO  ...   \n",
       "\n",
       "             BASE DIA_S FILTRO  hora muestra  ID_aleatorio ID_fds BANDA_y  \\\n",
       "9       principal     4    hab   NaN     NaN           NaN    NaN     NaN   \n",
       "37      principal     5    fds   NaN     NaN           NaN    NaN     NaN   \n",
       "38      principal     6    fds   NaN     NaN           NaN    NaN     NaN   \n",
       "49      principal     2    hab   NaN     NaN           NaN    NaN     NaN   \n",
       "65      adicional     2    hab   NaN     NaN           NaN    NaN     NaN   \n",
       "...           ...   ...    ...   ...     ...           ...    ...     ...   \n",
       "211117  adicional     6    fds   NaN     NaN           NaN    NaN     NaN   \n",
       "211125  adicional     0    hab   NaN     NaN           NaN    NaN     NaN   \n",
       "211140  adicional     2    hab   NaN     NaN           NaN    NaN     NaN   \n",
       "211155  adicional     4    hab   NaN     NaN           NaN    NaN     NaN   \n",
       "211166  adicional     6    fds   NaN     NaN           NaN    NaN     NaN   \n",
       "\n",
       "       ID_hab                 BANDA  \n",
       "9       10835  DL:18.00Mb-UL:4.50Mb  \n",
       "37      10835  DL:18.00Mb-UL:4.50Mb  \n",
       "38      10835  DL:18.00Mb-UL:4.50Mb  \n",
       "49      10835  DL:18.00Mb-UL:4.50Mb  \n",
       "65      10835  DL:18.00Mb-UL:4.50Mb  \n",
       "...       ...                   ...  \n",
       "211117  74367  DL:12.00Mb-UL:3.00Mb  \n",
       "211125  74367  DL:12.00Mb-UL:3.00Mb  \n",
       "211140  74367  DL:12.00Mb-UL:3.00Mb  \n",
       "211155  74367  DL:12.00Mb-UL:3.00Mb  \n",
       "211166  74367  DL:12.00Mb-UL:3.00Mb  \n",
       "\n",
       "[24825 rows x 22 columns]"
      ]
     },
     "execution_count": 92,
     "metadata": {},
     "output_type": "execute_result"
    }
   ],
   "source": [
    "DataTotal_validacion[DataTotal_validacion['ID_hab'].notnull()]"
   ]
  },
  {
   "cell_type": "code",
   "execution_count": 93,
   "id": "e006284d",
   "metadata": {},
   "outputs": [],
   "source": [
    "DataTotal_validacion['ID_analitica']=np.where(DataTotal_validacion['FILTRO']=='hab',DataTotal_validacion['ID_hab'],DataTotal_validacion['ID_fds'])"
   ]
  },
  {
   "cell_type": "markdown",
   "id": "99d04b6c",
   "metadata": {},
   "source": [
    "### Resumen indicadores\n",
    "*  No se paga por esta medida"
   ]
  },
  {
   "cell_type": "code",
   "execution_count": 94,
   "id": "20013ac3",
   "metadata": {},
   "outputs": [],
   "source": [
    "Resultados_aleatorio=DataTotal_validacion[(DataTotal_validacion['ID_aleatorio'].notnull())]"
   ]
  },
  {
   "cell_type": "code",
   "execution_count": 95,
   "id": "4d28def9",
   "metadata": {},
   "outputs": [],
   "source": [
    "Resultados_analitica=DataTotal_validacion[(DataTotal_validacion['ID_analitica'].notnull())]"
   ]
  },
  {
   "cell_type": "code",
   "execution_count": 96,
   "id": "28cbb0da",
   "metadata": {},
   "outputs": [
    {
     "data": {
      "text/plain": [
       "758"
      ]
     },
     "execution_count": 96,
     "metadata": {},
     "output_type": "execute_result"
    }
   ],
   "source": [
    "Resultados_aleatorio['ID_aleatorio'].nunique()"
   ]
  },
  {
   "cell_type": "code",
   "execution_count": 97,
   "id": "55e9df7b",
   "metadata": {},
   "outputs": [
    {
     "data": {
      "text/html": [
       "<div>\n",
       "<style scoped>\n",
       "    .dataframe tbody tr th:only-of-type {\n",
       "        vertical-align: middle;\n",
       "    }\n",
       "\n",
       "    .dataframe tbody tr th {\n",
       "        vertical-align: top;\n",
       "    }\n",
       "\n",
       "    .dataframe thead th {\n",
       "        text-align: right;\n",
       "    }\n",
       "</style>\n",
       "<table border=\"1\" class=\"dataframe\">\n",
       "  <thead>\n",
       "    <tr style=\"text-align: right;\">\n",
       "      <th></th>\n",
       "      <th>ID</th>\n",
       "      <th>BANDA_x</th>\n",
       "      <th>SUBIDA_LIM</th>\n",
       "      <th>BAJADA_LIM</th>\n",
       "      <th>FECHA</th>\n",
       "      <th>HORA</th>\n",
       "      <th>CONDICION</th>\n",
       "      <th>VELOCIDAD_BAJADA</th>\n",
       "      <th>VELOCIDAD_SUBIDA</th>\n",
       "      <th>CUMPLE_BANDA</th>\n",
       "      <th>...</th>\n",
       "      <th>DIA_S</th>\n",
       "      <th>FILTRO</th>\n",
       "      <th>hora</th>\n",
       "      <th>muestra</th>\n",
       "      <th>ID_aleatorio</th>\n",
       "      <th>ID_fds</th>\n",
       "      <th>BANDA_y</th>\n",
       "      <th>ID_hab</th>\n",
       "      <th>BANDA</th>\n",
       "      <th>ID_analitica</th>\n",
       "    </tr>\n",
       "  </thead>\n",
       "  <tbody>\n",
       "    <tr>\n",
       "      <th>47</th>\n",
       "      <td>10835</td>\n",
       "      <td>DL:18.00Mb-UL:4.50Mb</td>\n",
       "      <td>4500</td>\n",
       "      <td>18000</td>\n",
       "      <td>2021-12-13</td>\n",
       "      <td>13</td>\n",
       "      <td>F</td>\n",
       "      <td>-1.00</td>\n",
       "      <td>-1.00</td>\n",
       "      <td>NO</td>\n",
       "      <td>...</td>\n",
       "      <td>0</td>\n",
       "      <td>hab</td>\n",
       "      <td>13.0</td>\n",
       "      <td>0</td>\n",
       "      <td>10835</td>\n",
       "      <td>NaN</td>\n",
       "      <td>NaN</td>\n",
       "      <td>NaN</td>\n",
       "      <td>NaN</td>\n",
       "      <td>NaN</td>\n",
       "    </tr>\n",
       "    <tr>\n",
       "      <th>51</th>\n",
       "      <td>10835</td>\n",
       "      <td>DL:18.00Mb-UL:4.50Mb</td>\n",
       "      <td>4500</td>\n",
       "      <td>18000</td>\n",
       "      <td>2021-12-17</td>\n",
       "      <td>13</td>\n",
       "      <td>F</td>\n",
       "      <td>-1.00</td>\n",
       "      <td>-1.00</td>\n",
       "      <td>NO</td>\n",
       "      <td>...</td>\n",
       "      <td>4</td>\n",
       "      <td>hab</td>\n",
       "      <td>13.0</td>\n",
       "      <td>0</td>\n",
       "      <td>10835</td>\n",
       "      <td>NaN</td>\n",
       "      <td>NaN</td>\n",
       "      <td>NaN</td>\n",
       "      <td>NaN</td>\n",
       "      <td>NaN</td>\n",
       "    </tr>\n",
       "    <tr>\n",
       "      <th>66</th>\n",
       "      <td>10835</td>\n",
       "      <td>DL:18.00Mb-UL:4.50Mb</td>\n",
       "      <td>4500</td>\n",
       "      <td>18000</td>\n",
       "      <td>2021-11-24</td>\n",
       "      <td>13</td>\n",
       "      <td>E</td>\n",
       "      <td>15958.25</td>\n",
       "      <td>3199.28</td>\n",
       "      <td>NO</td>\n",
       "      <td>...</td>\n",
       "      <td>2</td>\n",
       "      <td>hab</td>\n",
       "      <td>13.0</td>\n",
       "      <td>0</td>\n",
       "      <td>10835</td>\n",
       "      <td>NaN</td>\n",
       "      <td>NaN</td>\n",
       "      <td>NaN</td>\n",
       "      <td>NaN</td>\n",
       "      <td>NaN</td>\n",
       "    </tr>\n",
       "    <tr>\n",
       "      <th>73</th>\n",
       "      <td>10835</td>\n",
       "      <td>DL:18.00Mb-UL:4.50Mb</td>\n",
       "      <td>4500</td>\n",
       "      <td>18000</td>\n",
       "      <td>2021-11-25</td>\n",
       "      <td>13</td>\n",
       "      <td>E</td>\n",
       "      <td>15765.46</td>\n",
       "      <td>3358.59</td>\n",
       "      <td>NO</td>\n",
       "      <td>...</td>\n",
       "      <td>3</td>\n",
       "      <td>hab</td>\n",
       "      <td>13.0</td>\n",
       "      <td>0</td>\n",
       "      <td>10835</td>\n",
       "      <td>NaN</td>\n",
       "      <td>NaN</td>\n",
       "      <td>NaN</td>\n",
       "      <td>NaN</td>\n",
       "      <td>NaN</td>\n",
       "    </tr>\n",
       "    <tr>\n",
       "      <th>88</th>\n",
       "      <td>10835</td>\n",
       "      <td>DL:18.00Mb-UL:4.50Mb</td>\n",
       "      <td>4500</td>\n",
       "      <td>18000</td>\n",
       "      <td>2021-11-27</td>\n",
       "      <td>13</td>\n",
       "      <td>E</td>\n",
       "      <td>16093.66</td>\n",
       "      <td>3246.50</td>\n",
       "      <td>NO</td>\n",
       "      <td>...</td>\n",
       "      <td>5</td>\n",
       "      <td>fds</td>\n",
       "      <td>13.0</td>\n",
       "      <td>0</td>\n",
       "      <td>10835</td>\n",
       "      <td>NaN</td>\n",
       "      <td>NaN</td>\n",
       "      <td>NaN</td>\n",
       "      <td>NaN</td>\n",
       "      <td>NaN</td>\n",
       "    </tr>\n",
       "    <tr>\n",
       "      <th>...</th>\n",
       "      <td>...</td>\n",
       "      <td>...</td>\n",
       "      <td>...</td>\n",
       "      <td>...</td>\n",
       "      <td>...</td>\n",
       "      <td>...</td>\n",
       "      <td>...</td>\n",
       "      <td>...</td>\n",
       "      <td>...</td>\n",
       "      <td>...</td>\n",
       "      <td>...</td>\n",
       "      <td>...</td>\n",
       "      <td>...</td>\n",
       "      <td>...</td>\n",
       "      <td>...</td>\n",
       "      <td>...</td>\n",
       "      <td>...</td>\n",
       "      <td>...</td>\n",
       "      <td>...</td>\n",
       "      <td>...</td>\n",
       "      <td>...</td>\n",
       "    </tr>\n",
       "    <tr>\n",
       "      <th>211083</th>\n",
       "      <td>74367</td>\n",
       "      <td>DL:12.00Mb-UL:3.00Mb</td>\n",
       "      <td>3000</td>\n",
       "      <td>12000</td>\n",
       "      <td>2021-12-07</td>\n",
       "      <td>15</td>\n",
       "      <td>E</td>\n",
       "      <td>16275.28</td>\n",
       "      <td>7521.46</td>\n",
       "      <td>SI</td>\n",
       "      <td>...</td>\n",
       "      <td>1</td>\n",
       "      <td>hab</td>\n",
       "      <td>15.0</td>\n",
       "      <td>49</td>\n",
       "      <td>74367</td>\n",
       "      <td>74367</td>\n",
       "      <td>DL:12.00Mb-UL:3.00Mb</td>\n",
       "      <td>NaN</td>\n",
       "      <td>NaN</td>\n",
       "      <td>NaN</td>\n",
       "    </tr>\n",
       "    <tr>\n",
       "      <th>211098</th>\n",
       "      <td>74367</td>\n",
       "      <td>DL:12.00Mb-UL:3.00Mb</td>\n",
       "      <td>3000</td>\n",
       "      <td>12000</td>\n",
       "      <td>2021-12-09</td>\n",
       "      <td>15</td>\n",
       "      <td>E</td>\n",
       "      <td>16338.16</td>\n",
       "      <td>7717.44</td>\n",
       "      <td>SI</td>\n",
       "      <td>...</td>\n",
       "      <td>3</td>\n",
       "      <td>hab</td>\n",
       "      <td>15.0</td>\n",
       "      <td>49</td>\n",
       "      <td>74367</td>\n",
       "      <td>74367</td>\n",
       "      <td>DL:12.00Mb-UL:3.00Mb</td>\n",
       "      <td>NaN</td>\n",
       "      <td>NaN</td>\n",
       "      <td>NaN</td>\n",
       "    </tr>\n",
       "    <tr>\n",
       "      <th>211112</th>\n",
       "      <td>74367</td>\n",
       "      <td>DL:12.00Mb-UL:3.00Mb</td>\n",
       "      <td>3000</td>\n",
       "      <td>12000</td>\n",
       "      <td>2021-12-11</td>\n",
       "      <td>15</td>\n",
       "      <td>E</td>\n",
       "      <td>16452.24</td>\n",
       "      <td>7656.38</td>\n",
       "      <td>SI</td>\n",
       "      <td>...</td>\n",
       "      <td>5</td>\n",
       "      <td>fds</td>\n",
       "      <td>15.0</td>\n",
       "      <td>49</td>\n",
       "      <td>74367</td>\n",
       "      <td>74367</td>\n",
       "      <td>DL:12.00Mb-UL:3.00Mb</td>\n",
       "      <td>NaN</td>\n",
       "      <td>NaN</td>\n",
       "      <td>74367</td>\n",
       "    </tr>\n",
       "    <tr>\n",
       "      <th>211135</th>\n",
       "      <td>74367</td>\n",
       "      <td>DL:12.00Mb-UL:3.00Mb</td>\n",
       "      <td>3000</td>\n",
       "      <td>12000</td>\n",
       "      <td>2021-12-14</td>\n",
       "      <td>15</td>\n",
       "      <td>E</td>\n",
       "      <td>16401.85</td>\n",
       "      <td>7708.63</td>\n",
       "      <td>SI</td>\n",
       "      <td>...</td>\n",
       "      <td>1</td>\n",
       "      <td>hab</td>\n",
       "      <td>15.0</td>\n",
       "      <td>49</td>\n",
       "      <td>74367</td>\n",
       "      <td>74367</td>\n",
       "      <td>DL:12.00Mb-UL:3.00Mb</td>\n",
       "      <td>NaN</td>\n",
       "      <td>NaN</td>\n",
       "      <td>NaN</td>\n",
       "    </tr>\n",
       "    <tr>\n",
       "      <th>211150</th>\n",
       "      <td>74367</td>\n",
       "      <td>DL:12.00Mb-UL:3.00Mb</td>\n",
       "      <td>3000</td>\n",
       "      <td>12000</td>\n",
       "      <td>2021-12-16</td>\n",
       "      <td>15</td>\n",
       "      <td>E</td>\n",
       "      <td>16403.04</td>\n",
       "      <td>7697.22</td>\n",
       "      <td>SI</td>\n",
       "      <td>...</td>\n",
       "      <td>3</td>\n",
       "      <td>hab</td>\n",
       "      <td>15.0</td>\n",
       "      <td>49</td>\n",
       "      <td>74367</td>\n",
       "      <td>74367</td>\n",
       "      <td>DL:12.00Mb-UL:3.00Mb</td>\n",
       "      <td>NaN</td>\n",
       "      <td>NaN</td>\n",
       "      <td>NaN</td>\n",
       "    </tr>\n",
       "  </tbody>\n",
       "</table>\n",
       "<p>21088 rows × 23 columns</p>\n",
       "</div>"
      ],
      "text/plain": [
       "           ID               BANDA_x  SUBIDA_LIM  BAJADA_LIM      FECHA  HORA  \\\n",
       "47      10835  DL:18.00Mb-UL:4.50Mb        4500       18000 2021-12-13    13   \n",
       "51      10835  DL:18.00Mb-UL:4.50Mb        4500       18000 2021-12-17    13   \n",
       "66      10835  DL:18.00Mb-UL:4.50Mb        4500       18000 2021-11-24    13   \n",
       "73      10835  DL:18.00Mb-UL:4.50Mb        4500       18000 2021-11-25    13   \n",
       "88      10835  DL:18.00Mb-UL:4.50Mb        4500       18000 2021-11-27    13   \n",
       "...       ...                   ...         ...         ...        ...   ...   \n",
       "211083  74367  DL:12.00Mb-UL:3.00Mb        3000       12000 2021-12-07    15   \n",
       "211098  74367  DL:12.00Mb-UL:3.00Mb        3000       12000 2021-12-09    15   \n",
       "211112  74367  DL:12.00Mb-UL:3.00Mb        3000       12000 2021-12-11    15   \n",
       "211135  74367  DL:12.00Mb-UL:3.00Mb        3000       12000 2021-12-14    15   \n",
       "211150  74367  DL:12.00Mb-UL:3.00Mb        3000       12000 2021-12-16    15   \n",
       "\n",
       "       CONDICION  VELOCIDAD_BAJADA  VELOCIDAD_SUBIDA CUMPLE_BANDA  ... DIA_S  \\\n",
       "47             F             -1.00             -1.00           NO  ...     0   \n",
       "51             F             -1.00             -1.00           NO  ...     4   \n",
       "66             E          15958.25           3199.28           NO  ...     2   \n",
       "73             E          15765.46           3358.59           NO  ...     3   \n",
       "88             E          16093.66           3246.50           NO  ...     5   \n",
       "...          ...               ...               ...          ...  ...   ...   \n",
       "211083         E          16275.28           7521.46           SI  ...     1   \n",
       "211098         E          16338.16           7717.44           SI  ...     3   \n",
       "211112         E          16452.24           7656.38           SI  ...     5   \n",
       "211135         E          16401.85           7708.63           SI  ...     1   \n",
       "211150         E          16403.04           7697.22           SI  ...     3   \n",
       "\n",
       "       FILTRO  hora  muestra ID_aleatorio  ID_fds               BANDA_y  \\\n",
       "47        hab  13.0        0        10835     NaN                   NaN   \n",
       "51        hab  13.0        0        10835     NaN                   NaN   \n",
       "66        hab  13.0        0        10835     NaN                   NaN   \n",
       "73        hab  13.0        0        10835     NaN                   NaN   \n",
       "88        fds  13.0        0        10835     NaN                   NaN   \n",
       "...       ...   ...      ...          ...     ...                   ...   \n",
       "211083    hab  15.0       49        74367   74367  DL:12.00Mb-UL:3.00Mb   \n",
       "211098    hab  15.0       49        74367   74367  DL:12.00Mb-UL:3.00Mb   \n",
       "211112    fds  15.0       49        74367   74367  DL:12.00Mb-UL:3.00Mb   \n",
       "211135    hab  15.0       49        74367   74367  DL:12.00Mb-UL:3.00Mb   \n",
       "211150    hab  15.0       49        74367   74367  DL:12.00Mb-UL:3.00Mb   \n",
       "\n",
       "       ID_hab BANDA ID_analitica  \n",
       "47        NaN   NaN          NaN  \n",
       "51        NaN   NaN          NaN  \n",
       "66        NaN   NaN          NaN  \n",
       "73        NaN   NaN          NaN  \n",
       "88        NaN   NaN          NaN  \n",
       "...       ...   ...          ...  \n",
       "211083    NaN   NaN          NaN  \n",
       "211098    NaN   NaN          NaN  \n",
       "211112    NaN   NaN        74367  \n",
       "211135    NaN   NaN          NaN  \n",
       "211150    NaN   NaN          NaN  \n",
       "\n",
       "[21088 rows x 23 columns]"
      ]
     },
     "execution_count": 97,
     "metadata": {},
     "output_type": "execute_result"
    }
   ],
   "source": [
    "Resultados_aleatorio"
   ]
  },
  {
   "cell_type": "code",
   "execution_count": 98,
   "id": "0ca2d47e",
   "metadata": {},
   "outputs": [
    {
     "data": {
      "text/plain": [
       "BANDA_x\n",
       "DL:12.00Mb-UL:3.00Mb    389\n",
       "DL:15.00Mb-UL:3.75Mb    199\n",
       "DL:18.00Mb-UL:4.50Mb    119\n",
       "DL:21.00Mb-UL:5.25Mb     51\n",
       "Name: ID, dtype: int64"
      ]
     },
     "execution_count": 98,
     "metadata": {},
     "output_type": "execute_result"
    }
   ],
   "source": [
    "Resultados_aleatorio.groupby('BANDA_x')['ID'].nunique()"
   ]
  },
  {
   "cell_type": "code",
   "execution_count": 99,
   "id": "56622006",
   "metadata": {},
   "outputs": [
    {
     "data": {
      "text/plain": [
       "758"
      ]
     },
     "execution_count": 99,
     "metadata": {},
     "output_type": "execute_result"
    }
   ],
   "source": [
    "Resultados_analitica['ID_analitica'].nunique()"
   ]
  },
  {
   "cell_type": "markdown",
   "id": "9aceb1ed",
   "metadata": {},
   "source": [
    "#### EXITO / FRACASO"
   ]
  },
  {
   "cell_type": "code",
   "execution_count": 100,
   "id": "a23d6614",
   "metadata": {},
   "outputs": [
    {
     "data": {
      "image/png": "[encoded data removed]",
      "text/plain": [
       "<Figure size 432x288 with 1 Axes>"
      ]
     },
     "metadata": {},
     "output_type": "display_data"
    }
   ],
   "source": [
    "if con_graficas:\n",
    "    pieChart(Resultados_aleatorio['CONDICION'])"
   ]
  },
  {
   "cell_type": "code",
   "execution_count": 101,
   "id": "e690c106",
   "metadata": {},
   "outputs": [
    {
     "data": {
      "image/png": "[encoded data removed]",
      "text/plain": [
       "<Figure size 432x288 with 1 Axes>"
      ]
     },
     "metadata": {},
     "output_type": "display_data"
    }
   ],
   "source": [
    "if con_graficas:\n",
    "    pieChart(Resultados_analitica['CONDICION'])"
   ]
  },
  {
   "cell_type": "markdown",
   "id": "3551205f",
   "metadata": {},
   "source": [
    "#### CUMPLE BANDA"
   ]
  },
  {
   "cell_type": "code",
   "execution_count": 102,
   "id": "d7c4a91f",
   "metadata": {},
   "outputs": [
    {
     "data": {
      "image/png": "[encoded data removed]",
      "text/plain": [
       "<Figure size 432x288 with 1 Axes>"
      ]
     },
     "metadata": {},
     "output_type": "display_data"
    }
   ],
   "source": [
    "if con_graficas:\n",
    "    pieChart(Resultados_aleatorio[Resultados_aleatorio['CONDICION']=='E']['CUMPLE_BANDA'])"
   ]
  },
  {
   "cell_type": "code",
   "execution_count": 103,
   "id": "e94bb321",
   "metadata": {},
   "outputs": [
    {
     "data": {
      "image/png": "[encoded data removed]",
      "text/plain": [
       "<Figure size 432x288 with 1 Axes>"
      ]
     },
     "metadata": {},
     "output_type": "display_data"
    }
   ],
   "source": [
    "if con_graficas:\n",
    "    pieChart(Resultados_analitica[Resultados_analitica['CONDICION']=='E']['CUMPLE_BANDA'])"
   ]
  },
  {
   "cell_type": "markdown",
   "id": "597748c6",
   "metadata": {},
   "source": [
    "### Subida"
   ]
  },
  {
   "cell_type": "code",
   "execution_count": 104,
   "id": "161e6dcb",
   "metadata": {},
   "outputs": [
    {
     "data": {
      "text/plain": [
       "SI    0.857368\n",
       "NO    0.142632\n",
       "Name: CUMPLE_SUBIDA, dtype: float64"
      ]
     },
     "execution_count": 104,
     "metadata": {},
     "output_type": "execute_result"
    }
   ],
   "source": [
    "Resultados_aleatorio[Resultados_aleatorio['CONDICION']=='E']['CUMPLE_SUBIDA'].value_counts()/len(Resultados_aleatorio[Resultados_aleatorio['CONDICION']=='E'])"
   ]
  },
  {
   "cell_type": "code",
   "execution_count": 105,
   "id": "19dcc464",
   "metadata": {},
   "outputs": [
    {
     "data": {
      "image/png": "[encoded data removed]",
      "text/plain": [
       "<Figure size 432x288 with 1 Axes>"
      ]
     },
     "metadata": {},
     "output_type": "display_data"
    }
   ],
   "source": [
    "if con_graficas:\n",
    "    pieChart(Resultados_aleatorio[Resultados_aleatorio['CONDICION']=='E']['CUMPLE_SUBIDA'])"
   ]
  },
  {
   "cell_type": "code",
   "execution_count": 106,
   "id": "167e42c4",
   "metadata": {},
   "outputs": [
    {
     "data": {
      "text/plain": [
       "SI    0.937453\n",
       "NO    0.062547\n",
       "Name: CUMPLE_SUBIDA, dtype: float64"
      ]
     },
     "execution_count": 106,
     "metadata": {},
     "output_type": "execute_result"
    }
   ],
   "source": [
    "Resultados_analitica[Resultados_analitica['CONDICION']=='E']['CUMPLE_SUBIDA'].value_counts()/len(Resultados_analitica[Resultados_analitica['CONDICION']=='E'])"
   ]
  },
  {
   "cell_type": "code",
   "execution_count": 107,
   "id": "42c5715e",
   "metadata": {},
   "outputs": [
    {
     "data": {
      "image/png": "[encoded data removed]",
      "text/plain": [
       "<Figure size 432x288 with 1 Axes>"
      ]
     },
     "metadata": {},
     "output_type": "display_data"
    }
   ],
   "source": [
    "if con_graficas:\n",
    "    pieChart(Resultados_analitica[Resultados_analitica['CONDICION']=='E']['CUMPLE_SUBIDA'])"
   ]
  },
  {
   "cell_type": "markdown",
   "id": "f312d8b8",
   "metadata": {},
   "source": [
    "## Bajada"
   ]
  },
  {
   "cell_type": "code",
   "execution_count": 108,
   "id": "49833506",
   "metadata": {},
   "outputs": [
    {
     "data": {
      "text/plain": [
       "SI    0.935024\n",
       "NO    0.064976\n",
       "Name: CUMPLE_BAJADA, dtype: float64"
      ]
     },
     "execution_count": 108,
     "metadata": {},
     "output_type": "execute_result"
    }
   ],
   "source": [
    "Resultados_aleatorio[Resultados_aleatorio['CONDICION']=='E']['CUMPLE_BAJADA'].value_counts()/len(Resultados_aleatorio[Resultados_aleatorio['CONDICION']=='E'])"
   ]
  },
  {
   "cell_type": "code",
   "execution_count": 109,
   "id": "86d26315",
   "metadata": {},
   "outputs": [
    {
     "data": {
      "image/png": "[encoded data removed]",
      "text/plain": [
       "<Figure size 432x288 with 1 Axes>"
      ]
     },
     "metadata": {},
     "output_type": "display_data"
    }
   ],
   "source": [
    "if con_graficas:\n",
    "    pieChart(Resultados_aleatorio[Resultados_aleatorio['CONDICION']=='E']['CUMPLE_BAJADA'])"
   ]
  },
  {
   "cell_type": "code",
   "execution_count": 110,
   "id": "0ab808da",
   "metadata": {},
   "outputs": [
    {
     "data": {
      "text/plain": [
       "SI    0.972025\n",
       "NO    0.027975\n",
       "Name: CUMPLE_BAJADA, dtype: float64"
      ]
     },
     "execution_count": 110,
     "metadata": {},
     "output_type": "execute_result"
    }
   ],
   "source": [
    "Resultados_analitica[Resultados_analitica['CONDICION']=='E']['CUMPLE_BAJADA'].value_counts()/len(Resultados_analitica[Resultados_analitica['CONDICION']=='E'])"
   ]
  },
  {
   "cell_type": "code",
   "execution_count": 111,
   "id": "3724739b",
   "metadata": {},
   "outputs": [
    {
     "data": {
      "image/png": "[encoded data removed]",
      "text/plain": [
       "<Figure size 432x288 with 1 Axes>"
      ]
     },
     "metadata": {},
     "output_type": "display_data"
    }
   ],
   "source": [
    "if con_graficas:\n",
    "    pieChart(Resultados_analitica[Resultados_analitica['CONDICION']=='E']['CUMPLE_BAJADA'])"
   ]
  },
  {
   "cell_type": "code",
   "execution_count": 112,
   "id": "7e9925b6",
   "metadata": {},
   "outputs": [
    {
     "data": {
      "text/plain": [
       "adicional    0.719082\n",
       "principal    0.280918\n",
       "Name: BASE, dtype: float64"
      ]
     },
     "execution_count": 112,
     "metadata": {},
     "output_type": "execute_result"
    }
   ],
   "source": [
    "Resultados_aleatorio['BASE'].value_counts()/len(Resultados_aleatorio)"
   ]
  },
  {
   "cell_type": "code",
   "execution_count": 113,
   "id": "37bd7104",
   "metadata": {},
   "outputs": [
    {
     "data": {
      "text/plain": [
       "adicional    0.584738\n",
       "principal    0.415262\n",
       "Name: BASE, dtype: float64"
      ]
     },
     "execution_count": 113,
     "metadata": {},
     "output_type": "execute_result"
    }
   ],
   "source": [
    "Resultados_analitica['BASE'].value_counts()/len(Resultados_analitica)"
   ]
  },
  {
   "cell_type": "markdown",
   "id": "21839b80",
   "metadata": {},
   "source": [
    "## Cumplimiento Franjas"
   ]
  },
  {
   "cell_type": "code",
   "execution_count": 114,
   "id": "414fc910",
   "metadata": {},
   "outputs": [
    {
     "data": {
      "text/html": [
       "<div>\n",
       "<style scoped>\n",
       "    .dataframe tbody tr th:only-of-type {\n",
       "        vertical-align: middle;\n",
       "    }\n",
       "\n",
       "    .dataframe tbody tr th {\n",
       "        vertical-align: top;\n",
       "    }\n",
       "\n",
       "    .dataframe thead th {\n",
       "        text-align: right;\n",
       "    }\n",
       "</style>\n",
       "<table border=\"1\" class=\"dataframe\">\n",
       "  <thead>\n",
       "    <tr style=\"text-align: right;\">\n",
       "      <th></th>\n",
       "      <th>Lim_bajada</th>\n",
       "      <th>Lim_subida</th>\n",
       "    </tr>\n",
       "  </thead>\n",
       "  <tbody>\n",
       "    <tr>\n",
       "      <th>DL:12.00Mb-UL:3.00Mb</th>\n",
       "      <td>12000</td>\n",
       "      <td>3000</td>\n",
       "    </tr>\n",
       "    <tr>\n",
       "      <th>DL:15.00Mb-UL:3.75Mb</th>\n",
       "      <td>15000</td>\n",
       "      <td>3750</td>\n",
       "    </tr>\n",
       "    <tr>\n",
       "      <th>DL:18.00Mb-UL:4.50Mb</th>\n",
       "      <td>18000</td>\n",
       "      <td>4500</td>\n",
       "    </tr>\n",
       "    <tr>\n",
       "      <th>DL:21.00Mb-UL:5.25Mb</th>\n",
       "      <td>21000</td>\n",
       "      <td>5250</td>\n",
       "    </tr>\n",
       "  </tbody>\n",
       "</table>\n",
       "</div>"
      ],
      "text/plain": [
       "                      Lim_bajada  Lim_subida\n",
       "DL:12.00Mb-UL:3.00Mb       12000        3000\n",
       "DL:15.00Mb-UL:3.75Mb       15000        3750\n",
       "DL:18.00Mb-UL:4.50Mb       18000        4500\n",
       "DL:21.00Mb-UL:5.25Mb       21000        5250"
      ]
     },
     "execution_count": 114,
     "metadata": {},
     "output_type": "execute_result"
    }
   ],
   "source": [
    "dic_cumplimiento={'DL:12.00Mb-UL:3.00Mb':[12000,3000],'DL:15.00Mb-UL:3.75Mb':[15000,3750],'DL:18.00Mb-UL:4.50Mb':[18000,4500],'DL:21.00Mb-UL:5.25Mb':[21000,5250]}\n",
    "dic_cumplimiento=pd.DataFrame.from_dict(dic_cumplimiento, orient='index')\n",
    "dic_cumplimiento.columns=['Lim_bajada','Lim_subida']\n",
    "dic_cumplimiento"
   ]
  },
  {
   "cell_type": "code",
   "execution_count": 115,
   "id": "a71fff8e",
   "metadata": {},
   "outputs": [
    {
     "data": {
      "text/plain": [
       "Index(['ID', 'BANDA_x', 'SUBIDA_LIM', 'BAJADA_LIM', 'FECHA', 'HORA',\n",
       "       'CONDICION', 'VELOCIDAD_BAJADA', 'VELOCIDAD_SUBIDA', 'CUMPLE_BANDA',\n",
       "       'CUMPLE_SUBIDA', 'CUMPLE_BAJADA', 'BASE', 'DIA_S', 'FILTRO', 'hora',\n",
       "       'muestra', 'ID_aleatorio', 'ID_fds', 'BANDA_y', 'ID_hab', 'BANDA',\n",
       "       'ID_analitica'],\n",
       "      dtype='object')"
      ]
     },
     "execution_count": 115,
     "metadata": {},
     "output_type": "execute_result"
    }
   ],
   "source": [
    "Resultados_aleatorio.columns"
   ]
  },
  {
   "cell_type": "code",
   "execution_count": 116,
   "id": "ea8e002c",
   "metadata": {},
   "outputs": [],
   "source": [
    "res_franjas_aleatorio=Resultados_aleatorio[Resultados_aleatorio['CONDICION']=='E'].groupby(['BANDA_x','HORA'])['VELOCIDAD_BAJADA','VELOCIDAD_SUBIDA'].quantile(0.05).reset_index()\n",
    "res_franjas_aleatorio=res_franjas_aleatorio.merge(dic_cumplimiento,left_on='BANDA_x', right_index=True, how='left')\n",
    "res_franjas_aleatorio['cump_bajada']=np.where(res_franjas_aleatorio['VELOCIDAD_BAJADA']>=res_franjas_aleatorio['Lim_bajada'],1,0)\n",
    "res_franjas_aleatorio['cump_subida']=np.where(res_franjas_aleatorio['VELOCIDAD_SUBIDA']>=res_franjas_aleatorio['Lim_subida'],1,0)"
   ]
  },
  {
   "cell_type": "code",
   "execution_count": 117,
   "id": "532cb069",
   "metadata": {},
   "outputs": [
    {
     "data": {
      "text/html": [
       "<div>\n",
       "<style scoped>\n",
       "    .dataframe tbody tr th:only-of-type {\n",
       "        vertical-align: middle;\n",
       "    }\n",
       "\n",
       "    .dataframe tbody tr th {\n",
       "        vertical-align: top;\n",
       "    }\n",
       "\n",
       "    .dataframe thead th {\n",
       "        text-align: right;\n",
       "    }\n",
       "</style>\n",
       "<table border=\"1\" class=\"dataframe\">\n",
       "  <thead>\n",
       "    <tr style=\"text-align: right;\">\n",
       "      <th></th>\n",
       "      <th>cump_bajada</th>\n",
       "      <th>cump_subida</th>\n",
       "    </tr>\n",
       "    <tr>\n",
       "      <th>BANDA_x</th>\n",
       "      <th></th>\n",
       "      <th></th>\n",
       "    </tr>\n",
       "  </thead>\n",
       "  <tbody>\n",
       "    <tr>\n",
       "      <th>DL:12.00Mb-UL:3.00Mb</th>\n",
       "      <td>0</td>\n",
       "      <td>9</td>\n",
       "    </tr>\n",
       "    <tr>\n",
       "      <th>DL:15.00Mb-UL:3.75Mb</th>\n",
       "      <td>0</td>\n",
       "      <td>4</td>\n",
       "    </tr>\n",
       "    <tr>\n",
       "      <th>DL:18.00Mb-UL:4.50Mb</th>\n",
       "      <td>1</td>\n",
       "      <td>7</td>\n",
       "    </tr>\n",
       "    <tr>\n",
       "      <th>DL:21.00Mb-UL:5.25Mb</th>\n",
       "      <td>1</td>\n",
       "      <td>6</td>\n",
       "    </tr>\n",
       "  </tbody>\n",
       "</table>\n",
       "</div>"
      ],
      "text/plain": [
       "                      cump_bajada  cump_subida\n",
       "BANDA_x                                       \n",
       "DL:12.00Mb-UL:3.00Mb            0            9\n",
       "DL:15.00Mb-UL:3.75Mb            0            4\n",
       "DL:18.00Mb-UL:4.50Mb            1            7\n",
       "DL:21.00Mb-UL:5.25Mb            1            6"
      ]
     },
     "execution_count": 117,
     "metadata": {},
     "output_type": "execute_result"
    }
   ],
   "source": [
    "res_franjas_aleatorio.groupby('BANDA_x')['cump_bajada','cump_subida'].sum()"
   ]
  },
  {
   "cell_type": "code",
   "execution_count": 118,
   "id": "796410b4",
   "metadata": {
    "scrolled": true
   },
   "outputs": [
    {
     "data": {
      "text/html": [
       "<div>\n",
       "<style scoped>\n",
       "    .dataframe tbody tr th:only-of-type {\n",
       "        vertical-align: middle;\n",
       "    }\n",
       "\n",
       "    .dataframe tbody tr th {\n",
       "        vertical-align: top;\n",
       "    }\n",
       "\n",
       "    .dataframe thead th {\n",
       "        text-align: right;\n",
       "    }\n",
       "</style>\n",
       "<table border=\"1\" class=\"dataframe\">\n",
       "  <thead>\n",
       "    <tr style=\"text-align: right;\">\n",
       "      <th></th>\n",
       "      <th>BANDA_x</th>\n",
       "      <th>HORA</th>\n",
       "      <th>VELOCIDAD_BAJADA</th>\n",
       "      <th>VELOCIDAD_SUBIDA</th>\n",
       "      <th>Lim_bajada</th>\n",
       "      <th>Lim_subida</th>\n",
       "      <th>cump_bajada</th>\n",
       "      <th>cump_subida</th>\n",
       "    </tr>\n",
       "  </thead>\n",
       "  <tbody>\n",
       "    <tr>\n",
       "      <th>0</th>\n",
       "      <td>DL:12.00Mb-UL:3.00Mb</td>\n",
       "      <td>6</td>\n",
       "      <td>9424.7860</td>\n",
       "      <td>2915.8540</td>\n",
       "      <td>12000</td>\n",
       "      <td>3000</td>\n",
       "      <td>0</td>\n",
       "      <td>0</td>\n",
       "    </tr>\n",
       "    <tr>\n",
       "      <th>1</th>\n",
       "      <td>DL:12.00Mb-UL:3.00Mb</td>\n",
       "      <td>7</td>\n",
       "      <td>9881.4020</td>\n",
       "      <td>3111.7840</td>\n",
       "      <td>12000</td>\n",
       "      <td>3000</td>\n",
       "      <td>0</td>\n",
       "      <td>1</td>\n",
       "    </tr>\n",
       "    <tr>\n",
       "      <th>2</th>\n",
       "      <td>DL:12.00Mb-UL:3.00Mb</td>\n",
       "      <td>8</td>\n",
       "      <td>11661.7950</td>\n",
       "      <td>3703.5025</td>\n",
       "      <td>12000</td>\n",
       "      <td>3000</td>\n",
       "      <td>0</td>\n",
       "      <td>1</td>\n",
       "    </tr>\n",
       "    <tr>\n",
       "      <th>3</th>\n",
       "      <td>DL:12.00Mb-UL:3.00Mb</td>\n",
       "      <td>9</td>\n",
       "      <td>13372.7270</td>\n",
       "      <td>3607.1730</td>\n",
       "      <td>12000</td>\n",
       "      <td>3000</td>\n",
       "      <td>1</td>\n",
       "      <td>1</td>\n",
       "    </tr>\n",
       "    <tr>\n",
       "      <th>4</th>\n",
       "      <td>DL:12.00Mb-UL:3.00Mb</td>\n",
       "      <td>10</td>\n",
       "      <td>12501.1550</td>\n",
       "      <td>3777.5690</td>\n",
       "      <td>12000</td>\n",
       "      <td>3000</td>\n",
       "      <td>1</td>\n",
       "      <td>1</td>\n",
       "    </tr>\n",
       "    <tr>\n",
       "      <th>5</th>\n",
       "      <td>DL:12.00Mb-UL:3.00Mb</td>\n",
       "      <td>11</td>\n",
       "      <td>12828.5155</td>\n",
       "      <td>3728.8480</td>\n",
       "      <td>12000</td>\n",
       "      <td>3000</td>\n",
       "      <td>1</td>\n",
       "      <td>1</td>\n",
       "    </tr>\n",
       "    <tr>\n",
       "      <th>6</th>\n",
       "      <td>DL:12.00Mb-UL:3.00Mb</td>\n",
       "      <td>12</td>\n",
       "      <td>13496.0310</td>\n",
       "      <td>3839.6285</td>\n",
       "      <td>12000</td>\n",
       "      <td>3000</td>\n",
       "      <td>1</td>\n",
       "      <td>1</td>\n",
       "    </tr>\n",
       "    <tr>\n",
       "      <th>7</th>\n",
       "      <td>DL:12.00Mb-UL:3.00Mb</td>\n",
       "      <td>13</td>\n",
       "      <td>12321.9150</td>\n",
       "      <td>2719.9320</td>\n",
       "      <td>12000</td>\n",
       "      <td>3000</td>\n",
       "      <td>1</td>\n",
       "      <td>0</td>\n",
       "    </tr>\n",
       "    <tr>\n",
       "      <th>8</th>\n",
       "      <td>DL:12.00Mb-UL:3.00Mb</td>\n",
       "      <td>14</td>\n",
       "      <td>12674.1200</td>\n",
       "      <td>3689.0100</td>\n",
       "      <td>12000</td>\n",
       "      <td>3000</td>\n",
       "      <td>1</td>\n",
       "      <td>1</td>\n",
       "    </tr>\n",
       "    <tr>\n",
       "      <th>9</th>\n",
       "      <td>DL:12.00Mb-UL:3.00Mb</td>\n",
       "      <td>15</td>\n",
       "      <td>13003.3820</td>\n",
       "      <td>3515.2280</td>\n",
       "      <td>12000</td>\n",
       "      <td>3000</td>\n",
       "      <td>1</td>\n",
       "      <td>1</td>\n",
       "    </tr>\n",
       "    <tr>\n",
       "      <th>10</th>\n",
       "      <td>DL:12.00Mb-UL:3.00Mb</td>\n",
       "      <td>16</td>\n",
       "      <td>13279.1180</td>\n",
       "      <td>3532.8525</td>\n",
       "      <td>12000</td>\n",
       "      <td>3000</td>\n",
       "      <td>1</td>\n",
       "      <td>1</td>\n",
       "    </tr>\n",
       "    <tr>\n",
       "      <th>11</th>\n",
       "      <td>DL:12.00Mb-UL:3.00Mb</td>\n",
       "      <td>17</td>\n",
       "      <td>10609.6385</td>\n",
       "      <td>3317.9000</td>\n",
       "      <td>12000</td>\n",
       "      <td>3000</td>\n",
       "      <td>0</td>\n",
       "      <td>1</td>\n",
       "    </tr>\n",
       "    <tr>\n",
       "      <th>12</th>\n",
       "      <td>DL:12.00Mb-UL:3.00Mb</td>\n",
       "      <td>18</td>\n",
       "      <td>10553.7655</td>\n",
       "      <td>3360.6060</td>\n",
       "      <td>12000</td>\n",
       "      <td>3000</td>\n",
       "      <td>0</td>\n",
       "      <td>1</td>\n",
       "    </tr>\n",
       "    <tr>\n",
       "      <th>13</th>\n",
       "      <td>DL:12.00Mb-UL:3.00Mb</td>\n",
       "      <td>19</td>\n",
       "      <td>12598.8530</td>\n",
       "      <td>3518.3460</td>\n",
       "      <td>12000</td>\n",
       "      <td>3000</td>\n",
       "      <td>1</td>\n",
       "      <td>1</td>\n",
       "    </tr>\n",
       "    <tr>\n",
       "      <th>14</th>\n",
       "      <td>DL:12.00Mb-UL:3.00Mb</td>\n",
       "      <td>20</td>\n",
       "      <td>12969.4970</td>\n",
       "      <td>4568.5400</td>\n",
       "      <td>12000</td>\n",
       "      <td>3000</td>\n",
       "      <td>1</td>\n",
       "      <td>1</td>\n",
       "    </tr>\n",
       "    <tr>\n",
       "      <th>15</th>\n",
       "      <td>DL:15.00Mb-UL:3.75Mb</td>\n",
       "      <td>6</td>\n",
       "      <td>13724.3405</td>\n",
       "      <td>3414.9260</td>\n",
       "      <td>15000</td>\n",
       "      <td>3750</td>\n",
       "      <td>0</td>\n",
       "      <td>0</td>\n",
       "    </tr>\n",
       "    <tr>\n",
       "      <th>16</th>\n",
       "      <td>DL:15.00Mb-UL:3.75Mb</td>\n",
       "      <td>7</td>\n",
       "      <td>11203.9000</td>\n",
       "      <td>3751.6000</td>\n",
       "      <td>15000</td>\n",
       "      <td>3750</td>\n",
       "      <td>0</td>\n",
       "      <td>1</td>\n",
       "    </tr>\n",
       "    <tr>\n",
       "      <th>17</th>\n",
       "      <td>DL:15.00Mb-UL:3.75Mb</td>\n",
       "      <td>8</td>\n",
       "      <td>13125.7130</td>\n",
       "      <td>4477.8290</td>\n",
       "      <td>15000</td>\n",
       "      <td>3750</td>\n",
       "      <td>0</td>\n",
       "      <td>1</td>\n",
       "    </tr>\n",
       "    <tr>\n",
       "      <th>18</th>\n",
       "      <td>DL:15.00Mb-UL:3.75Mb</td>\n",
       "      <td>9</td>\n",
       "      <td>15125.4680</td>\n",
       "      <td>4186.7700</td>\n",
       "      <td>15000</td>\n",
       "      <td>3750</td>\n",
       "      <td>1</td>\n",
       "      <td>1</td>\n",
       "    </tr>\n",
       "    <tr>\n",
       "      <th>19</th>\n",
       "      <td>DL:15.00Mb-UL:3.75Mb</td>\n",
       "      <td>10</td>\n",
       "      <td>10714.1735</td>\n",
       "      <td>3879.9745</td>\n",
       "      <td>15000</td>\n",
       "      <td>3750</td>\n",
       "      <td>0</td>\n",
       "      <td>1</td>\n",
       "    </tr>\n",
       "    <tr>\n",
       "      <th>20</th>\n",
       "      <td>DL:15.00Mb-UL:3.75Mb</td>\n",
       "      <td>11</td>\n",
       "      <td>11860.6750</td>\n",
       "      <td>3977.4100</td>\n",
       "      <td>15000</td>\n",
       "      <td>3750</td>\n",
       "      <td>0</td>\n",
       "      <td>1</td>\n",
       "    </tr>\n",
       "    <tr>\n",
       "      <th>21</th>\n",
       "      <td>DL:15.00Mb-UL:3.75Mb</td>\n",
       "      <td>12</td>\n",
       "      <td>15580.2940</td>\n",
       "      <td>4564.9600</td>\n",
       "      <td>15000</td>\n",
       "      <td>3750</td>\n",
       "      <td>1</td>\n",
       "      <td>1</td>\n",
       "    </tr>\n",
       "    <tr>\n",
       "      <th>22</th>\n",
       "      <td>DL:15.00Mb-UL:3.75Mb</td>\n",
       "      <td>13</td>\n",
       "      <td>14981.7220</td>\n",
       "      <td>5586.3300</td>\n",
       "      <td>15000</td>\n",
       "      <td>3750</td>\n",
       "      <td>0</td>\n",
       "      <td>1</td>\n",
       "    </tr>\n",
       "    <tr>\n",
       "      <th>23</th>\n",
       "      <td>DL:15.00Mb-UL:3.75Mb</td>\n",
       "      <td>14</td>\n",
       "      <td>11410.9400</td>\n",
       "      <td>4781.1990</td>\n",
       "      <td>15000</td>\n",
       "      <td>3750</td>\n",
       "      <td>0</td>\n",
       "      <td>1</td>\n",
       "    </tr>\n",
       "    <tr>\n",
       "      <th>24</th>\n",
       "      <td>DL:15.00Mb-UL:3.75Mb</td>\n",
       "      <td>15</td>\n",
       "      <td>6947.5500</td>\n",
       "      <td>4219.5875</td>\n",
       "      <td>15000</td>\n",
       "      <td>3750</td>\n",
       "      <td>0</td>\n",
       "      <td>1</td>\n",
       "    </tr>\n",
       "    <tr>\n",
       "      <th>25</th>\n",
       "      <td>DL:15.00Mb-UL:3.75Mb</td>\n",
       "      <td>16</td>\n",
       "      <td>12922.4700</td>\n",
       "      <td>4492.1100</td>\n",
       "      <td>15000</td>\n",
       "      <td>3750</td>\n",
       "      <td>0</td>\n",
       "      <td>1</td>\n",
       "    </tr>\n",
       "    <tr>\n",
       "      <th>26</th>\n",
       "      <td>DL:15.00Mb-UL:3.75Mb</td>\n",
       "      <td>17</td>\n",
       "      <td>11278.0340</td>\n",
       "      <td>4578.0440</td>\n",
       "      <td>15000</td>\n",
       "      <td>3750</td>\n",
       "      <td>0</td>\n",
       "      <td>1</td>\n",
       "    </tr>\n",
       "    <tr>\n",
       "      <th>27</th>\n",
       "      <td>DL:15.00Mb-UL:3.75Mb</td>\n",
       "      <td>18</td>\n",
       "      <td>11583.3490</td>\n",
       "      <td>5297.0400</td>\n",
       "      <td>15000</td>\n",
       "      <td>3750</td>\n",
       "      <td>0</td>\n",
       "      <td>1</td>\n",
       "    </tr>\n",
       "    <tr>\n",
       "      <th>28</th>\n",
       "      <td>DL:15.00Mb-UL:3.75Mb</td>\n",
       "      <td>19</td>\n",
       "      <td>14533.3675</td>\n",
       "      <td>6390.8840</td>\n",
       "      <td>15000</td>\n",
       "      <td>3750</td>\n",
       "      <td>0</td>\n",
       "      <td>1</td>\n",
       "    </tr>\n",
       "    <tr>\n",
       "      <th>29</th>\n",
       "      <td>DL:15.00Mb-UL:3.75Mb</td>\n",
       "      <td>20</td>\n",
       "      <td>16030.3695</td>\n",
       "      <td>5914.6885</td>\n",
       "      <td>15000</td>\n",
       "      <td>3750</td>\n",
       "      <td>1</td>\n",
       "      <td>1</td>\n",
       "    </tr>\n",
       "    <tr>\n",
       "      <th>30</th>\n",
       "      <td>DL:18.00Mb-UL:4.50Mb</td>\n",
       "      <td>6</td>\n",
       "      <td>16038.8660</td>\n",
       "      <td>5327.3420</td>\n",
       "      <td>18000</td>\n",
       "      <td>4500</td>\n",
       "      <td>0</td>\n",
       "      <td>1</td>\n",
       "    </tr>\n",
       "    <tr>\n",
       "      <th>31</th>\n",
       "      <td>DL:18.00Mb-UL:4.50Mb</td>\n",
       "      <td>7</td>\n",
       "      <td>15789.1780</td>\n",
       "      <td>5675.5375</td>\n",
       "      <td>18000</td>\n",
       "      <td>4500</td>\n",
       "      <td>0</td>\n",
       "      <td>1</td>\n",
       "    </tr>\n",
       "    <tr>\n",
       "      <th>32</th>\n",
       "      <td>DL:18.00Mb-UL:4.50Mb</td>\n",
       "      <td>8</td>\n",
       "      <td>11532.7880</td>\n",
       "      <td>6001.0410</td>\n",
       "      <td>18000</td>\n",
       "      <td>4500</td>\n",
       "      <td>0</td>\n",
       "      <td>1</td>\n",
       "    </tr>\n",
       "    <tr>\n",
       "      <th>33</th>\n",
       "      <td>DL:18.00Mb-UL:4.50Mb</td>\n",
       "      <td>9</td>\n",
       "      <td>9996.8800</td>\n",
       "      <td>5832.8300</td>\n",
       "      <td>18000</td>\n",
       "      <td>4500</td>\n",
       "      <td>0</td>\n",
       "      <td>1</td>\n",
       "    </tr>\n",
       "    <tr>\n",
       "      <th>34</th>\n",
       "      <td>DL:18.00Mb-UL:4.50Mb</td>\n",
       "      <td>10</td>\n",
       "      <td>18966.4410</td>\n",
       "      <td>6821.3250</td>\n",
       "      <td>18000</td>\n",
       "      <td>4500</td>\n",
       "      <td>1</td>\n",
       "      <td>1</td>\n",
       "    </tr>\n",
       "    <tr>\n",
       "      <th>35</th>\n",
       "      <td>DL:18.00Mb-UL:4.50Mb</td>\n",
       "      <td>11</td>\n",
       "      <td>16290.5640</td>\n",
       "      <td>3345.9770</td>\n",
       "      <td>18000</td>\n",
       "      <td>4500</td>\n",
       "      <td>0</td>\n",
       "      <td>0</td>\n",
       "    </tr>\n",
       "    <tr>\n",
       "      <th>36</th>\n",
       "      <td>DL:18.00Mb-UL:4.50Mb</td>\n",
       "      <td>12</td>\n",
       "      <td>17530.8625</td>\n",
       "      <td>6667.0740</td>\n",
       "      <td>18000</td>\n",
       "      <td>4500</td>\n",
       "      <td>0</td>\n",
       "      <td>1</td>\n",
       "    </tr>\n",
       "    <tr>\n",
       "      <th>37</th>\n",
       "      <td>DL:18.00Mb-UL:4.50Mb</td>\n",
       "      <td>13</td>\n",
       "      <td>16245.5475</td>\n",
       "      <td>5074.6925</td>\n",
       "      <td>18000</td>\n",
       "      <td>4500</td>\n",
       "      <td>0</td>\n",
       "      <td>1</td>\n",
       "    </tr>\n",
       "    <tr>\n",
       "      <th>38</th>\n",
       "      <td>DL:18.00Mb-UL:4.50Mb</td>\n",
       "      <td>14</td>\n",
       "      <td>18286.6880</td>\n",
       "      <td>6387.2000</td>\n",
       "      <td>18000</td>\n",
       "      <td>4500</td>\n",
       "      <td>1</td>\n",
       "      <td>1</td>\n",
       "    </tr>\n",
       "    <tr>\n",
       "      <th>39</th>\n",
       "      <td>DL:18.00Mb-UL:4.50Mb</td>\n",
       "      <td>15</td>\n",
       "      <td>18286.4400</td>\n",
       "      <td>7555.5225</td>\n",
       "      <td>18000</td>\n",
       "      <td>4500</td>\n",
       "      <td>1</td>\n",
       "      <td>1</td>\n",
       "    </tr>\n",
       "    <tr>\n",
       "      <th>40</th>\n",
       "      <td>DL:18.00Mb-UL:4.50Mb</td>\n",
       "      <td>16</td>\n",
       "      <td>18945.3320</td>\n",
       "      <td>7338.7150</td>\n",
       "      <td>18000</td>\n",
       "      <td>4500</td>\n",
       "      <td>1</td>\n",
       "      <td>1</td>\n",
       "    </tr>\n",
       "    <tr>\n",
       "      <th>41</th>\n",
       "      <td>DL:18.00Mb-UL:4.50Mb</td>\n",
       "      <td>17</td>\n",
       "      <td>19307.3330</td>\n",
       "      <td>8048.5370</td>\n",
       "      <td>18000</td>\n",
       "      <td>4500</td>\n",
       "      <td>1</td>\n",
       "      <td>1</td>\n",
       "    </tr>\n",
       "    <tr>\n",
       "      <th>42</th>\n",
       "      <td>DL:18.00Mb-UL:4.50Mb</td>\n",
       "      <td>18</td>\n",
       "      <td>19676.1475</td>\n",
       "      <td>6650.4225</td>\n",
       "      <td>18000</td>\n",
       "      <td>4500</td>\n",
       "      <td>1</td>\n",
       "      <td>1</td>\n",
       "    </tr>\n",
       "    <tr>\n",
       "      <th>43</th>\n",
       "      <td>DL:18.00Mb-UL:4.50Mb</td>\n",
       "      <td>19</td>\n",
       "      <td>16874.3145</td>\n",
       "      <td>5293.8515</td>\n",
       "      <td>18000</td>\n",
       "      <td>4500</td>\n",
       "      <td>0</td>\n",
       "      <td>1</td>\n",
       "    </tr>\n",
       "    <tr>\n",
       "      <th>44</th>\n",
       "      <td>DL:18.00Mb-UL:4.50Mb</td>\n",
       "      <td>20</td>\n",
       "      <td>18678.9920</td>\n",
       "      <td>6502.1420</td>\n",
       "      <td>18000</td>\n",
       "      <td>4500</td>\n",
       "      <td>1</td>\n",
       "      <td>1</td>\n",
       "    </tr>\n",
       "    <tr>\n",
       "      <th>45</th>\n",
       "      <td>DL:21.00Mb-UL:5.25Mb</td>\n",
       "      <td>6</td>\n",
       "      <td>11701.3965</td>\n",
       "      <td>6331.5210</td>\n",
       "      <td>21000</td>\n",
       "      <td>5250</td>\n",
       "      <td>0</td>\n",
       "      <td>1</td>\n",
       "    </tr>\n",
       "    <tr>\n",
       "      <th>46</th>\n",
       "      <td>DL:21.00Mb-UL:5.25Mb</td>\n",
       "      <td>7</td>\n",
       "      <td>15147.3500</td>\n",
       "      <td>2765.2850</td>\n",
       "      <td>21000</td>\n",
       "      <td>5250</td>\n",
       "      <td>0</td>\n",
       "      <td>0</td>\n",
       "    </tr>\n",
       "    <tr>\n",
       "      <th>47</th>\n",
       "      <td>DL:21.00Mb-UL:5.25Mb</td>\n",
       "      <td>8</td>\n",
       "      <td>12853.9800</td>\n",
       "      <td>5659.9500</td>\n",
       "      <td>21000</td>\n",
       "      <td>5250</td>\n",
       "      <td>0</td>\n",
       "      <td>1</td>\n",
       "    </tr>\n",
       "    <tr>\n",
       "      <th>48</th>\n",
       "      <td>DL:21.00Mb-UL:5.25Mb</td>\n",
       "      <td>9</td>\n",
       "      <td>12330.2480</td>\n",
       "      <td>7243.5530</td>\n",
       "      <td>21000</td>\n",
       "      <td>5250</td>\n",
       "      <td>0</td>\n",
       "      <td>1</td>\n",
       "    </tr>\n",
       "    <tr>\n",
       "      <th>49</th>\n",
       "      <td>DL:21.00Mb-UL:5.25Mb</td>\n",
       "      <td>10</td>\n",
       "      <td>12938.8880</td>\n",
       "      <td>6492.6240</td>\n",
       "      <td>21000</td>\n",
       "      <td>5250</td>\n",
       "      <td>0</td>\n",
       "      <td>1</td>\n",
       "    </tr>\n",
       "    <tr>\n",
       "      <th>50</th>\n",
       "      <td>DL:21.00Mb-UL:5.25Mb</td>\n",
       "      <td>11</td>\n",
       "      <td>15930.6690</td>\n",
       "      <td>3994.5690</td>\n",
       "      <td>21000</td>\n",
       "      <td>5250</td>\n",
       "      <td>0</td>\n",
       "      <td>0</td>\n",
       "    </tr>\n",
       "    <tr>\n",
       "      <th>51</th>\n",
       "      <td>DL:21.00Mb-UL:5.25Mb</td>\n",
       "      <td>12</td>\n",
       "      <td>12782.0710</td>\n",
       "      <td>6167.2730</td>\n",
       "      <td>21000</td>\n",
       "      <td>5250</td>\n",
       "      <td>0</td>\n",
       "      <td>1</td>\n",
       "    </tr>\n",
       "    <tr>\n",
       "      <th>52</th>\n",
       "      <td>DL:21.00Mb-UL:5.25Mb</td>\n",
       "      <td>13</td>\n",
       "      <td>20598.1670</td>\n",
       "      <td>6456.0005</td>\n",
       "      <td>21000</td>\n",
       "      <td>5250</td>\n",
       "      <td>0</td>\n",
       "      <td>1</td>\n",
       "    </tr>\n",
       "    <tr>\n",
       "      <th>53</th>\n",
       "      <td>DL:21.00Mb-UL:5.25Mb</td>\n",
       "      <td>14</td>\n",
       "      <td>21086.3920</td>\n",
       "      <td>6825.8790</td>\n",
       "      <td>21000</td>\n",
       "      <td>5250</td>\n",
       "      <td>1</td>\n",
       "      <td>1</td>\n",
       "    </tr>\n",
       "    <tr>\n",
       "      <th>54</th>\n",
       "      <td>DL:21.00Mb-UL:5.25Mb</td>\n",
       "      <td>15</td>\n",
       "      <td>19164.6530</td>\n",
       "      <td>6588.9090</td>\n",
       "      <td>21000</td>\n",
       "      <td>5250</td>\n",
       "      <td>0</td>\n",
       "      <td>1</td>\n",
       "    </tr>\n",
       "    <tr>\n",
       "      <th>55</th>\n",
       "      <td>DL:21.00Mb-UL:5.25Mb</td>\n",
       "      <td>16</td>\n",
       "      <td>19006.6780</td>\n",
       "      <td>6157.5920</td>\n",
       "      <td>21000</td>\n",
       "      <td>5250</td>\n",
       "      <td>0</td>\n",
       "      <td>1</td>\n",
       "    </tr>\n",
       "    <tr>\n",
       "      <th>56</th>\n",
       "      <td>DL:21.00Mb-UL:5.25Mb</td>\n",
       "      <td>17</td>\n",
       "      <td>21978.2420</td>\n",
       "      <td>8366.4260</td>\n",
       "      <td>21000</td>\n",
       "      <td>5250</td>\n",
       "      <td>1</td>\n",
       "      <td>1</td>\n",
       "    </tr>\n",
       "    <tr>\n",
       "      <th>57</th>\n",
       "      <td>DL:21.00Mb-UL:5.25Mb</td>\n",
       "      <td>18</td>\n",
       "      <td>17050.5380</td>\n",
       "      <td>6465.1790</td>\n",
       "      <td>21000</td>\n",
       "      <td>5250</td>\n",
       "      <td>0</td>\n",
       "      <td>1</td>\n",
       "    </tr>\n",
       "    <tr>\n",
       "      <th>58</th>\n",
       "      <td>DL:21.00Mb-UL:5.25Mb</td>\n",
       "      <td>19</td>\n",
       "      <td>20752.1730</td>\n",
       "      <td>6822.7070</td>\n",
       "      <td>21000</td>\n",
       "      <td>5250</td>\n",
       "      <td>0</td>\n",
       "      <td>1</td>\n",
       "    </tr>\n",
       "    <tr>\n",
       "      <th>59</th>\n",
       "      <td>DL:21.00Mb-UL:5.25Mb</td>\n",
       "      <td>20</td>\n",
       "      <td>16676.3265</td>\n",
       "      <td>6314.2575</td>\n",
       "      <td>21000</td>\n",
       "      <td>5250</td>\n",
       "      <td>0</td>\n",
       "      <td>1</td>\n",
       "    </tr>\n",
       "  </tbody>\n",
       "</table>\n",
       "</div>"
      ],
      "text/plain": [
       "                 BANDA_x  HORA  VELOCIDAD_BAJADA  VELOCIDAD_SUBIDA  \\\n",
       "0   DL:12.00Mb-UL:3.00Mb     6         9424.7860         2915.8540   \n",
       "1   DL:12.00Mb-UL:3.00Mb     7         9881.4020         3111.7840   \n",
       "2   DL:12.00Mb-UL:3.00Mb     8        11661.7950         3703.5025   \n",
       "3   DL:12.00Mb-UL:3.00Mb     9        13372.7270         3607.1730   \n",
       "4   DL:12.00Mb-UL:3.00Mb    10        12501.1550         3777.5690   \n",
       "5   DL:12.00Mb-UL:3.00Mb    11        12828.5155         3728.8480   \n",
       "6   DL:12.00Mb-UL:3.00Mb    12        13496.0310         3839.6285   \n",
       "7   DL:12.00Mb-UL:3.00Mb    13        12321.9150         2719.9320   \n",
       "8   DL:12.00Mb-UL:3.00Mb    14        12674.1200         3689.0100   \n",
       "9   DL:12.00Mb-UL:3.00Mb    15        13003.3820         3515.2280   \n",
       "10  DL:12.00Mb-UL:3.00Mb    16        13279.1180         3532.8525   \n",
       "11  DL:12.00Mb-UL:3.00Mb    17        10609.6385         3317.9000   \n",
       "12  DL:12.00Mb-UL:3.00Mb    18        10553.7655         3360.6060   \n",
       "13  DL:12.00Mb-UL:3.00Mb    19        12598.8530         3518.3460   \n",
       "14  DL:12.00Mb-UL:3.00Mb    20        12969.4970         4568.5400   \n",
       "15  DL:15.00Mb-UL:3.75Mb     6        13724.3405         3414.9260   \n",
       "16  DL:15.00Mb-UL:3.75Mb     7        11203.9000         3751.6000   \n",
       "17  DL:15.00Mb-UL:3.75Mb     8        13125.7130         4477.8290   \n",
       "18  DL:15.00Mb-UL:3.75Mb     9        15125.4680         4186.7700   \n",
       "19  DL:15.00Mb-UL:3.75Mb    10        10714.1735         3879.9745   \n",
       "20  DL:15.00Mb-UL:3.75Mb    11        11860.6750         3977.4100   \n",
       "21  DL:15.00Mb-UL:3.75Mb    12        15580.2940         4564.9600   \n",
       "22  DL:15.00Mb-UL:3.75Mb    13        14981.7220         5586.3300   \n",
       "23  DL:15.00Mb-UL:3.75Mb    14        11410.9400         4781.1990   \n",
       "24  DL:15.00Mb-UL:3.75Mb    15         6947.5500         4219.5875   \n",
       "25  DL:15.00Mb-UL:3.75Mb    16        12922.4700         4492.1100   \n",
       "26  DL:15.00Mb-UL:3.75Mb    17        11278.0340         4578.0440   \n",
       "27  DL:15.00Mb-UL:3.75Mb    18        11583.3490         5297.0400   \n",
       "28  DL:15.00Mb-UL:3.75Mb    19        14533.3675         6390.8840   \n",
       "29  DL:15.00Mb-UL:3.75Mb    20        16030.3695         5914.6885   \n",
       "30  DL:18.00Mb-UL:4.50Mb     6        16038.8660         5327.3420   \n",
       "31  DL:18.00Mb-UL:4.50Mb     7        15789.1780         5675.5375   \n",
       "32  DL:18.00Mb-UL:4.50Mb     8        11532.7880         6001.0410   \n",
       "33  DL:18.00Mb-UL:4.50Mb     9         9996.8800         5832.8300   \n",
       "34  DL:18.00Mb-UL:4.50Mb    10        18966.4410         6821.3250   \n",
       "35  DL:18.00Mb-UL:4.50Mb    11        16290.5640         3345.9770   \n",
       "36  DL:18.00Mb-UL:4.50Mb    12        17530.8625         6667.0740   \n",
       "37  DL:18.00Mb-UL:4.50Mb    13        16245.5475         5074.6925   \n",
       "38  DL:18.00Mb-UL:4.50Mb    14        18286.6880         6387.2000   \n",
       "39  DL:18.00Mb-UL:4.50Mb    15        18286.4400         7555.5225   \n",
       "40  DL:18.00Mb-UL:4.50Mb    16        18945.3320         7338.7150   \n",
       "41  DL:18.00Mb-UL:4.50Mb    17        19307.3330         8048.5370   \n",
       "42  DL:18.00Mb-UL:4.50Mb    18        19676.1475         6650.4225   \n",
       "43  DL:18.00Mb-UL:4.50Mb    19        16874.3145         5293.8515   \n",
       "44  DL:18.00Mb-UL:4.50Mb    20        18678.9920         6502.1420   \n",
       "45  DL:21.00Mb-UL:5.25Mb     6        11701.3965         6331.5210   \n",
       "46  DL:21.00Mb-UL:5.25Mb     7        15147.3500         2765.2850   \n",
       "47  DL:21.00Mb-UL:5.25Mb     8        12853.9800         5659.9500   \n",
       "48  DL:21.00Mb-UL:5.25Mb     9        12330.2480         7243.5530   \n",
       "49  DL:21.00Mb-UL:5.25Mb    10        12938.8880         6492.6240   \n",
       "50  DL:21.00Mb-UL:5.25Mb    11        15930.6690         3994.5690   \n",
       "51  DL:21.00Mb-UL:5.25Mb    12        12782.0710         6167.2730   \n",
       "52  DL:21.00Mb-UL:5.25Mb    13        20598.1670         6456.0005   \n",
       "53  DL:21.00Mb-UL:5.25Mb    14        21086.3920         6825.8790   \n",
       "54  DL:21.00Mb-UL:5.25Mb    15        19164.6530         6588.9090   \n",
       "55  DL:21.00Mb-UL:5.25Mb    16        19006.6780         6157.5920   \n",
       "56  DL:21.00Mb-UL:5.25Mb    17        21978.2420         8366.4260   \n",
       "57  DL:21.00Mb-UL:5.25Mb    18        17050.5380         6465.1790   \n",
       "58  DL:21.00Mb-UL:5.25Mb    19        20752.1730         6822.7070   \n",
       "59  DL:21.00Mb-UL:5.25Mb    20        16676.3265         6314.2575   \n",
       "\n",
       "    Lim_bajada  Lim_subida  cump_bajada  cump_subida  \n",
       "0        12000        3000            0            0  \n",
       "1        12000        3000            0            1  \n",
       "2        12000        3000            0            1  \n",
       "3        12000        3000            1            1  \n",
       "4        12000        3000            1            1  \n",
       "5        12000        3000            1            1  \n",
       "6        12000        3000            1            1  \n",
       "7        12000        3000            1            0  \n",
       "8        12000        3000            1            1  \n",
       "9        12000        3000            1            1  \n",
       "10       12000        3000            1            1  \n",
       "11       12000        3000            0            1  \n",
       "12       12000        3000            0            1  \n",
       "13       12000        3000            1            1  \n",
       "14       12000        3000            1            1  \n",
       "15       15000        3750            0            0  \n",
       "16       15000        3750            0            1  \n",
       "17       15000        3750            0            1  \n",
       "18       15000        3750            1            1  \n",
       "19       15000        3750            0            1  \n",
       "20       15000        3750            0            1  \n",
       "21       15000        3750            1            1  \n",
       "22       15000        3750            0            1  \n",
       "23       15000        3750            0            1  \n",
       "24       15000        3750            0            1  \n",
       "25       15000        3750            0            1  \n",
       "26       15000        3750            0            1  \n",
       "27       15000        3750            0            1  \n",
       "28       15000        3750            0            1  \n",
       "29       15000        3750            1            1  \n",
       "30       18000        4500            0            1  \n",
       "31       18000        4500            0            1  \n",
       "32       18000        4500            0            1  \n",
       "33       18000        4500            0            1  \n",
       "34       18000        4500            1            1  \n",
       "35       18000        4500            0            0  \n",
       "36       18000        4500            0            1  \n",
       "37       18000        4500            0            1  \n",
       "38       18000        4500            1            1  \n",
       "39       18000        4500            1            1  \n",
       "40       18000        4500            1            1  \n",
       "41       18000        4500            1            1  \n",
       "42       18000        4500            1            1  \n",
       "43       18000        4500            0            1  \n",
       "44       18000        4500            1            1  \n",
       "45       21000        5250            0            1  \n",
       "46       21000        5250            0            0  \n",
       "47       21000        5250            0            1  \n",
       "48       21000        5250            0            1  \n",
       "49       21000        5250            0            1  \n",
       "50       21000        5250            0            0  \n",
       "51       21000        5250            0            1  \n",
       "52       21000        5250            0            1  \n",
       "53       21000        5250            1            1  \n",
       "54       21000        5250            0            1  \n",
       "55       21000        5250            0            1  \n",
       "56       21000        5250            1            1  \n",
       "57       21000        5250            0            1  \n",
       "58       21000        5250            0            1  \n",
       "59       21000        5250            0            1  "
      ]
     },
     "execution_count": 118,
     "metadata": {},
     "output_type": "execute_result"
    }
   ],
   "source": [
    "res_franjas_analitica=Resultados_analitica[Resultados_analitica['CONDICION']=='E'].groupby(['BANDA_x','HORA'])['VELOCIDAD_BAJADA','VELOCIDAD_SUBIDA'].quantile(0.05).reset_index()\n",
    "res_franjas_analitica=res_franjas_analitica.merge(dic_cumplimiento,left_on='BANDA_x', right_index=True, how='left')\n",
    "res_franjas_analitica['cump_bajada']=np.where(res_franjas_analitica['VELOCIDAD_BAJADA']>=res_franjas_analitica['Lim_bajada'],1,0)\n",
    "res_franjas_analitica['cump_subida']=np.where(res_franjas_analitica['VELOCIDAD_SUBIDA']>=res_franjas_analitica['Lim_subida'],1,0)\n",
    "res_franjas_analitica"
   ]
  },
  {
   "cell_type": "code",
   "execution_count": 119,
   "id": "2a2fa893",
   "metadata": {},
   "outputs": [
    {
     "data": {
      "text/html": [
       "<div>\n",
       "<style scoped>\n",
       "    .dataframe tbody tr th:only-of-type {\n",
       "        vertical-align: middle;\n",
       "    }\n",
       "\n",
       "    .dataframe tbody tr th {\n",
       "        vertical-align: top;\n",
       "    }\n",
       "\n",
       "    .dataframe thead th {\n",
       "        text-align: right;\n",
       "    }\n",
       "</style>\n",
       "<table border=\"1\" class=\"dataframe\">\n",
       "  <thead>\n",
       "    <tr style=\"text-align: right;\">\n",
       "      <th></th>\n",
       "      <th>cump_bajada</th>\n",
       "      <th>cump_subida</th>\n",
       "    </tr>\n",
       "    <tr>\n",
       "      <th>BANDA_x</th>\n",
       "      <th></th>\n",
       "      <th></th>\n",
       "    </tr>\n",
       "  </thead>\n",
       "  <tbody>\n",
       "    <tr>\n",
       "      <th>DL:12.00Mb-UL:3.00Mb</th>\n",
       "      <td>10</td>\n",
       "      <td>13</td>\n",
       "    </tr>\n",
       "    <tr>\n",
       "      <th>DL:15.00Mb-UL:3.75Mb</th>\n",
       "      <td>3</td>\n",
       "      <td>14</td>\n",
       "    </tr>\n",
       "    <tr>\n",
       "      <th>DL:18.00Mb-UL:4.50Mb</th>\n",
       "      <td>7</td>\n",
       "      <td>14</td>\n",
       "    </tr>\n",
       "    <tr>\n",
       "      <th>DL:21.00Mb-UL:5.25Mb</th>\n",
       "      <td>2</td>\n",
       "      <td>13</td>\n",
       "    </tr>\n",
       "  </tbody>\n",
       "</table>\n",
       "</div>"
      ],
      "text/plain": [
       "                      cump_bajada  cump_subida\n",
       "BANDA_x                                       \n",
       "DL:12.00Mb-UL:3.00Mb           10           13\n",
       "DL:15.00Mb-UL:3.75Mb            3           14\n",
       "DL:18.00Mb-UL:4.50Mb            7           14\n",
       "DL:21.00Mb-UL:5.25Mb            2           13"
      ]
     },
     "execution_count": 119,
     "metadata": {},
     "output_type": "execute_result"
    }
   ],
   "source": [
    "res_franjas_analitica.groupby('BANDA_x')['cump_bajada','cump_subida'].sum()"
   ]
  },
  {
   "cell_type": "code",
   "execution_count": null,
   "id": "123a2725",
   "metadata": {},
   "outputs": [],
   "source": []
  }
 ],
 "metadata": {
  "kernelspec": {
   "display_name": "Python 3",
   "language": "python",
   "name": "python3"
  },
  "language_info": {
   "codemirror_mode": {
    "name": "ipython",
    "version": 3
   },
   "file_extension": ".py",
   "mimetype": "text/x-python",
   "name": "python",
   "nbconvert_exporter": "python",
   "pygments_lexer": "ipython3",
   "version": "3.9.0"
  }
 },
 "nbformat": 4,
 "nbformat_minor": 5
}
